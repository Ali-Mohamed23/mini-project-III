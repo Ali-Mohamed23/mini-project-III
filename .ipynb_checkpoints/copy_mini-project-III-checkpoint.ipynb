{
 "cells": [
  {
   "cell_type": "markdown",
   "metadata": {},
   "source": [
    "## Mini Project III"
   ]
  },
  {
   "cell_type": "code",
   "execution_count": 172,
   "metadata": {},
   "outputs": [],
   "source": [
    "import pandas as pd\n",
    "import numpy as np\n",
    "\n",
    "import matplotlib.pyplot as plt\n",
    "import plotly.express as px\n",
    "import plotly.graph_objs as go\n",
    "import seaborn as sns\n",
    "from sklearn.preprocessing import MinMaxScaler\n",
    "\n",
    "\n",
    "from sklearn.preprocessing import MinMaxScaler, OneHotEncoder, LabelEncoder, StandardScaler\n",
    "from sklearn.cluster import KMeans\n",
    "from sklearn.decomposition import PCA\n",
    "from sklearn.metrics import silhouette_score"
   ]
  },
  {
   "cell_type": "code",
   "execution_count": 173,
   "metadata": {},
   "outputs": [],
   "source": [
    "customers = pd.read_csv('mini-project-csv/twm_customer.csv',\n",
    "                        delimiter=';')"
   ]
  },
  {
   "cell_type": "code",
   "execution_count": 174,
   "metadata": {},
   "outputs": [],
   "source": [
    "### Check how many rows and columns are in the customer dataset"
   ]
  },
  {
   "cell_type": "code",
   "execution_count": 175,
   "metadata": {},
   "outputs": [
    {
     "data": {
      "text/plain": [
       "(747, 15)"
      ]
     },
     "execution_count": 175,
     "metadata": {},
     "output_type": "execute_result"
    }
   ],
   "source": [
    "customers.shape"
   ]
  },
  {
   "cell_type": "code",
   "execution_count": 176,
   "metadata": {},
   "outputs": [],
   "source": [
    "### Check the datatypes for each column "
   ]
  },
  {
   "cell_type": "code",
   "execution_count": 177,
   "metadata": {},
   "outputs": [
    {
     "data": {
      "text/html": [
       "<div>\n",
       "<style scoped>\n",
       "    .dataframe tbody tr th:only-of-type {\n",
       "        vertical-align: middle;\n",
       "    }\n",
       "\n",
       "    .dataframe tbody tr th {\n",
       "        vertical-align: top;\n",
       "    }\n",
       "\n",
       "    .dataframe thead th {\n",
       "        text-align: right;\n",
       "    }\n",
       "</style>\n",
       "<table border=\"1\" class=\"dataframe\">\n",
       "  <thead>\n",
       "    <tr style=\"text-align: right;\">\n",
       "      <th></th>\n",
       "      <th>cust_id</th>\n",
       "      <th>income</th>\n",
       "      <th>age</th>\n",
       "      <th>years_with_bank</th>\n",
       "      <th>nbr_children</th>\n",
       "      <th>gender</th>\n",
       "      <th>marital_status</th>\n",
       "      <th>name_prefix</th>\n",
       "      <th>first_name</th>\n",
       "      <th>last_name</th>\n",
       "      <th>street_nbr</th>\n",
       "      <th>street_name</th>\n",
       "      <th>postal_code</th>\n",
       "      <th>city_name</th>\n",
       "      <th>state_code</th>\n",
       "    </tr>\n",
       "  </thead>\n",
       "  <tbody>\n",
       "    <tr>\n",
       "      <th>0</th>\n",
       "      <td>1362691</td>\n",
       "      <td>26150</td>\n",
       "      <td>46</td>\n",
       "      <td>5</td>\n",
       "      <td>1</td>\n",
       "      <td>M</td>\n",
       "      <td>2</td>\n",
       "      <td></td>\n",
       "      <td>Donald                                        ...</td>\n",
       "      <td>Marek                                         ...</td>\n",
       "      <td>8298</td>\n",
       "      <td>Second                                        ...</td>\n",
       "      <td>89194</td>\n",
       "      <td>Las Vegas</td>\n",
       "      <td>NV</td>\n",
       "    </tr>\n",
       "    <tr>\n",
       "      <th>1</th>\n",
       "      <td>1362487</td>\n",
       "      <td>6605</td>\n",
       "      <td>71</td>\n",
       "      <td>1</td>\n",
       "      <td>0</td>\n",
       "      <td>M</td>\n",
       "      <td>2</td>\n",
       "      <td></td>\n",
       "      <td>ChingDyi                                      ...</td>\n",
       "      <td>Moussavi                                      ...</td>\n",
       "      <td>10603</td>\n",
       "      <td>Daffodil                                      ...</td>\n",
       "      <td>90159</td>\n",
       "      <td>Los Angeles</td>\n",
       "      <td>CA</td>\n",
       "    </tr>\n",
       "    <tr>\n",
       "      <th>2</th>\n",
       "      <td>1363160</td>\n",
       "      <td>18548</td>\n",
       "      <td>38</td>\n",
       "      <td>8</td>\n",
       "      <td>0</td>\n",
       "      <td>F</td>\n",
       "      <td>1</td>\n",
       "      <td></td>\n",
       "      <td>Rosa                                          ...</td>\n",
       "      <td>Johnston                                      ...</td>\n",
       "      <td>8817</td>\n",
       "      <td>Figueroa                                      ...</td>\n",
       "      <td>90024</td>\n",
       "      <td>Los Angeles</td>\n",
       "      <td>CA</td>\n",
       "    </tr>\n",
       "    <tr>\n",
       "      <th>3</th>\n",
       "      <td>1362752</td>\n",
       "      <td>47668</td>\n",
       "      <td>54</td>\n",
       "      <td>3</td>\n",
       "      <td>0</td>\n",
       "      <td>F</td>\n",
       "      <td>1</td>\n",
       "      <td></td>\n",
       "      <td>Lisa                                          ...</td>\n",
       "      <td>Martin                                        ...</td>\n",
       "      <td>676</td>\n",
       "      <td>Humble                                        ...</td>\n",
       "      <td>90172</td>\n",
       "      <td>Los Angeles</td>\n",
       "      <td>CA</td>\n",
       "    </tr>\n",
       "    <tr>\n",
       "      <th>4</th>\n",
       "      <td>1362548</td>\n",
       "      <td>44554</td>\n",
       "      <td>59</td>\n",
       "      <td>9</td>\n",
       "      <td>2</td>\n",
       "      <td>F</td>\n",
       "      <td>4</td>\n",
       "      <td></td>\n",
       "      <td>Barbara                                       ...</td>\n",
       "      <td>O'Malley                                      ...</td>\n",
       "      <td>6578</td>\n",
       "      <td>C                                             ...</td>\n",
       "      <td>10138</td>\n",
       "      <td>New York City</td>\n",
       "      <td>NY</td>\n",
       "    </tr>\n",
       "  </tbody>\n",
       "</table>\n",
       "</div>"
      ],
      "text/plain": [
       "   cust_id  income  age  years_with_bank  nbr_children gender  marital_status  \\\n",
       "0  1362691   26150   46                5             1     M                2   \n",
       "1  1362487    6605   71                1             0     M                2   \n",
       "2  1363160   18548   38                8             0     F                1   \n",
       "3  1362752   47668   54                3             0     F                1   \n",
       "4  1362548   44554   59                9             2     F                4   \n",
       "\n",
       "  name_prefix                                         first_name  \\\n",
       "0              Donald                                        ...   \n",
       "1              ChingDyi                                      ...   \n",
       "2              Rosa                                          ...   \n",
       "3              Lisa                                          ...   \n",
       "4              Barbara                                       ...   \n",
       "\n",
       "                                           last_name  street_nbr  \\\n",
       "0  Marek                                         ...        8298   \n",
       "1  Moussavi                                      ...       10603   \n",
       "2  Johnston                                      ...        8817   \n",
       "3  Martin                                        ...         676   \n",
       "4  O'Malley                                      ...        6578   \n",
       "\n",
       "                                         street_name  postal_code  \\\n",
       "0  Second                                        ...        89194   \n",
       "1  Daffodil                                      ...        90159   \n",
       "2  Figueroa                                      ...        90024   \n",
       "3  Humble                                        ...        90172   \n",
       "4  C                                             ...        10138   \n",
       "\n",
       "                                  city_name state_code  \n",
       "0  Las Vegas                                      NV    \n",
       "1  Los Angeles                                    CA    \n",
       "2  Los Angeles                                    CA    \n",
       "3  Los Angeles                                    CA    \n",
       "4  New York City                                  NY    "
      ]
     },
     "execution_count": 177,
     "metadata": {},
     "output_type": "execute_result"
    }
   ],
   "source": [
    "customers.head()"
   ]
  },
  {
   "cell_type": "code",
   "execution_count": 178,
   "metadata": {},
   "outputs": [],
   "source": [
    "### Check for any null values for the columns"
   ]
  },
  {
   "cell_type": "code",
   "execution_count": 179,
   "metadata": {},
   "outputs": [
    {
     "data": {
      "text/plain": [
       "cust_id            0\n",
       "income             0\n",
       "age                0\n",
       "years_with_bank    0\n",
       "nbr_children       0\n",
       "gender             0\n",
       "marital_status     0\n",
       "name_prefix        0\n",
       "first_name         0\n",
       "last_name          0\n",
       "street_nbr         0\n",
       "street_name        0\n",
       "postal_code        0\n",
       "city_name          0\n",
       "state_code         0\n",
       "dtype: int64"
      ]
     },
     "execution_count": 179,
     "metadata": {},
     "output_type": "execute_result"
    }
   ],
   "source": [
    "customers.isna().sum()"
   ]
  },
  {
   "cell_type": "code",
   "execution_count": 180,
   "metadata": {},
   "outputs": [],
   "source": [
    "### Remove unneccessary columns "
   ]
  },
  {
   "cell_type": "code",
   "execution_count": 181,
   "metadata": {},
   "outputs": [
    {
     "data": {
      "text/plain": [
       "CA      177\n",
       "NY      107\n",
       "TX       83\n",
       "IL       56\n",
       "AZ       24\n",
       "OH       23\n",
       "PA       21\n",
       "TN       18\n",
       "MO       17\n",
       "OR       16\n",
       "OK       16\n",
       "IN       16\n",
       "FL       16\n",
       "WI       15\n",
       "KY       13\n",
       "HI       13\n",
       "MN       13\n",
       "NJ       12\n",
       "CO       11\n",
       "WA        9\n",
       "MI        9\n",
       "NC        9\n",
       "MA        8\n",
       "MD        8\n",
       "NM        7\n",
       "DC        6\n",
       "VA        5\n",
       "AL        4\n",
       "NV        4\n",
       "KS        3\n",
       "NB        3\n",
       "LA        3\n",
       "GA        2\n",
       "Name: state_code, dtype: int64"
      ]
     },
     "execution_count": 181,
     "metadata": {},
     "output_type": "execute_result"
    }
   ],
   "source": [
    "## Check unique states \n",
    "customers['state_code'].value_counts()"
   ]
  },
  {
   "cell_type": "code",
   "execution_count": 182,
   "metadata": {},
   "outputs": [
    {
     "data": {
      "text/plain": [
       "New York City                               98\n",
       "Los Angeles                                 84\n",
       "Chicago                                     56\n",
       "Houston                                     39\n",
       "San Francisco                               23\n",
       "                                            ..\n",
       "Atlanta                                      2\n",
       "Dayton                                       2\n",
       "Arlington                                    1\n",
       "Buffalo                                      1\n",
       "Virginia Beach                               1\n",
       "Name: city_name, Length: 69, dtype: int64"
      ]
     },
     "execution_count": 182,
     "metadata": {},
     "output_type": "execute_result"
    }
   ],
   "source": [
    "### check the distinct city names to decide whether to use in clustered data\n",
    "customers['city_name'].value_counts()"
   ]
  },
  {
   "cell_type": "code",
   "execution_count": 183,
   "metadata": {},
   "outputs": [],
   "source": [
    "demographics = customers[['age', 'years_with_bank','gender','nbr_children', 'marital_status', 'income','state_code','city_name']]"
   ]
  },
  {
   "cell_type": "code",
   "execution_count": 184,
   "metadata": {},
   "outputs": [],
   "source": [
    "df_numeric = customers[['age', 'income','years_with_bank','nbr_children']]"
   ]
  },
  {
   "cell_type": "code",
   "execution_count": 185,
   "metadata": {},
   "outputs": [
    {
     "data": {
      "text/html": [
       "<div>\n",
       "<style scoped>\n",
       "    .dataframe tbody tr th:only-of-type {\n",
       "        vertical-align: middle;\n",
       "    }\n",
       "\n",
       "    .dataframe tbody tr th {\n",
       "        vertical-align: top;\n",
       "    }\n",
       "\n",
       "    .dataframe thead th {\n",
       "        text-align: right;\n",
       "    }\n",
       "</style>\n",
       "<table border=\"1\" class=\"dataframe\">\n",
       "  <thead>\n",
       "    <tr style=\"text-align: right;\">\n",
       "      <th></th>\n",
       "      <th>age</th>\n",
       "      <th>income</th>\n",
       "      <th>years_with_bank</th>\n",
       "      <th>nbr_children</th>\n",
       "    </tr>\n",
       "  </thead>\n",
       "  <tbody>\n",
       "    <tr>\n",
       "      <th>0</th>\n",
       "      <td>46</td>\n",
       "      <td>26150</td>\n",
       "      <td>5</td>\n",
       "      <td>1</td>\n",
       "    </tr>\n",
       "    <tr>\n",
       "      <th>1</th>\n",
       "      <td>71</td>\n",
       "      <td>6605</td>\n",
       "      <td>1</td>\n",
       "      <td>0</td>\n",
       "    </tr>\n",
       "    <tr>\n",
       "      <th>2</th>\n",
       "      <td>38</td>\n",
       "      <td>18548</td>\n",
       "      <td>8</td>\n",
       "      <td>0</td>\n",
       "    </tr>\n",
       "    <tr>\n",
       "      <th>3</th>\n",
       "      <td>54</td>\n",
       "      <td>47668</td>\n",
       "      <td>3</td>\n",
       "      <td>0</td>\n",
       "    </tr>\n",
       "    <tr>\n",
       "      <th>4</th>\n",
       "      <td>59</td>\n",
       "      <td>44554</td>\n",
       "      <td>9</td>\n",
       "      <td>2</td>\n",
       "    </tr>\n",
       "    <tr>\n",
       "      <th>...</th>\n",
       "      <td>...</td>\n",
       "      <td>...</td>\n",
       "      <td>...</td>\n",
       "      <td>...</td>\n",
       "    </tr>\n",
       "    <tr>\n",
       "      <th>742</th>\n",
       "      <td>36</td>\n",
       "      <td>14795</td>\n",
       "      <td>6</td>\n",
       "      <td>1</td>\n",
       "    </tr>\n",
       "    <tr>\n",
       "      <th>743</th>\n",
       "      <td>56</td>\n",
       "      <td>26387</td>\n",
       "      <td>6</td>\n",
       "      <td>1</td>\n",
       "    </tr>\n",
       "    <tr>\n",
       "      <th>744</th>\n",
       "      <td>50</td>\n",
       "      <td>61300</td>\n",
       "      <td>0</td>\n",
       "      <td>2</td>\n",
       "    </tr>\n",
       "    <tr>\n",
       "      <th>745</th>\n",
       "      <td>37</td>\n",
       "      <td>15100</td>\n",
       "      <td>7</td>\n",
       "      <td>0</td>\n",
       "    </tr>\n",
       "    <tr>\n",
       "      <th>746</th>\n",
       "      <td>18</td>\n",
       "      <td>17875</td>\n",
       "      <td>3</td>\n",
       "      <td>0</td>\n",
       "    </tr>\n",
       "  </tbody>\n",
       "</table>\n",
       "<p>747 rows × 4 columns</p>\n",
       "</div>"
      ],
      "text/plain": [
       "     age  income  years_with_bank  nbr_children\n",
       "0     46   26150                5             1\n",
       "1     71    6605                1             0\n",
       "2     38   18548                8             0\n",
       "3     54   47668                3             0\n",
       "4     59   44554                9             2\n",
       "..   ...     ...              ...           ...\n",
       "742   36   14795                6             1\n",
       "743   56   26387                6             1\n",
       "744   50   61300                0             2\n",
       "745   37   15100                7             0\n",
       "746   18   17875                3             0\n",
       "\n",
       "[747 rows x 4 columns]"
      ]
     },
     "execution_count": 185,
     "metadata": {},
     "output_type": "execute_result"
    }
   ],
   "source": [
    "df_numeric"
   ]
  },
  {
   "cell_type": "code",
   "execution_count": 186,
   "metadata": {},
   "outputs": [
    {
     "data": {
      "text/plain": [
       "<AxesSubplot:xlabel='age', ylabel='Count'>"
      ]
     },
     "execution_count": 186,
     "metadata": {},
     "output_type": "execute_result"
    },
    {
     "data": {
      "image/png": "[encoded data removed]",
      "text/plain": [
       "<Figure size 640x480 with 1 Axes>"
      ]
     },
     "metadata": {},
     "output_type": "display_data"
    }
   ],
   "source": [
    "# Check to see if numeric data is normally distributed \n",
    "sns.histplot(data=df_numeric['age'])"
   ]
  },
  {
   "cell_type": "code",
   "execution_count": 187,
   "metadata": {},
   "outputs": [
    {
     "data": {
      "text/plain": [
       "<AxesSubplot:xlabel='income', ylabel='Count'>"
      ]
     },
     "execution_count": 187,
     "metadata": {},
     "output_type": "execute_result"
    },
    {
     "data": {
      "image/png": "[encoded data removed]",
      "text/plain": [
       "<Figure size 640x480 with 1 Axes>"
      ]
     },
     "metadata": {},
     "output_type": "display_data"
    }
   ],
   "source": [
    "# Check to see if income is normally distributed\n",
    "sns.histplot(data=df_numeric['income'])"
   ]
  },
  {
   "cell_type": "code",
   "execution_count": 188,
   "metadata": {},
   "outputs": [],
   "source": [
    "# Scale our numeric data age and income\n",
    "scaler = StandardScaler()\n",
    "df_numeric_scaled = pd.DataFrame(scaler.fit_transform(df_numeric))"
   ]
  },
  {
   "cell_type": "code",
   "execution_count": 189,
   "metadata": {},
   "outputs": [],
   "source": [
    "# Min Max Scaler \n",
    "mmscaler = MinMaxScaler()\n",
    "df_numeric_scaled_mm = pd.DataFrame(mmscaler.fit_transform(df_numeric))\n",
    "# Add column names to our scaled dataframe\n",
    "df_numeric_scaled_mm.columns = df_numeric.columns"
   ]
  },
  {
   "cell_type": "code",
   "execution_count": 190,
   "metadata": {},
   "outputs": [],
   "source": [
    "# Add column names to our scaled dataframe\n",
    "df_numeric_scaled.columns = df_numeric.columns"
   ]
  },
  {
   "cell_type": "code",
   "execution_count": 191,
   "metadata": {},
   "outputs": [
    {
     "data": {
      "text/html": [
       "<div>\n",
       "<style scoped>\n",
       "    .dataframe tbody tr th:only-of-type {\n",
       "        vertical-align: middle;\n",
       "    }\n",
       "\n",
       "    .dataframe tbody tr th {\n",
       "        vertical-align: top;\n",
       "    }\n",
       "\n",
       "    .dataframe thead th {\n",
       "        text-align: right;\n",
       "    }\n",
       "</style>\n",
       "<table border=\"1\" class=\"dataframe\">\n",
       "  <thead>\n",
       "    <tr style=\"text-align: right;\">\n",
       "      <th></th>\n",
       "      <th>age</th>\n",
       "      <th>income</th>\n",
       "      <th>years_with_bank</th>\n",
       "      <th>nbr_children</th>\n",
       "    </tr>\n",
       "  </thead>\n",
       "  <tbody>\n",
       "    <tr>\n",
       "      <th>0</th>\n",
       "      <td>0.434211</td>\n",
       "      <td>0.181399</td>\n",
       "      <td>0.555556</td>\n",
       "      <td>0.2</td>\n",
       "    </tr>\n",
       "    <tr>\n",
       "      <th>1</th>\n",
       "      <td>0.763158</td>\n",
       "      <td>0.045818</td>\n",
       "      <td>0.111111</td>\n",
       "      <td>0.0</td>\n",
       "    </tr>\n",
       "    <tr>\n",
       "      <th>2</th>\n",
       "      <td>0.328947</td>\n",
       "      <td>0.128665</td>\n",
       "      <td>0.888889</td>\n",
       "      <td>0.0</td>\n",
       "    </tr>\n",
       "    <tr>\n",
       "      <th>3</th>\n",
       "      <td>0.539474</td>\n",
       "      <td>0.330667</td>\n",
       "      <td>0.333333</td>\n",
       "      <td>0.0</td>\n",
       "    </tr>\n",
       "    <tr>\n",
       "      <th>4</th>\n",
       "      <td>0.605263</td>\n",
       "      <td>0.309066</td>\n",
       "      <td>1.000000</td>\n",
       "      <td>0.4</td>\n",
       "    </tr>\n",
       "    <tr>\n",
       "      <th>...</th>\n",
       "      <td>...</td>\n",
       "      <td>...</td>\n",
       "      <td>...</td>\n",
       "      <td>...</td>\n",
       "    </tr>\n",
       "    <tr>\n",
       "      <th>742</th>\n",
       "      <td>0.302632</td>\n",
       "      <td>0.102631</td>\n",
       "      <td>0.666667</td>\n",
       "      <td>0.2</td>\n",
       "    </tr>\n",
       "    <tr>\n",
       "      <th>743</th>\n",
       "      <td>0.565789</td>\n",
       "      <td>0.183043</td>\n",
       "      <td>0.666667</td>\n",
       "      <td>0.2</td>\n",
       "    </tr>\n",
       "    <tr>\n",
       "      <th>744</th>\n",
       "      <td>0.486842</td>\n",
       "      <td>0.425231</td>\n",
       "      <td>0.000000</td>\n",
       "      <td>0.4</td>\n",
       "    </tr>\n",
       "    <tr>\n",
       "      <th>745</th>\n",
       "      <td>0.315789</td>\n",
       "      <td>0.104747</td>\n",
       "      <td>0.777778</td>\n",
       "      <td>0.0</td>\n",
       "    </tr>\n",
       "    <tr>\n",
       "      <th>746</th>\n",
       "      <td>0.065789</td>\n",
       "      <td>0.123997</td>\n",
       "      <td>0.333333</td>\n",
       "      <td>0.0</td>\n",
       "    </tr>\n",
       "  </tbody>\n",
       "</table>\n",
       "<p>747 rows × 4 columns</p>\n",
       "</div>"
      ],
      "text/plain": [
       "          age    income  years_with_bank  nbr_children\n",
       "0    0.434211  0.181399         0.555556           0.2\n",
       "1    0.763158  0.045818         0.111111           0.0\n",
       "2    0.328947  0.128665         0.888889           0.0\n",
       "3    0.539474  0.330667         0.333333           0.0\n",
       "4    0.605263  0.309066         1.000000           0.4\n",
       "..        ...       ...              ...           ...\n",
       "742  0.302632  0.102631         0.666667           0.2\n",
       "743  0.565789  0.183043         0.666667           0.2\n",
       "744  0.486842  0.425231         0.000000           0.4\n",
       "745  0.315789  0.104747         0.777778           0.0\n",
       "746  0.065789  0.123997         0.333333           0.0\n",
       "\n",
       "[747 rows x 4 columns]"
      ]
     },
     "execution_count": 191,
     "metadata": {},
     "output_type": "execute_result"
    }
   ],
   "source": [
    "df_numeric_scaled_mm"
   ]
  },
  {
   "cell_type": "code",
   "execution_count": 192,
   "metadata": {},
   "outputs": [],
   "source": [
    "# Create dataframe for our categorical columns \n",
    "df_categorical = customers[['gender', 'marital_status', 'state_code', 'city_name']]"
   ]
  },
  {
   "cell_type": "code",
   "execution_count": 193,
   "metadata": {},
   "outputs": [
    {
     "data": {
      "text/html": [
       "<div>\n",
       "<style scoped>\n",
       "    .dataframe tbody tr th:only-of-type {\n",
       "        vertical-align: middle;\n",
       "    }\n",
       "\n",
       "    .dataframe tbody tr th {\n",
       "        vertical-align: top;\n",
       "    }\n",
       "\n",
       "    .dataframe thead th {\n",
       "        text-align: right;\n",
       "    }\n",
       "</style>\n",
       "<table border=\"1\" class=\"dataframe\">\n",
       "  <thead>\n",
       "    <tr style=\"text-align: right;\">\n",
       "      <th></th>\n",
       "      <th>gender</th>\n",
       "      <th>marital_status</th>\n",
       "      <th>state_code</th>\n",
       "      <th>city_name</th>\n",
       "    </tr>\n",
       "  </thead>\n",
       "  <tbody>\n",
       "    <tr>\n",
       "      <th>0</th>\n",
       "      <td>M</td>\n",
       "      <td>2</td>\n",
       "      <td>NV</td>\n",
       "      <td>Las Vegas</td>\n",
       "    </tr>\n",
       "    <tr>\n",
       "      <th>1</th>\n",
       "      <td>M</td>\n",
       "      <td>2</td>\n",
       "      <td>CA</td>\n",
       "      <td>Los Angeles</td>\n",
       "    </tr>\n",
       "    <tr>\n",
       "      <th>2</th>\n",
       "      <td>F</td>\n",
       "      <td>1</td>\n",
       "      <td>CA</td>\n",
       "      <td>Los Angeles</td>\n",
       "    </tr>\n",
       "    <tr>\n",
       "      <th>3</th>\n",
       "      <td>F</td>\n",
       "      <td>1</td>\n",
       "      <td>CA</td>\n",
       "      <td>Los Angeles</td>\n",
       "    </tr>\n",
       "    <tr>\n",
       "      <th>4</th>\n",
       "      <td>F</td>\n",
       "      <td>4</td>\n",
       "      <td>NY</td>\n",
       "      <td>New York City</td>\n",
       "    </tr>\n",
       "    <tr>\n",
       "      <th>...</th>\n",
       "      <td>...</td>\n",
       "      <td>...</td>\n",
       "      <td>...</td>\n",
       "      <td>...</td>\n",
       "    </tr>\n",
       "    <tr>\n",
       "      <th>742</th>\n",
       "      <td>F</td>\n",
       "      <td>4</td>\n",
       "      <td>CA</td>\n",
       "      <td>Los Angeles</td>\n",
       "    </tr>\n",
       "    <tr>\n",
       "      <th>743</th>\n",
       "      <td>M</td>\n",
       "      <td>2</td>\n",
       "      <td>NY</td>\n",
       "      <td>New York City</td>\n",
       "    </tr>\n",
       "    <tr>\n",
       "      <th>744</th>\n",
       "      <td>M</td>\n",
       "      <td>2</td>\n",
       "      <td>NM</td>\n",
       "      <td>Albuquerque</td>\n",
       "    </tr>\n",
       "    <tr>\n",
       "      <th>745</th>\n",
       "      <td>F</td>\n",
       "      <td>2</td>\n",
       "      <td>AL</td>\n",
       "      <td>Birmingham</td>\n",
       "    </tr>\n",
       "    <tr>\n",
       "      <th>746</th>\n",
       "      <td>F</td>\n",
       "      <td>1</td>\n",
       "      <td>CA</td>\n",
       "      <td>Los Angeles</td>\n",
       "    </tr>\n",
       "  </tbody>\n",
       "</table>\n",
       "<p>747 rows × 4 columns</p>\n",
       "</div>"
      ],
      "text/plain": [
       "    gender  marital_status state_code  \\\n",
       "0       M                2       NV     \n",
       "1       M                2       CA     \n",
       "2       F                1       CA     \n",
       "3       F                1       CA     \n",
       "4       F                4       NY     \n",
       "..     ...             ...        ...   \n",
       "742     F                4       CA     \n",
       "743     M                2       NY     \n",
       "744     M                2       NM     \n",
       "745     F                2       AL     \n",
       "746     F                1       CA     \n",
       "\n",
       "                                    city_name  \n",
       "0    Las Vegas                                 \n",
       "1    Los Angeles                               \n",
       "2    Los Angeles                               \n",
       "3    Los Angeles                               \n",
       "4    New York City                             \n",
       "..                                        ...  \n",
       "742  Los Angeles                               \n",
       "743  New York City                             \n",
       "744  Albuquerque                               \n",
       "745  Birmingham                                \n",
       "746  Los Angeles                               \n",
       "\n",
       "[747 rows x 4 columns]"
      ]
     },
     "execution_count": 193,
     "metadata": {},
     "output_type": "execute_result"
    }
   ],
   "source": [
    "df_categorical"
   ]
  },
  {
   "cell_type": "code",
   "execution_count": 194,
   "metadata": {},
   "outputs": [],
   "source": [
    "df_dummy = pd.get_dummies(df_categorical)"
   ]
  },
  {
   "cell_type": "code",
   "execution_count": 195,
   "metadata": {},
   "outputs": [
    {
     "data": {
      "text/html": [
       "<div>\n",
       "<style scoped>\n",
       "    .dataframe tbody tr th:only-of-type {\n",
       "        vertical-align: middle;\n",
       "    }\n",
       "\n",
       "    .dataframe tbody tr th {\n",
       "        vertical-align: top;\n",
       "    }\n",
       "\n",
       "    .dataframe thead th {\n",
       "        text-align: right;\n",
       "    }\n",
       "</style>\n",
       "<table border=\"1\" class=\"dataframe\">\n",
       "  <thead>\n",
       "    <tr style=\"text-align: right;\">\n",
       "      <th></th>\n",
       "      <th>marital_status</th>\n",
       "      <th>gender_F</th>\n",
       "      <th>gender_M</th>\n",
       "      <th>state_code_AL</th>\n",
       "      <th>state_code_AZ</th>\n",
       "      <th>state_code_CA</th>\n",
       "      <th>state_code_CO</th>\n",
       "      <th>state_code_DC</th>\n",
       "      <th>state_code_FL</th>\n",
       "      <th>state_code_GA</th>\n",
       "      <th>...</th>\n",
       "      <th>city_name_Seattle</th>\n",
       "      <th>city_name_St Louis</th>\n",
       "      <th>city_name_St Paul</th>\n",
       "      <th>city_name_Tampa</th>\n",
       "      <th>city_name_Toledo</th>\n",
       "      <th>city_name_Tucson</th>\n",
       "      <th>city_name_Tulsa</th>\n",
       "      <th>city_name_Virginia Beach</th>\n",
       "      <th>city_name_Washington</th>\n",
       "      <th>city_name_Wichita</th>\n",
       "    </tr>\n",
       "  </thead>\n",
       "  <tbody>\n",
       "    <tr>\n",
       "      <th>0</th>\n",
       "      <td>2</td>\n",
       "      <td>0</td>\n",
       "      <td>1</td>\n",
       "      <td>0</td>\n",
       "      <td>0</td>\n",
       "      <td>0</td>\n",
       "      <td>0</td>\n",
       "      <td>0</td>\n",
       "      <td>0</td>\n",
       "      <td>0</td>\n",
       "      <td>...</td>\n",
       "      <td>0</td>\n",
       "      <td>0</td>\n",
       "      <td>0</td>\n",
       "      <td>0</td>\n",
       "      <td>0</td>\n",
       "      <td>0</td>\n",
       "      <td>0</td>\n",
       "      <td>0</td>\n",
       "      <td>0</td>\n",
       "      <td>0</td>\n",
       "    </tr>\n",
       "    <tr>\n",
       "      <th>1</th>\n",
       "      <td>2</td>\n",
       "      <td>0</td>\n",
       "      <td>1</td>\n",
       "      <td>0</td>\n",
       "      <td>0</td>\n",
       "      <td>1</td>\n",
       "      <td>0</td>\n",
       "      <td>0</td>\n",
       "      <td>0</td>\n",
       "      <td>0</td>\n",
       "      <td>...</td>\n",
       "      <td>0</td>\n",
       "      <td>0</td>\n",
       "      <td>0</td>\n",
       "      <td>0</td>\n",
       "      <td>0</td>\n",
       "      <td>0</td>\n",
       "      <td>0</td>\n",
       "      <td>0</td>\n",
       "      <td>0</td>\n",
       "      <td>0</td>\n",
       "    </tr>\n",
       "    <tr>\n",
       "      <th>2</th>\n",
       "      <td>1</td>\n",
       "      <td>1</td>\n",
       "      <td>0</td>\n",
       "      <td>0</td>\n",
       "      <td>0</td>\n",
       "      <td>1</td>\n",
       "      <td>0</td>\n",
       "      <td>0</td>\n",
       "      <td>0</td>\n",
       "      <td>0</td>\n",
       "      <td>...</td>\n",
       "      <td>0</td>\n",
       "      <td>0</td>\n",
       "      <td>0</td>\n",
       "      <td>0</td>\n",
       "      <td>0</td>\n",
       "      <td>0</td>\n",
       "      <td>0</td>\n",
       "      <td>0</td>\n",
       "      <td>0</td>\n",
       "      <td>0</td>\n",
       "    </tr>\n",
       "    <tr>\n",
       "      <th>3</th>\n",
       "      <td>1</td>\n",
       "      <td>1</td>\n",
       "      <td>0</td>\n",
       "      <td>0</td>\n",
       "      <td>0</td>\n",
       "      <td>1</td>\n",
       "      <td>0</td>\n",
       "      <td>0</td>\n",
       "      <td>0</td>\n",
       "      <td>0</td>\n",
       "      <td>...</td>\n",
       "      <td>0</td>\n",
       "      <td>0</td>\n",
       "      <td>0</td>\n",
       "      <td>0</td>\n",
       "      <td>0</td>\n",
       "      <td>0</td>\n",
       "      <td>0</td>\n",
       "      <td>0</td>\n",
       "      <td>0</td>\n",
       "      <td>0</td>\n",
       "    </tr>\n",
       "    <tr>\n",
       "      <th>4</th>\n",
       "      <td>4</td>\n",
       "      <td>1</td>\n",
       "      <td>0</td>\n",
       "      <td>0</td>\n",
       "      <td>0</td>\n",
       "      <td>0</td>\n",
       "      <td>0</td>\n",
       "      <td>0</td>\n",
       "      <td>0</td>\n",
       "      <td>0</td>\n",
       "      <td>...</td>\n",
       "      <td>0</td>\n",
       "      <td>0</td>\n",
       "      <td>0</td>\n",
       "      <td>0</td>\n",
       "      <td>0</td>\n",
       "      <td>0</td>\n",
       "      <td>0</td>\n",
       "      <td>0</td>\n",
       "      <td>0</td>\n",
       "      <td>0</td>\n",
       "    </tr>\n",
       "    <tr>\n",
       "      <th>...</th>\n",
       "      <td>...</td>\n",
       "      <td>...</td>\n",
       "      <td>...</td>\n",
       "      <td>...</td>\n",
       "      <td>...</td>\n",
       "      <td>...</td>\n",
       "      <td>...</td>\n",
       "      <td>...</td>\n",
       "      <td>...</td>\n",
       "      <td>...</td>\n",
       "      <td>...</td>\n",
       "      <td>...</td>\n",
       "      <td>...</td>\n",
       "      <td>...</td>\n",
       "      <td>...</td>\n",
       "      <td>...</td>\n",
       "      <td>...</td>\n",
       "      <td>...</td>\n",
       "      <td>...</td>\n",
       "      <td>...</td>\n",
       "      <td>...</td>\n",
       "    </tr>\n",
       "    <tr>\n",
       "      <th>742</th>\n",
       "      <td>4</td>\n",
       "      <td>1</td>\n",
       "      <td>0</td>\n",
       "      <td>0</td>\n",
       "      <td>0</td>\n",
       "      <td>1</td>\n",
       "      <td>0</td>\n",
       "      <td>0</td>\n",
       "      <td>0</td>\n",
       "      <td>0</td>\n",
       "      <td>...</td>\n",
       "      <td>0</td>\n",
       "      <td>0</td>\n",
       "      <td>0</td>\n",
       "      <td>0</td>\n",
       "      <td>0</td>\n",
       "      <td>0</td>\n",
       "      <td>0</td>\n",
       "      <td>0</td>\n",
       "      <td>0</td>\n",
       "      <td>0</td>\n",
       "    </tr>\n",
       "    <tr>\n",
       "      <th>743</th>\n",
       "      <td>2</td>\n",
       "      <td>0</td>\n",
       "      <td>1</td>\n",
       "      <td>0</td>\n",
       "      <td>0</td>\n",
       "      <td>0</td>\n",
       "      <td>0</td>\n",
       "      <td>0</td>\n",
       "      <td>0</td>\n",
       "      <td>0</td>\n",
       "      <td>...</td>\n",
       "      <td>0</td>\n",
       "      <td>0</td>\n",
       "      <td>0</td>\n",
       "      <td>0</td>\n",
       "      <td>0</td>\n",
       "      <td>0</td>\n",
       "      <td>0</td>\n",
       "      <td>0</td>\n",
       "      <td>0</td>\n",
       "      <td>0</td>\n",
       "    </tr>\n",
       "    <tr>\n",
       "      <th>744</th>\n",
       "      <td>2</td>\n",
       "      <td>0</td>\n",
       "      <td>1</td>\n",
       "      <td>0</td>\n",
       "      <td>0</td>\n",
       "      <td>0</td>\n",
       "      <td>0</td>\n",
       "      <td>0</td>\n",
       "      <td>0</td>\n",
       "      <td>0</td>\n",
       "      <td>...</td>\n",
       "      <td>0</td>\n",
       "      <td>0</td>\n",
       "      <td>0</td>\n",
       "      <td>0</td>\n",
       "      <td>0</td>\n",
       "      <td>0</td>\n",
       "      <td>0</td>\n",
       "      <td>0</td>\n",
       "      <td>0</td>\n",
       "      <td>0</td>\n",
       "    </tr>\n",
       "    <tr>\n",
       "      <th>745</th>\n",
       "      <td>2</td>\n",
       "      <td>1</td>\n",
       "      <td>0</td>\n",
       "      <td>1</td>\n",
       "      <td>0</td>\n",
       "      <td>0</td>\n",
       "      <td>0</td>\n",
       "      <td>0</td>\n",
       "      <td>0</td>\n",
       "      <td>0</td>\n",
       "      <td>...</td>\n",
       "      <td>0</td>\n",
       "      <td>0</td>\n",
       "      <td>0</td>\n",
       "      <td>0</td>\n",
       "      <td>0</td>\n",
       "      <td>0</td>\n",
       "      <td>0</td>\n",
       "      <td>0</td>\n",
       "      <td>0</td>\n",
       "      <td>0</td>\n",
       "    </tr>\n",
       "    <tr>\n",
       "      <th>746</th>\n",
       "      <td>1</td>\n",
       "      <td>1</td>\n",
       "      <td>0</td>\n",
       "      <td>0</td>\n",
       "      <td>0</td>\n",
       "      <td>1</td>\n",
       "      <td>0</td>\n",
       "      <td>0</td>\n",
       "      <td>0</td>\n",
       "      <td>0</td>\n",
       "      <td>...</td>\n",
       "      <td>0</td>\n",
       "      <td>0</td>\n",
       "      <td>0</td>\n",
       "      <td>0</td>\n",
       "      <td>0</td>\n",
       "      <td>0</td>\n",
       "      <td>0</td>\n",
       "      <td>0</td>\n",
       "      <td>0</td>\n",
       "      <td>0</td>\n",
       "    </tr>\n",
       "  </tbody>\n",
       "</table>\n",
       "<p>747 rows × 105 columns</p>\n",
       "</div>"
      ],
      "text/plain": [
       "     marital_status  gender_F   gender_M   state_code_AL    state_code_AZ    \\\n",
       "0                 2          0          1                0                0   \n",
       "1                 2          0          1                0                0   \n",
       "2                 1          1          0                0                0   \n",
       "3                 1          1          0                0                0   \n",
       "4                 4          1          0                0                0   \n",
       "..              ...        ...        ...              ...              ...   \n",
       "742               4          1          0                0                0   \n",
       "743               2          0          1                0                0   \n",
       "744               2          0          1                0                0   \n",
       "745               2          1          0                1                0   \n",
       "746               1          1          0                0                0   \n",
       "\n",
       "     state_code_CA    state_code_CO    state_code_DC    state_code_FL    \\\n",
       "0                  0                0                0                0   \n",
       "1                  1                0                0                0   \n",
       "2                  1                0                0                0   \n",
       "3                  1                0                0                0   \n",
       "4                  0                0                0                0   \n",
       "..               ...              ...              ...              ...   \n",
       "742                1                0                0                0   \n",
       "743                0                0                0                0   \n",
       "744                0                0                0                0   \n",
       "745                0                0                0                0   \n",
       "746                1                0                0                0   \n",
       "\n",
       "     state_code_GA    ...  city_name_Seattle                                   \\\n",
       "0                  0  ...                                                  0    \n",
       "1                  0  ...                                                  0    \n",
       "2                  0  ...                                                  0    \n",
       "3                  0  ...                                                  0    \n",
       "4                  0  ...                                                  0    \n",
       "..               ...  ...                                                ...    \n",
       "742                0  ...                                                  0    \n",
       "743                0  ...                                                  0    \n",
       "744                0  ...                                                  0    \n",
       "745                0  ...                                                  0    \n",
       "746                0  ...                                                  0    \n",
       "\n",
       "     city_name_St Louis                                  \\\n",
       "0                                                    0    \n",
       "1                                                    0    \n",
       "2                                                    0    \n",
       "3                                                    0    \n",
       "4                                                    0    \n",
       "..                                                 ...    \n",
       "742                                                  0    \n",
       "743                                                  0    \n",
       "744                                                  0    \n",
       "745                                                  0    \n",
       "746                                                  0    \n",
       "\n",
       "     city_name_St Paul                                   \\\n",
       "0                                                    0    \n",
       "1                                                    0    \n",
       "2                                                    0    \n",
       "3                                                    0    \n",
       "4                                                    0    \n",
       "..                                                 ...    \n",
       "742                                                  0    \n",
       "743                                                  0    \n",
       "744                                                  0    \n",
       "745                                                  0    \n",
       "746                                                  0    \n",
       "\n",
       "     city_name_Tampa                                     \\\n",
       "0                                                    0    \n",
       "1                                                    0    \n",
       "2                                                    0    \n",
       "3                                                    0    \n",
       "4                                                    0    \n",
       "..                                                 ...    \n",
       "742                                                  0    \n",
       "743                                                  0    \n",
       "744                                                  0    \n",
       "745                                                  0    \n",
       "746                                                  0    \n",
       "\n",
       "     city_name_Toledo                                    \\\n",
       "0                                                    0    \n",
       "1                                                    0    \n",
       "2                                                    0    \n",
       "3                                                    0    \n",
       "4                                                    0    \n",
       "..                                                 ...    \n",
       "742                                                  0    \n",
       "743                                                  0    \n",
       "744                                                  0    \n",
       "745                                                  0    \n",
       "746                                                  0    \n",
       "\n",
       "     city_name_Tucson                                    \\\n",
       "0                                                    0    \n",
       "1                                                    0    \n",
       "2                                                    0    \n",
       "3                                                    0    \n",
       "4                                                    0    \n",
       "..                                                 ...    \n",
       "742                                                  0    \n",
       "743                                                  0    \n",
       "744                                                  0    \n",
       "745                                                  0    \n",
       "746                                                  0    \n",
       "\n",
       "     city_name_Tulsa                                     \\\n",
       "0                                                    0    \n",
       "1                                                    0    \n",
       "2                                                    0    \n",
       "3                                                    0    \n",
       "4                                                    0    \n",
       "..                                                 ...    \n",
       "742                                                  0    \n",
       "743                                                  0    \n",
       "744                                                  0    \n",
       "745                                                  0    \n",
       "746                                                  0    \n",
       "\n",
       "     city_name_Virginia Beach                            \\\n",
       "0                                                    0    \n",
       "1                                                    0    \n",
       "2                                                    0    \n",
       "3                                                    0    \n",
       "4                                                    0    \n",
       "..                                                 ...    \n",
       "742                                                  0    \n",
       "743                                                  0    \n",
       "744                                                  0    \n",
       "745                                                  0    \n",
       "746                                                  0    \n",
       "\n",
       "     city_name_Washington                                \\\n",
       "0                                                    0    \n",
       "1                                                    0    \n",
       "2                                                    0    \n",
       "3                                                    0    \n",
       "4                                                    0    \n",
       "..                                                 ...    \n",
       "742                                                  0    \n",
       "743                                                  0    \n",
       "744                                                  0    \n",
       "745                                                  0    \n",
       "746                                                  0    \n",
       "\n",
       "     city_name_Wichita                                   \n",
       "0                                                    0   \n",
       "1                                                    0   \n",
       "2                                                    0   \n",
       "3                                                    0   \n",
       "4                                                    0   \n",
       "..                                                 ...   \n",
       "742                                                  0   \n",
       "743                                                  0   \n",
       "744                                                  0   \n",
       "745                                                  0   \n",
       "746                                                  0   \n",
       "\n",
       "[747 rows x 105 columns]"
      ]
     },
     "execution_count": 195,
     "metadata": {},
     "output_type": "execute_result"
    }
   ],
   "source": [
    "df_dummy"
   ]
  },
  {
   "cell_type": "code",
   "execution_count": 196,
   "metadata": {},
   "outputs": [],
   "source": [
    "X = pd.concat([df_numeric_scaled, df_dummy], axis=1)"
   ]
  },
  {
   "cell_type": "code",
   "execution_count": 197,
   "metadata": {},
   "outputs": [
    {
     "data": {
      "text/html": [
       "<div>\n",
       "<style scoped>\n",
       "    .dataframe tbody tr th:only-of-type {\n",
       "        vertical-align: middle;\n",
       "    }\n",
       "\n",
       "    .dataframe tbody tr th {\n",
       "        vertical-align: top;\n",
       "    }\n",
       "\n",
       "    .dataframe thead th {\n",
       "        text-align: right;\n",
       "    }\n",
       "</style>\n",
       "<table border=\"1\" class=\"dataframe\">\n",
       "  <thead>\n",
       "    <tr style=\"text-align: right;\">\n",
       "      <th></th>\n",
       "      <th>age</th>\n",
       "      <th>income</th>\n",
       "      <th>years_with_bank</th>\n",
       "      <th>nbr_children</th>\n",
       "      <th>marital_status</th>\n",
       "      <th>gender_F</th>\n",
       "      <th>gender_M</th>\n",
       "      <th>state_code_AL</th>\n",
       "      <th>state_code_AZ</th>\n",
       "      <th>state_code_CA</th>\n",
       "      <th>...</th>\n",
       "      <th>city_name_Seattle</th>\n",
       "      <th>city_name_St Louis</th>\n",
       "      <th>city_name_St Paul</th>\n",
       "      <th>city_name_Tampa</th>\n",
       "      <th>city_name_Toledo</th>\n",
       "      <th>city_name_Tucson</th>\n",
       "      <th>city_name_Tulsa</th>\n",
       "      <th>city_name_Virginia Beach</th>\n",
       "      <th>city_name_Washington</th>\n",
       "      <th>city_name_Wichita</th>\n",
       "    </tr>\n",
       "  </thead>\n",
       "  <tbody>\n",
       "    <tr>\n",
       "      <th>0</th>\n",
       "      <td>0.184312</td>\n",
       "      <td>0.154185</td>\n",
       "      <td>0.408539</td>\n",
       "      <td>0.258591</td>\n",
       "      <td>2</td>\n",
       "      <td>0</td>\n",
       "      <td>1</td>\n",
       "      <td>0</td>\n",
       "      <td>0</td>\n",
       "      <td>0</td>\n",
       "      <td>...</td>\n",
       "      <td>0</td>\n",
       "      <td>0</td>\n",
       "      <td>0</td>\n",
       "      <td>0</td>\n",
       "      <td>0</td>\n",
       "      <td>0</td>\n",
       "      <td>0</td>\n",
       "      <td>0</td>\n",
       "      <td>0</td>\n",
       "      <td>0</td>\n",
       "    </tr>\n",
       "    <tr>\n",
       "      <th>1</th>\n",
       "      <td>1.493070</td>\n",
       "      <td>-0.726524</td>\n",
       "      <td>-1.087435</td>\n",
       "      <td>-0.648298</td>\n",
       "      <td>2</td>\n",
       "      <td>0</td>\n",
       "      <td>1</td>\n",
       "      <td>0</td>\n",
       "      <td>0</td>\n",
       "      <td>1</td>\n",
       "      <td>...</td>\n",
       "      <td>0</td>\n",
       "      <td>0</td>\n",
       "      <td>0</td>\n",
       "      <td>0</td>\n",
       "      <td>0</td>\n",
       "      <td>0</td>\n",
       "      <td>0</td>\n",
       "      <td>0</td>\n",
       "      <td>0</td>\n",
       "      <td>0</td>\n",
       "    </tr>\n",
       "    <tr>\n",
       "      <th>2</th>\n",
       "      <td>-0.234490</td>\n",
       "      <td>-0.188366</td>\n",
       "      <td>1.530520</td>\n",
       "      <td>-0.648298</td>\n",
       "      <td>1</td>\n",
       "      <td>1</td>\n",
       "      <td>0</td>\n",
       "      <td>0</td>\n",
       "      <td>0</td>\n",
       "      <td>1</td>\n",
       "      <td>...</td>\n",
       "      <td>0</td>\n",
       "      <td>0</td>\n",
       "      <td>0</td>\n",
       "      <td>0</td>\n",
       "      <td>0</td>\n",
       "      <td>0</td>\n",
       "      <td>0</td>\n",
       "      <td>0</td>\n",
       "      <td>0</td>\n",
       "      <td>0</td>\n",
       "    </tr>\n",
       "    <tr>\n",
       "      <th>3</th>\n",
       "      <td>0.603115</td>\n",
       "      <td>1.123798</td>\n",
       "      <td>-0.339448</td>\n",
       "      <td>-0.648298</td>\n",
       "      <td>1</td>\n",
       "      <td>1</td>\n",
       "      <td>0</td>\n",
       "      <td>0</td>\n",
       "      <td>0</td>\n",
       "      <td>1</td>\n",
       "      <td>...</td>\n",
       "      <td>0</td>\n",
       "      <td>0</td>\n",
       "      <td>0</td>\n",
       "      <td>0</td>\n",
       "      <td>0</td>\n",
       "      <td>0</td>\n",
       "      <td>0</td>\n",
       "      <td>0</td>\n",
       "      <td>0</td>\n",
       "      <td>0</td>\n",
       "    </tr>\n",
       "    <tr>\n",
       "      <th>4</th>\n",
       "      <td>0.864867</td>\n",
       "      <td>0.983479</td>\n",
       "      <td>1.904514</td>\n",
       "      <td>1.165479</td>\n",
       "      <td>4</td>\n",
       "      <td>1</td>\n",
       "      <td>0</td>\n",
       "      <td>0</td>\n",
       "      <td>0</td>\n",
       "      <td>0</td>\n",
       "      <td>...</td>\n",
       "      <td>0</td>\n",
       "      <td>0</td>\n",
       "      <td>0</td>\n",
       "      <td>0</td>\n",
       "      <td>0</td>\n",
       "      <td>0</td>\n",
       "      <td>0</td>\n",
       "      <td>0</td>\n",
       "      <td>0</td>\n",
       "      <td>0</td>\n",
       "    </tr>\n",
       "    <tr>\n",
       "      <th>...</th>\n",
       "      <td>...</td>\n",
       "      <td>...</td>\n",
       "      <td>...</td>\n",
       "      <td>...</td>\n",
       "      <td>...</td>\n",
       "      <td>...</td>\n",
       "      <td>...</td>\n",
       "      <td>...</td>\n",
       "      <td>...</td>\n",
       "      <td>...</td>\n",
       "      <td>...</td>\n",
       "      <td>...</td>\n",
       "      <td>...</td>\n",
       "      <td>...</td>\n",
       "      <td>...</td>\n",
       "      <td>...</td>\n",
       "      <td>...</td>\n",
       "      <td>...</td>\n",
       "      <td>...</td>\n",
       "      <td>...</td>\n",
       "      <td>...</td>\n",
       "    </tr>\n",
       "    <tr>\n",
       "      <th>742</th>\n",
       "      <td>-0.339191</td>\n",
       "      <td>-0.357478</td>\n",
       "      <td>0.782533</td>\n",
       "      <td>0.258591</td>\n",
       "      <td>4</td>\n",
       "      <td>1</td>\n",
       "      <td>0</td>\n",
       "      <td>0</td>\n",
       "      <td>0</td>\n",
       "      <td>1</td>\n",
       "      <td>...</td>\n",
       "      <td>0</td>\n",
       "      <td>0</td>\n",
       "      <td>0</td>\n",
       "      <td>0</td>\n",
       "      <td>0</td>\n",
       "      <td>0</td>\n",
       "      <td>0</td>\n",
       "      <td>0</td>\n",
       "      <td>0</td>\n",
       "      <td>0</td>\n",
       "    </tr>\n",
       "    <tr>\n",
       "      <th>743</th>\n",
       "      <td>0.707816</td>\n",
       "      <td>0.164864</td>\n",
       "      <td>0.782533</td>\n",
       "      <td>0.258591</td>\n",
       "      <td>2</td>\n",
       "      <td>0</td>\n",
       "      <td>1</td>\n",
       "      <td>0</td>\n",
       "      <td>0</td>\n",
       "      <td>0</td>\n",
       "      <td>...</td>\n",
       "      <td>0</td>\n",
       "      <td>0</td>\n",
       "      <td>0</td>\n",
       "      <td>0</td>\n",
       "      <td>0</td>\n",
       "      <td>0</td>\n",
       "      <td>0</td>\n",
       "      <td>0</td>\n",
       "      <td>0</td>\n",
       "      <td>0</td>\n",
       "    </tr>\n",
       "    <tr>\n",
       "      <th>744</th>\n",
       "      <td>0.393714</td>\n",
       "      <td>1.738064</td>\n",
       "      <td>-1.461429</td>\n",
       "      <td>1.165479</td>\n",
       "      <td>2</td>\n",
       "      <td>0</td>\n",
       "      <td>1</td>\n",
       "      <td>0</td>\n",
       "      <td>0</td>\n",
       "      <td>0</td>\n",
       "      <td>...</td>\n",
       "      <td>0</td>\n",
       "      <td>0</td>\n",
       "      <td>0</td>\n",
       "      <td>0</td>\n",
       "      <td>0</td>\n",
       "      <td>0</td>\n",
       "      <td>0</td>\n",
       "      <td>0</td>\n",
       "      <td>0</td>\n",
       "      <td>0</td>\n",
       "    </tr>\n",
       "    <tr>\n",
       "      <th>745</th>\n",
       "      <td>-0.286841</td>\n",
       "      <td>-0.343735</td>\n",
       "      <td>1.156526</td>\n",
       "      <td>-0.648298</td>\n",
       "      <td>2</td>\n",
       "      <td>1</td>\n",
       "      <td>0</td>\n",
       "      <td>1</td>\n",
       "      <td>0</td>\n",
       "      <td>0</td>\n",
       "      <td>...</td>\n",
       "      <td>0</td>\n",
       "      <td>0</td>\n",
       "      <td>0</td>\n",
       "      <td>0</td>\n",
       "      <td>0</td>\n",
       "      <td>0</td>\n",
       "      <td>0</td>\n",
       "      <td>0</td>\n",
       "      <td>0</td>\n",
       "      <td>0</td>\n",
       "    </tr>\n",
       "    <tr>\n",
       "      <th>746</th>\n",
       "      <td>-1.281497</td>\n",
       "      <td>-0.218692</td>\n",
       "      <td>-0.339448</td>\n",
       "      <td>-0.648298</td>\n",
       "      <td>1</td>\n",
       "      <td>1</td>\n",
       "      <td>0</td>\n",
       "      <td>0</td>\n",
       "      <td>0</td>\n",
       "      <td>1</td>\n",
       "      <td>...</td>\n",
       "      <td>0</td>\n",
       "      <td>0</td>\n",
       "      <td>0</td>\n",
       "      <td>0</td>\n",
       "      <td>0</td>\n",
       "      <td>0</td>\n",
       "      <td>0</td>\n",
       "      <td>0</td>\n",
       "      <td>0</td>\n",
       "      <td>0</td>\n",
       "    </tr>\n",
       "  </tbody>\n",
       "</table>\n",
       "<p>747 rows × 109 columns</p>\n",
       "</div>"
      ],
      "text/plain": [
       "          age    income  years_with_bank  nbr_children  marital_status  \\\n",
       "0    0.184312  0.154185         0.408539      0.258591               2   \n",
       "1    1.493070 -0.726524        -1.087435     -0.648298               2   \n",
       "2   -0.234490 -0.188366         1.530520     -0.648298               1   \n",
       "3    0.603115  1.123798        -0.339448     -0.648298               1   \n",
       "4    0.864867  0.983479         1.904514      1.165479               4   \n",
       "..        ...       ...              ...           ...             ...   \n",
       "742 -0.339191 -0.357478         0.782533      0.258591               4   \n",
       "743  0.707816  0.164864         0.782533      0.258591               2   \n",
       "744  0.393714  1.738064        -1.461429      1.165479               2   \n",
       "745 -0.286841 -0.343735         1.156526     -0.648298               2   \n",
       "746 -1.281497 -0.218692        -0.339448     -0.648298               1   \n",
       "\n",
       "     gender_F   gender_M   state_code_AL    state_code_AZ    state_code_CA    \\\n",
       "0            0          1                0                0                0   \n",
       "1            0          1                0                0                1   \n",
       "2            1          0                0                0                1   \n",
       "3            1          0                0                0                1   \n",
       "4            1          0                0                0                0   \n",
       "..         ...        ...              ...              ...              ...   \n",
       "742          1          0                0                0                1   \n",
       "743          0          1                0                0                0   \n",
       "744          0          1                0                0                0   \n",
       "745          1          0                1                0                0   \n",
       "746          1          0                0                0                1   \n",
       "\n",
       "     ...  city_name_Seattle                                   \\\n",
       "0    ...                                                  0    \n",
       "1    ...                                                  0    \n",
       "2    ...                                                  0    \n",
       "3    ...                                                  0    \n",
       "4    ...                                                  0    \n",
       "..   ...                                                ...    \n",
       "742  ...                                                  0    \n",
       "743  ...                                                  0    \n",
       "744  ...                                                  0    \n",
       "745  ...                                                  0    \n",
       "746  ...                                                  0    \n",
       "\n",
       "     city_name_St Louis                                  \\\n",
       "0                                                    0    \n",
       "1                                                    0    \n",
       "2                                                    0    \n",
       "3                                                    0    \n",
       "4                                                    0    \n",
       "..                                                 ...    \n",
       "742                                                  0    \n",
       "743                                                  0    \n",
       "744                                                  0    \n",
       "745                                                  0    \n",
       "746                                                  0    \n",
       "\n",
       "     city_name_St Paul                                   \\\n",
       "0                                                    0    \n",
       "1                                                    0    \n",
       "2                                                    0    \n",
       "3                                                    0    \n",
       "4                                                    0    \n",
       "..                                                 ...    \n",
       "742                                                  0    \n",
       "743                                                  0    \n",
       "744                                                  0    \n",
       "745                                                  0    \n",
       "746                                                  0    \n",
       "\n",
       "     city_name_Tampa                                     \\\n",
       "0                                                    0    \n",
       "1                                                    0    \n",
       "2                                                    0    \n",
       "3                                                    0    \n",
       "4                                                    0    \n",
       "..                                                 ...    \n",
       "742                                                  0    \n",
       "743                                                  0    \n",
       "744                                                  0    \n",
       "745                                                  0    \n",
       "746                                                  0    \n",
       "\n",
       "     city_name_Toledo                                    \\\n",
       "0                                                    0    \n",
       "1                                                    0    \n",
       "2                                                    0    \n",
       "3                                                    0    \n",
       "4                                                    0    \n",
       "..                                                 ...    \n",
       "742                                                  0    \n",
       "743                                                  0    \n",
       "744                                                  0    \n",
       "745                                                  0    \n",
       "746                                                  0    \n",
       "\n",
       "     city_name_Tucson                                    \\\n",
       "0                                                    0    \n",
       "1                                                    0    \n",
       "2                                                    0    \n",
       "3                                                    0    \n",
       "4                                                    0    \n",
       "..                                                 ...    \n",
       "742                                                  0    \n",
       "743                                                  0    \n",
       "744                                                  0    \n",
       "745                                                  0    \n",
       "746                                                  0    \n",
       "\n",
       "     city_name_Tulsa                                     \\\n",
       "0                                                    0    \n",
       "1                                                    0    \n",
       "2                                                    0    \n",
       "3                                                    0    \n",
       "4                                                    0    \n",
       "..                                                 ...    \n",
       "742                                                  0    \n",
       "743                                                  0    \n",
       "744                                                  0    \n",
       "745                                                  0    \n",
       "746                                                  0    \n",
       "\n",
       "     city_name_Virginia Beach                            \\\n",
       "0                                                    0    \n",
       "1                                                    0    \n",
       "2                                                    0    \n",
       "3                                                    0    \n",
       "4                                                    0    \n",
       "..                                                 ...    \n",
       "742                                                  0    \n",
       "743                                                  0    \n",
       "744                                                  0    \n",
       "745                                                  0    \n",
       "746                                                  0    \n",
       "\n",
       "     city_name_Washington                                \\\n",
       "0                                                    0    \n",
       "1                                                    0    \n",
       "2                                                    0    \n",
       "3                                                    0    \n",
       "4                                                    0    \n",
       "..                                                 ...    \n",
       "742                                                  0    \n",
       "743                                                  0    \n",
       "744                                                  0    \n",
       "745                                                  0    \n",
       "746                                                  0    \n",
       "\n",
       "     city_name_Wichita                                   \n",
       "0                                                    0   \n",
       "1                                                    0   \n",
       "2                                                    0   \n",
       "3                                                    0   \n",
       "4                                                    0   \n",
       "..                                                 ...   \n",
       "742                                                  0   \n",
       "743                                                  0   \n",
       "744                                                  0   \n",
       "745                                                  0   \n",
       "746                                                  0   \n",
       "\n",
       "[747 rows x 109 columns]"
      ]
     },
     "execution_count": 197,
     "metadata": {},
     "output_type": "execute_result"
    }
   ],
   "source": [
    "X"
   ]
  },
  {
   "cell_type": "code",
   "execution_count": 198,
   "metadata": {},
   "outputs": [
    {
     "name": "stderr",
     "output_type": "stream",
     "text": [
      "C:\\ProgramData\\Anaconda3\\lib\\site-packages\\sklearn\\cluster\\_kmeans.py:1036: UserWarning:\n",
      "\n",
      "KMeans is known to have a memory leak on Windows with MKL, when there are less chunks than available threads. You can avoid it by setting the environment variable OMP_NUM_THREADS=3.\n",
      "\n"
     ]
    }
   ],
   "source": [
    "inertias = []\n",
    "K = range(1,11) #run K-means with K ranging from 1 to 10\n",
    "for k in K:\n",
    "    kmeanModel = KMeans(n_clusters=k)\n",
    "    kmeanModel.fit(X)\n",
    "    inertias.append(kmeanModel.inertia_)\n"
   ]
  },
  {
   "cell_type": "code",
   "execution_count": 199,
   "metadata": {},
   "outputs": [
    {
     "data": {
      "image/png": "[encoded data removed]",
      "text/plain": [
       "<Figure size 1600x800 with 1 Axes>"
      ]
     },
     "metadata": {},
     "output_type": "display_data"
    }
   ],
   "source": [
    "# plot elbow method\n",
    "plt.figure(figsize=(16,8))\n",
    "plt.plot(K, inertias, 'bx-')\n",
    "plt.xlabel('k')\n",
    "plt.ylabel('inertia')\n",
    "plt.title('The Elbow Method showing the optimal K')\n",
    "plt.show()"
   ]
  },
  {
   "cell_type": "code",
   "execution_count": 200,
   "metadata": {},
   "outputs": [],
   "source": [
    "silhouettes = []\n",
    "K = range(2,10) #run K-means with K ranging from 2 to 10\n",
    "for k in K:\n",
    "    kmeanModel = KMeans(n_clusters=k)\n",
    "    kmeanModel.fit(X)\n",
    "    label=kmeanModel.predict(X)\n",
    "    silhouettes.append(silhouette_score(X,label))"
   ]
  },
  {
   "cell_type": "code",
   "execution_count": 201,
   "metadata": {},
   "outputs": [
    {
     "data": {
      "image/png": "[encoded data removed]",
      "text/plain": [
       "<Figure size 1600x800 with 1 Axes>"
      ]
     },
     "metadata": {},
     "output_type": "display_data"
    }
   ],
   "source": [
    "# plot silhouette\n",
    "plt.figure(figsize=(16,8))\n",
    "plt.plot(K, silhouettes, 'bx-')\n",
    "plt.xlabel('k')\n",
    "plt.ylabel('silhouette coefficient')\n",
    "plt.title('Silhouette coefficient vs K')\n",
    "plt.show()"
   ]
  },
  {
   "cell_type": "code",
   "execution_count": 202,
   "metadata": {},
   "outputs": [],
   "source": [
    "# run the model using three clusters\n",
    "kmodel = KMeans(n_clusters=4,\n",
    "                n_init=10)"
   ]
  },
  {
   "cell_type": "code",
   "execution_count": 203,
   "metadata": {},
   "outputs": [],
   "source": [
    "# Identify clusters\n",
    "y_km = kmodel.fit_predict(X)"
   ]
  },
  {
   "cell_type": "code",
   "execution_count": 204,
   "metadata": {},
   "outputs": [
    {
     "data": {
      "text/plain": [
       "2    247\n",
       "3    239\n",
       "0    172\n",
       "1     89\n",
       "dtype: int64"
      ]
     },
     "execution_count": 204,
     "metadata": {},
     "output_type": "execute_result"
    }
   ],
   "source": [
    "# Check how many data points fall within each cluster\n",
    "pd.Series(kmodel.labels_).value_counts()"
   ]
  },
  {
   "cell_type": "code",
   "execution_count": 205,
   "metadata": {},
   "outputs": [],
   "source": [
    "# Append clusters to customers training data\n",
    "X['y_km'] = y_km"
   ]
  },
  {
   "cell_type": "code",
   "execution_count": 206,
   "metadata": {},
   "outputs": [
    {
     "data": {
      "text/html": [
       "<div>\n",
       "<style scoped>\n",
       "    .dataframe tbody tr th:only-of-type {\n",
       "        vertical-align: middle;\n",
       "    }\n",
       "\n",
       "    .dataframe tbody tr th {\n",
       "        vertical-align: top;\n",
       "    }\n",
       "\n",
       "    .dataframe thead th {\n",
       "        text-align: right;\n",
       "    }\n",
       "</style>\n",
       "<table border=\"1\" class=\"dataframe\">\n",
       "  <thead>\n",
       "    <tr style=\"text-align: right;\">\n",
       "      <th></th>\n",
       "      <th>age</th>\n",
       "      <th>income</th>\n",
       "      <th>years_with_bank</th>\n",
       "      <th>nbr_children</th>\n",
       "      <th>marital_status</th>\n",
       "      <th>gender_F</th>\n",
       "      <th>gender_M</th>\n",
       "      <th>state_code_AL</th>\n",
       "      <th>state_code_AZ</th>\n",
       "      <th>state_code_CA</th>\n",
       "      <th>...</th>\n",
       "      <th>city_name_St Louis</th>\n",
       "      <th>city_name_St Paul</th>\n",
       "      <th>city_name_Tampa</th>\n",
       "      <th>city_name_Toledo</th>\n",
       "      <th>city_name_Tucson</th>\n",
       "      <th>city_name_Tulsa</th>\n",
       "      <th>city_name_Virginia Beach</th>\n",
       "      <th>city_name_Washington</th>\n",
       "      <th>city_name_Wichita</th>\n",
       "      <th>y_km</th>\n",
       "    </tr>\n",
       "  </thead>\n",
       "  <tbody>\n",
       "    <tr>\n",
       "      <th>0</th>\n",
       "      <td>0.184312</td>\n",
       "      <td>0.154185</td>\n",
       "      <td>0.408539</td>\n",
       "      <td>0.258591</td>\n",
       "      <td>2</td>\n",
       "      <td>0</td>\n",
       "      <td>1</td>\n",
       "      <td>0</td>\n",
       "      <td>0</td>\n",
       "      <td>0</td>\n",
       "      <td>...</td>\n",
       "      <td>0</td>\n",
       "      <td>0</td>\n",
       "      <td>0</td>\n",
       "      <td>0</td>\n",
       "      <td>0</td>\n",
       "      <td>0</td>\n",
       "      <td>0</td>\n",
       "      <td>0</td>\n",
       "      <td>0</td>\n",
       "      <td>2</td>\n",
       "    </tr>\n",
       "    <tr>\n",
       "      <th>1</th>\n",
       "      <td>1.493070</td>\n",
       "      <td>-0.726524</td>\n",
       "      <td>-1.087435</td>\n",
       "      <td>-0.648298</td>\n",
       "      <td>2</td>\n",
       "      <td>0</td>\n",
       "      <td>1</td>\n",
       "      <td>0</td>\n",
       "      <td>0</td>\n",
       "      <td>1</td>\n",
       "      <td>...</td>\n",
       "      <td>0</td>\n",
       "      <td>0</td>\n",
       "      <td>0</td>\n",
       "      <td>0</td>\n",
       "      <td>0</td>\n",
       "      <td>0</td>\n",
       "      <td>0</td>\n",
       "      <td>0</td>\n",
       "      <td>0</td>\n",
       "      <td>2</td>\n",
       "    </tr>\n",
       "    <tr>\n",
       "      <th>2</th>\n",
       "      <td>-0.234490</td>\n",
       "      <td>-0.188366</td>\n",
       "      <td>1.530520</td>\n",
       "      <td>-0.648298</td>\n",
       "      <td>1</td>\n",
       "      <td>1</td>\n",
       "      <td>0</td>\n",
       "      <td>0</td>\n",
       "      <td>0</td>\n",
       "      <td>1</td>\n",
       "      <td>...</td>\n",
       "      <td>0</td>\n",
       "      <td>0</td>\n",
       "      <td>0</td>\n",
       "      <td>0</td>\n",
       "      <td>0</td>\n",
       "      <td>0</td>\n",
       "      <td>0</td>\n",
       "      <td>0</td>\n",
       "      <td>0</td>\n",
       "      <td>3</td>\n",
       "    </tr>\n",
       "    <tr>\n",
       "      <th>3</th>\n",
       "      <td>0.603115</td>\n",
       "      <td>1.123798</td>\n",
       "      <td>-0.339448</td>\n",
       "      <td>-0.648298</td>\n",
       "      <td>1</td>\n",
       "      <td>1</td>\n",
       "      <td>0</td>\n",
       "      <td>0</td>\n",
       "      <td>0</td>\n",
       "      <td>1</td>\n",
       "      <td>...</td>\n",
       "      <td>0</td>\n",
       "      <td>0</td>\n",
       "      <td>0</td>\n",
       "      <td>0</td>\n",
       "      <td>0</td>\n",
       "      <td>0</td>\n",
       "      <td>0</td>\n",
       "      <td>0</td>\n",
       "      <td>0</td>\n",
       "      <td>1</td>\n",
       "    </tr>\n",
       "    <tr>\n",
       "      <th>4</th>\n",
       "      <td>0.864867</td>\n",
       "      <td>0.983479</td>\n",
       "      <td>1.904514</td>\n",
       "      <td>1.165479</td>\n",
       "      <td>4</td>\n",
       "      <td>1</td>\n",
       "      <td>0</td>\n",
       "      <td>0</td>\n",
       "      <td>0</td>\n",
       "      <td>0</td>\n",
       "      <td>...</td>\n",
       "      <td>0</td>\n",
       "      <td>0</td>\n",
       "      <td>0</td>\n",
       "      <td>0</td>\n",
       "      <td>0</td>\n",
       "      <td>0</td>\n",
       "      <td>0</td>\n",
       "      <td>0</td>\n",
       "      <td>0</td>\n",
       "      <td>0</td>\n",
       "    </tr>\n",
       "    <tr>\n",
       "      <th>...</th>\n",
       "      <td>...</td>\n",
       "      <td>...</td>\n",
       "      <td>...</td>\n",
       "      <td>...</td>\n",
       "      <td>...</td>\n",
       "      <td>...</td>\n",
       "      <td>...</td>\n",
       "      <td>...</td>\n",
       "      <td>...</td>\n",
       "      <td>...</td>\n",
       "      <td>...</td>\n",
       "      <td>...</td>\n",
       "      <td>...</td>\n",
       "      <td>...</td>\n",
       "      <td>...</td>\n",
       "      <td>...</td>\n",
       "      <td>...</td>\n",
       "      <td>...</td>\n",
       "      <td>...</td>\n",
       "      <td>...</td>\n",
       "      <td>...</td>\n",
       "    </tr>\n",
       "    <tr>\n",
       "      <th>742</th>\n",
       "      <td>-0.339191</td>\n",
       "      <td>-0.357478</td>\n",
       "      <td>0.782533</td>\n",
       "      <td>0.258591</td>\n",
       "      <td>4</td>\n",
       "      <td>1</td>\n",
       "      <td>0</td>\n",
       "      <td>0</td>\n",
       "      <td>0</td>\n",
       "      <td>1</td>\n",
       "      <td>...</td>\n",
       "      <td>0</td>\n",
       "      <td>0</td>\n",
       "      <td>0</td>\n",
       "      <td>0</td>\n",
       "      <td>0</td>\n",
       "      <td>0</td>\n",
       "      <td>0</td>\n",
       "      <td>0</td>\n",
       "      <td>0</td>\n",
       "      <td>0</td>\n",
       "    </tr>\n",
       "    <tr>\n",
       "      <th>743</th>\n",
       "      <td>0.707816</td>\n",
       "      <td>0.164864</td>\n",
       "      <td>0.782533</td>\n",
       "      <td>0.258591</td>\n",
       "      <td>2</td>\n",
       "      <td>0</td>\n",
       "      <td>1</td>\n",
       "      <td>0</td>\n",
       "      <td>0</td>\n",
       "      <td>0</td>\n",
       "      <td>...</td>\n",
       "      <td>0</td>\n",
       "      <td>0</td>\n",
       "      <td>0</td>\n",
       "      <td>0</td>\n",
       "      <td>0</td>\n",
       "      <td>0</td>\n",
       "      <td>0</td>\n",
       "      <td>0</td>\n",
       "      <td>0</td>\n",
       "      <td>2</td>\n",
       "    </tr>\n",
       "    <tr>\n",
       "      <th>744</th>\n",
       "      <td>0.393714</td>\n",
       "      <td>1.738064</td>\n",
       "      <td>-1.461429</td>\n",
       "      <td>1.165479</td>\n",
       "      <td>2</td>\n",
       "      <td>0</td>\n",
       "      <td>1</td>\n",
       "      <td>0</td>\n",
       "      <td>0</td>\n",
       "      <td>0</td>\n",
       "      <td>...</td>\n",
       "      <td>0</td>\n",
       "      <td>0</td>\n",
       "      <td>0</td>\n",
       "      <td>0</td>\n",
       "      <td>0</td>\n",
       "      <td>0</td>\n",
       "      <td>0</td>\n",
       "      <td>0</td>\n",
       "      <td>0</td>\n",
       "      <td>1</td>\n",
       "    </tr>\n",
       "    <tr>\n",
       "      <th>745</th>\n",
       "      <td>-0.286841</td>\n",
       "      <td>-0.343735</td>\n",
       "      <td>1.156526</td>\n",
       "      <td>-0.648298</td>\n",
       "      <td>2</td>\n",
       "      <td>1</td>\n",
       "      <td>0</td>\n",
       "      <td>1</td>\n",
       "      <td>0</td>\n",
       "      <td>0</td>\n",
       "      <td>...</td>\n",
       "      <td>0</td>\n",
       "      <td>0</td>\n",
       "      <td>0</td>\n",
       "      <td>0</td>\n",
       "      <td>0</td>\n",
       "      <td>0</td>\n",
       "      <td>0</td>\n",
       "      <td>0</td>\n",
       "      <td>0</td>\n",
       "      <td>2</td>\n",
       "    </tr>\n",
       "    <tr>\n",
       "      <th>746</th>\n",
       "      <td>-1.281497</td>\n",
       "      <td>-0.218692</td>\n",
       "      <td>-0.339448</td>\n",
       "      <td>-0.648298</td>\n",
       "      <td>1</td>\n",
       "      <td>1</td>\n",
       "      <td>0</td>\n",
       "      <td>0</td>\n",
       "      <td>0</td>\n",
       "      <td>1</td>\n",
       "      <td>...</td>\n",
       "      <td>0</td>\n",
       "      <td>0</td>\n",
       "      <td>0</td>\n",
       "      <td>0</td>\n",
       "      <td>0</td>\n",
       "      <td>0</td>\n",
       "      <td>0</td>\n",
       "      <td>0</td>\n",
       "      <td>0</td>\n",
       "      <td>3</td>\n",
       "    </tr>\n",
       "  </tbody>\n",
       "</table>\n",
       "<p>747 rows × 110 columns</p>\n",
       "</div>"
      ],
      "text/plain": [
       "          age    income  years_with_bank  nbr_children  marital_status  \\\n",
       "0    0.184312  0.154185         0.408539      0.258591               2   \n",
       "1    1.493070 -0.726524        -1.087435     -0.648298               2   \n",
       "2   -0.234490 -0.188366         1.530520     -0.648298               1   \n",
       "3    0.603115  1.123798        -0.339448     -0.648298               1   \n",
       "4    0.864867  0.983479         1.904514      1.165479               4   \n",
       "..        ...       ...              ...           ...             ...   \n",
       "742 -0.339191 -0.357478         0.782533      0.258591               4   \n",
       "743  0.707816  0.164864         0.782533      0.258591               2   \n",
       "744  0.393714  1.738064        -1.461429      1.165479               2   \n",
       "745 -0.286841 -0.343735         1.156526     -0.648298               2   \n",
       "746 -1.281497 -0.218692        -0.339448     -0.648298               1   \n",
       "\n",
       "     gender_F   gender_M   state_code_AL    state_code_AZ    state_code_CA    \\\n",
       "0            0          1                0                0                0   \n",
       "1            0          1                0                0                1   \n",
       "2            1          0                0                0                1   \n",
       "3            1          0                0                0                1   \n",
       "4            1          0                0                0                0   \n",
       "..         ...        ...              ...              ...              ...   \n",
       "742          1          0                0                0                1   \n",
       "743          0          1                0                0                0   \n",
       "744          0          1                0                0                0   \n",
       "745          1          0                1                0                0   \n",
       "746          1          0                0                0                1   \n",
       "\n",
       "     ...  city_name_St Louis                                  \\\n",
       "0    ...                                                  0    \n",
       "1    ...                                                  0    \n",
       "2    ...                                                  0    \n",
       "3    ...                                                  0    \n",
       "4    ...                                                  0    \n",
       "..   ...                                                ...    \n",
       "742  ...                                                  0    \n",
       "743  ...                                                  0    \n",
       "744  ...                                                  0    \n",
       "745  ...                                                  0    \n",
       "746  ...                                                  0    \n",
       "\n",
       "     city_name_St Paul                                   \\\n",
       "0                                                    0    \n",
       "1                                                    0    \n",
       "2                                                    0    \n",
       "3                                                    0    \n",
       "4                                                    0    \n",
       "..                                                 ...    \n",
       "742                                                  0    \n",
       "743                                                  0    \n",
       "744                                                  0    \n",
       "745                                                  0    \n",
       "746                                                  0    \n",
       "\n",
       "     city_name_Tampa                                     \\\n",
       "0                                                    0    \n",
       "1                                                    0    \n",
       "2                                                    0    \n",
       "3                                                    0    \n",
       "4                                                    0    \n",
       "..                                                 ...    \n",
       "742                                                  0    \n",
       "743                                                  0    \n",
       "744                                                  0    \n",
       "745                                                  0    \n",
       "746                                                  0    \n",
       "\n",
       "     city_name_Toledo                                    \\\n",
       "0                                                    0    \n",
       "1                                                    0    \n",
       "2                                                    0    \n",
       "3                                                    0    \n",
       "4                                                    0    \n",
       "..                                                 ...    \n",
       "742                                                  0    \n",
       "743                                                  0    \n",
       "744                                                  0    \n",
       "745                                                  0    \n",
       "746                                                  0    \n",
       "\n",
       "     city_name_Tucson                                    \\\n",
       "0                                                    0    \n",
       "1                                                    0    \n",
       "2                                                    0    \n",
       "3                                                    0    \n",
       "4                                                    0    \n",
       "..                                                 ...    \n",
       "742                                                  0    \n",
       "743                                                  0    \n",
       "744                                                  0    \n",
       "745                                                  0    \n",
       "746                                                  0    \n",
       "\n",
       "     city_name_Tulsa                                     \\\n",
       "0                                                    0    \n",
       "1                                                    0    \n",
       "2                                                    0    \n",
       "3                                                    0    \n",
       "4                                                    0    \n",
       "..                                                 ...    \n",
       "742                                                  0    \n",
       "743                                                  0    \n",
       "744                                                  0    \n",
       "745                                                  0    \n",
       "746                                                  0    \n",
       "\n",
       "     city_name_Virginia Beach                            \\\n",
       "0                                                    0    \n",
       "1                                                    0    \n",
       "2                                                    0    \n",
       "3                                                    0    \n",
       "4                                                    0    \n",
       "..                                                 ...    \n",
       "742                                                  0    \n",
       "743                                                  0    \n",
       "744                                                  0    \n",
       "745                                                  0    \n",
       "746                                                  0    \n",
       "\n",
       "     city_name_Washington                                \\\n",
       "0                                                    0    \n",
       "1                                                    0    \n",
       "2                                                    0    \n",
       "3                                                    0    \n",
       "4                                                    0    \n",
       "..                                                 ...    \n",
       "742                                                  0    \n",
       "743                                                  0    \n",
       "744                                                  0    \n",
       "745                                                  0    \n",
       "746                                                  0    \n",
       "\n",
       "     city_name_Wichita                                   y_km  \n",
       "0                                                    0      2  \n",
       "1                                                    0      2  \n",
       "2                                                    0      3  \n",
       "3                                                    0      1  \n",
       "4                                                    0      0  \n",
       "..                                                 ...    ...  \n",
       "742                                                  0      0  \n",
       "743                                                  0      2  \n",
       "744                                                  0      1  \n",
       "745                                                  0      2  \n",
       "746                                                  0      3  \n",
       "\n",
       "[747 rows x 110 columns]"
      ]
     },
     "execution_count": 206,
     "metadata": {},
     "output_type": "execute_result"
    }
   ],
   "source": [
    "X"
   ]
  },
  {
   "cell_type": "markdown",
   "metadata": {},
   "source": [
    "## PCA"
   ]
  },
  {
   "cell_type": "code",
   "execution_count": 207,
   "metadata": {},
   "outputs": [],
   "source": [
    "n_components = 2\n",
    "pca = PCA(n_components=n_components)\n",
    "components = pca.fit_transform(X.iloc[:, :-1])\n",
    "labels = {\n",
    "    str(i): f'PC {i+1} ({var:.1f}%)'\n",
    "    for i, var in enumerate(pca.explained_variance_ratio_ * 100)\n",
    "}\n",
    "\n",
    "label_dict = {0: 'cluster 0',\n",
    "             1: 'cluster 1',\n",
    "             2: 'cluster 2',\n",
    "             3: 'cluster 3'}"
   ]
  },
  {
   "cell_type": "code",
   "execution_count": 208,
   "metadata": {},
   "outputs": [
    {
     "name": "stdout",
     "output_type": "stream",
     "text": [
      "Total Explained Variance: 40.39%\n"
     ]
    }
   ],
   "source": [
    "total_var = pca.explained_variance_ratio_.sum() * 100\n",
    "print(f'Total Explained Variance: {total_var:.2f}%')"
   ]
  },
  {
   "cell_type": "code",
   "execution_count": 209,
   "metadata": {},
   "outputs": [
    {
     "data": {
      "text/plain": [
       "{'0': 'PC 1 (23.6%)', '1': 'PC 2 (16.8%)'}"
      ]
     },
     "execution_count": 209,
     "metadata": {},
     "output_type": "execute_result"
    }
   ],
   "source": [
    "labels"
   ]
  },
  {
   "cell_type": "code",
   "execution_count": 210,
   "metadata": {},
   "outputs": [],
   "source": [
    "def plot_pca(components):\n",
    "    \n",
    "    fig = px.scatter(\n",
    "        data_frame=components,\n",
    "        x=components[:, 0],\n",
    "        y=components[:, 1],\n",
    "        labels={'x': f'PC1 ({pca.explained_variance_ratio_[0] * 100:.1f}%)', \n",
    "               'y': f'PC2 ({pca.explained_variance_ratio_[1] * 100:.1f}%)'},\n",
    "        color=X.iloc[:, -1].map(label_dict)\n",
    "    )\n",
    "    \n",
    "    fig.show()"
   ]
  },
  {
   "cell_type": "code",
   "execution_count": 211,
   "metadata": {},
   "outputs": [
    {
     "data": {
      "application/vnd.plotly.v1+json": {
       "config": {
        "plotlyServerURL": "https://plot.ly"
       },
       "data": [
        {
         "hovertemplate": "color=cluster 2<br>PC1 (23.6%)=%{x}<br>PC2 (16.8%)=%{y}<extra></extra>",
         "legendgroup": "cluster 2",
         "marker": {
          "color": "#636efa",
          "symbol": "circle"
         },
         "mode": "markers",
         "name": "cluster 2",
         "orientation": "v",
         "showlegend": true,
         "type": "scatter",
         "x": [
          0.43369733863954,
          -0.1167565154029638,
          0.13205868016226632,
          0.06237307157491464,
          -0.03321296487614399,
          -0.05068791054227398,
          -0.7302102944612686,
          -0.017350826125731397,
          0.7361808398467723,
          0.21534442618094388,
          -0.04183219903475159,
          0.37302796805479593,
          -0.7036384534678174,
          0.3389285575626693,
          -1.0016870993549245,
          0.10174402528192943,
          0.3134791803666846,
          0.4632584913926558,
          -0.6204980416095447,
          -0.3678318700518331,
          0.6478379977974097,
          -0.3363779507554998,
          -0.7440311823603312,
          -0.3593511410868346,
          -0.2125411033437248,
          -0.32896818664607186,
          0.03208499747133559,
          -0.2176495910136939,
          -0.47656332046902294,
          1.1092004549641594,
          0.47998647803782846,
          -0.2467130731577201,
          -0.47858047869267717,
          0.21019250538643444,
          0.7117653861348777,
          0.12221079759743397,
          0.775361064981213,
          0.4040884562688541,
          -0.9875138597760301,
          0.23086695547792221,
          0.5441173269892596,
          -0.48251700994562635,
          -0.3539943372729621,
          1.0301440024749846,
          -0.46784020179748026,
          0.0007114226346209713,
          0.8537522046558922,
          -0.3532477000381229,
          0.5107381317747886,
          0.3275649377783876,
          1.9737799968796015,
          0.44227341602623926,
          0.8760950838113803,
          0.35179399845356246,
          -0.6232190607848103,
          -0.0023794333172416074,
          0.7098127548640462,
          0.3227239036908047,
          -0.20842551100211665,
          2.1090019368501483,
          -0.027207095200785424,
          -0.39099430317906764,
          -0.6951066010298702,
          0.6073256136783935,
          -0.08641889779822597,
          0.23321665277922984,
          1.0820534393812329,
          0.5712307805877914,
          0.22935081106725314,
          0.1900323229960476,
          -0.7060876236772776,
          0.9705549790446822,
          0.8275709801324661,
          0.5939860768613245,
          1.344184111520363,
          -0.12853093155971326,
          1.0741136406572906,
          0.14557547113906544,
          1.1290299024108772,
          -0.014741671853820021,
          -0.8761920602175695,
          -0.445762793805207,
          -0.7001705959521235,
          0.7616779947115596,
          -0.6900696586879506,
          -0.7456653603131709,
          -0.34263421775960695,
          0.5860558425365628,
          0.5943569336640833,
          0.2646231031752099,
          0.5613217788589077,
          -0.15859089945936397,
          0.841557953086613,
          -0.6221219705257907,
          1.1424558657229462,
          0.11784738018301028,
          0.13306268247891084,
          0.08050114483233671,
          -0.21018375633956704,
          -0.27217677591316786,
          -0.19923954652441786,
          0.2904461863990544,
          0.15609685348836594,
          -0.39671115728948747,
          -0.2343247590763404,
          -0.8349961162035203,
          0.41883150509167716,
          0.3977358206807628,
          -0.3250784510342093,
          0.02789103383300125,
          0.8457181308541253,
          0.26333960320718597,
          -0.25962747784045986,
          0.06468529878825399,
          0.6886472009398276,
          0.4707035133304055,
          1.6914724115791613,
          0.23465302415737954,
          0.1938549340379684,
          -0.7702867426842481,
          0.7902036944959717,
          0.06603877661406185,
          0.43286985738433037,
          0.37385481081419336,
          0.055582129072214055,
          -0.06256970788527098,
          0.36153635600384537,
          -0.00237453027132315,
          0.23885450119960208,
          0.4427914494320307,
          -0.4769084542986811,
          0.2662267758985289,
          0.7282406788745557,
          0.41376854956800907,
          -0.009368546819501021,
          -0.5999560851232978,
          0.021496382673935152,
          0.05380576569013868,
          -0.24522806641525952,
          -0.015810225645200956,
          0.8670349827496289,
          0.3371357414148536,
          -0.01916061262615174,
          0.1709461702187482,
          -0.35964561879958157,
          -0.6217809015201166,
          -0.18245025033134327,
          0.15089708227157278,
          -0.41487857782073617,
          -0.495578497402068,
          0.7500141929634421,
          0.6935057913508151,
          0.2203275963932184,
          -1.069403673400853,
          1.4885873188178735,
          0.8828717798588669,
          -0.02841918879854438,
          0.376423268957105,
          1.0639513273160277,
          0.44981633220090994,
          -0.07751437085594787,
          -0.49675153927165455,
          1.335915222941122,
          0.5872295127414291,
          0.5209169013094718,
          0.21270740047686656,
          0.1989262150264256,
          -0.9894322030227614,
          0.27099845843840037,
          0.18158301643173094,
          0.727396035524376,
          -0.04603864503822284,
          0.16449938860498933,
          -0.512336611473935,
          0.12593839223250797,
          0.5459962528980109,
          0.6582723798592514,
          -0.23967981525532966,
          0.7499584532264187,
          0.47837639286724437,
          -0.15956968138727143,
          0.02043153699164009,
          0.8986913000479362,
          0.6908329464437314,
          -0.11654655739658777,
          0.16687550251850394,
          0.25283978058803225,
          -0.17851613512733713,
          -0.19652097192232326,
          -0.5589304083382846,
          -0.03650137677853193,
          -0.40179455677046744,
          -0.2734093276998453,
          -0.4702913266033206,
          0.24434837660688005,
          -0.14338523510173778,
          0.10466493174177167,
          0.9103826543427301,
          0.2949717918431503,
          1.1669794468811614,
          -0.5474483834670861,
          0.013244910629168383,
          0.2042669811356396,
          0.27996805751278103,
          1.0058708676466903,
          -0.3418484181865781,
          -0.5179849379233803,
          1.200262393344654,
          -0.5908412586380728,
          0.14617850084114414,
          -0.39278493840986783,
          0.3138628938488519,
          -0.08923917616037151,
          -0.27844470601387494,
          1.1570480391574467,
          -0.27017531597140887,
          0.7349797196314555,
          -0.5906579478781815,
          0.8931264867468642,
          -0.6446468797113487,
          -0.18309129686362266,
          -0.4777249348693338,
          0.6992496186030068,
          0.6442209196160089,
          0.25183117500169505,
          0.10434095399633256,
          -0.2023738096684579,
          0.3481267239806183,
          0.01974633621959482,
          -0.1572421108888146,
          0.6134014735511639,
          0.21915430991929727,
          -0.18836159401100022,
          0.3998498172481366,
          0.475734561429268,
          -0.013603264404839286,
          -0.8970387030535244,
          0.0018976531180342174,
          -0.8446195736926086,
          0.3468123607999544,
          0.4917472585442568,
          0.17467813303041513,
          -0.524173362029042,
          -0.0013212661218375526,
          -0.38588793261497634,
          0.7025520878716193,
          -0.4844955205345414
         ],
         "xaxis": "x",
         "y": [
          -0.23767014211761434,
          -0.46326510835295553,
          -2.3861799763850122,
          -0.4641015133286478,
          -1.5309767428710044,
          -0.5821410899803452,
          -1.049878210499765,
          -1.3108225138324479,
          -0.715659513485992,
          -1.0139278593763785,
          0.030259764436144906,
          -0.23853536912847154,
          -1.5588665299929285,
          0.3419233721073644,
          -0.27681801059997,
          -1.0748252633752862,
          0.05898990572671238,
          -0.4878885493978552,
          -1.0196765707803959,
          -0.8696593750460493,
          0.2557732710015848,
          -2.159319958659909,
          -0.04568146557171206,
          -1.7760550851884467,
          -1.2854127406859506,
          0.031246852059639205,
          -1.5373758391515262,
          -0.3948791157879344,
          -0.4281252616618165,
          -0.6824933847907463,
          -2.329908195339737,
          -0.16824177448881103,
          -0.533152090903314,
          -1.0082768229671362,
          -2.093550433600847,
          0.050650329215877206,
          -0.8504700098931416,
          -2.4295471756827376,
          -1.023072966149187,
          -2.6340521151632017,
          -2.675416392500617,
          -0.17995256506546733,
          0.05821009865184567,
          -0.3816901729384743,
          -1.6213326900657015,
          0.4680685762294421,
          -1.2577103171425668,
          0.14953810757377797,
          -2.6377991522297273,
          -2.3995376902357184,
          -1.3138157998602527,
          -2.9472978653458406,
          -1.313354268133554,
          0.039117098834602834,
          -0.23005483514922984,
          -0.7447548588732404,
          -2.2767696744000276,
          0.16526027704119586,
          -1.2854703273486194,
          -1.050441969254476,
          -0.7978215562977163,
          0.03211474099346799,
          -1.517192139061726,
          -2.044013892620249,
          -1.2871774822596842,
          -1.6054658027130402,
          -1.341669786505681,
          -1.009823180719737,
          -1.0116468275142942,
          -1.2947950272316864,
          -1.76014089525275,
          -2.2422779113887557,
          -0.4979162995419923,
          -1.3382908901321706,
          -1.4436565296535817,
          0.4093999015354102,
          -1.316763361045571,
          -1.632768260646381,
          -0.33759487070151245,
          -2.118099197458967,
          -0.36496086091803337,
          -0.20619451761394617,
          -0.762168689677251,
          -1.5194593204400928,
          -1.2598395910262647,
          -0.8772152001818146,
          -1.2406813067920066,
          -0.9921756008773341,
          -2.269634366271955,
          -1.218043895095716,
          -1.3900796891915985,
          -0.9646346665204021,
          -0.7635549595488877,
          -0.37417898290614127,
          -0.7895957772011472,
          -1.0069847009266661,
          -2.085032042811533,
          -0.9979095355095731,
          -1.4142903704688792,
          -1.1038295309417807,
          -0.7404849742219664,
          -1.8428630950802538,
          -2.3425952456364905,
          -1.4787494438538464,
          0.3514555338386821,
          -0.9768908931452508,
          -0.7903122140348456,
          -0.9025701211328093,
          -1.2116986757472121,
          -1.62535638276411,
          -0.5158394726022718,
          -0.954284652691803,
          -1.1110186209842845,
          -1.1047206577752327,
          -1.517123202148381,
          -1.8685214292005738,
          -2.4008449762111668,
          -0.707781959735269,
          -2.039882691291757,
          -1.5480570860771343,
          -0.48319427960271133,
          -2.0582850476735177,
          -2.6289738750588536,
          -0.4626946635896291,
          -1.5267368226972131,
          0.3011202857887608,
          -1.0047227959786265,
          -0.49795875351084307,
          -2.109190924605033,
          -1.2506627841333158,
          -1.0307143871436546,
          0.546212131555432,
          -1.7319978385121306,
          -0.7274518475316799,
          0.31350810203234275,
          -1.5519964562898831,
          -0.769380078266447,
          -0.8408440998267619,
          -0.21269987894038642,
          0.07592648346762511,
          -0.7635811031913855,
          -0.9919577401003664,
          -1.2478838057321926,
          -1.8225560188144345,
          0.0289415095627703,
          -1.0737809142606056,
          0.02343152678920396,
          -0.4904639131920578,
          -0.015690716757675152,
          -0.4204825343126674,
          -1.0248591516154655,
          -2.291211626213011,
          -0.7845040754634389,
          -1.5090809648087868,
          -1.9329211459280944,
          -1.4904182519495919,
          -0.7836161899330885,
          -2.0568619825831904,
          -0.035548659010727686,
          -1.7998449850236595,
          -1.5300770900976928,
          -1.823145662015121,
          -1.8458004195127913,
          -1.0153961937411382,
          -1.5801519698613442,
          -1.0403082507972643,
          -1.6318929758270375,
          -0.04769899560871809,
          -1.1096238207571452,
          -0.7060120316664702,
          -0.3640214403747862,
          -1.0833569342346652,
          -0.18646914403207784,
          -0.7899206659333404,
          0.3202867736022537,
          -1.6006255030937206,
          -1.3033626370871023,
          -2.1674655454324254,
          -0.9925779996854414,
          -0.5118271708247514,
          -0.09275906751685468,
          -0.09997199847033253,
          -1.0398015761293589,
          0.2592289280207638,
          -1.2635950409400476,
          0.1422603801105998,
          -1.3278761444560065,
          -1.262537301867756,
          -0.6267477240202749,
          -1.8279621049204535,
          -0.9955544009860967,
          -0.20104453480146475,
          -0.5111961530519327,
          -0.2070737094012716,
          -1.3368502594041112,
          -0.26816738751671987,
          -1.3648942069534602,
          -1.0762616132052467,
          -1.8573846007676869,
          -0.04114940516680872,
          -0.42551837277618426,
          -1.298086562362541,
          -0.3876669548973239,
          -2.6431623593821514,
          -2.0181514972260475,
          -0.2057689874720711,
          0.3600005592543052,
          -0.07291687187521904,
          -1.227069326472065,
          -0.4629033149747313,
          -1.4408258314268243,
          -1.2510404497858698,
          -1.2643057774341175,
          -2.4329825445001703,
          -1.099541280436523,
          -0.4822515171634626,
          -1.561676851773133,
          -0.6542606809633196,
          -0.539707797156748,
          -0.5236868384119173,
          -0.19969479184689737,
          -1.3221823669648365,
          -1.9888191604522842,
          -1.3031660246352692,
          0.5917234300369502,
          -0.22856265231600956,
          -1.7414441653897195,
          -0.7795887828151425,
          -0.4890491287138157,
          -1.7294349778265437,
          -2.947675978604764,
          -2.321410523123228,
          -1.549002555917584,
          -1.4271678695144838,
          -0.9961599316521015,
          -0.7479053630268576,
          -0.5999666713185,
          0.8262304415431856,
          0.0008109523692787977,
          -2.6500410100296845,
          -1.4099194694947133,
          -0.36545030894030756,
          -0.6474947320543859,
          0.8277529480423823,
          -1.5793318816940511,
          -0.8000473218938918,
          -0.8819822619391807
         ],
         "yaxis": "y"
        },
        {
         "hovertemplate": "color=cluster 3<br>PC1 (23.6%)=%{x}<br>PC2 (16.8%)=%{y}<extra></extra>",
         "legendgroup": "cluster 3",
         "marker": {
          "color": "#EF553B",
          "symbol": "circle"
         },
         "mode": "markers",
         "name": "cluster 3",
         "orientation": "v",
         "showlegend": true,
         "type": "scatter",
         "x": [
          -0.8412002934921184,
          -1.976320240644737,
          -0.8727342822234158,
          -2.050966860213645,
          -0.4362093529141876,
          -1.4563316469629402,
          -2.0586228900453842,
          -1.9334200859130155,
          -1.3526625779899812,
          -0.8791767989973036,
          -0.3560796636445002,
          -0.6137075870227164,
          -1.7746572666950684,
          -1.1848682304030238,
          -0.7212040662276272,
          -1.8813932131516151,
          -1.8914852560728463,
          -0.31979564898863194,
          -2.1247185974792755,
          -1.2067895422373247,
          -0.9100559774789069,
          -1.8480442929396808,
          -1.6760681714502792,
          -1.1407747816878169,
          -0.6169755187070532,
          -1.8898609517275298,
          -1.4367727202936276,
          -0.5857525778291082,
          -1.8407529741289599,
          -1.951920605821779,
          -1.8357249023045517,
          -0.9853673416194404,
          -2.056219095034349,
          -1.9822202168869623,
          -0.7958017330563439,
          -1.7373205816460107,
          -1.8246218822155835,
          -1.7814614760799639,
          -2.062294232364008,
          -0.25384541634794616,
          -1.8655864998115574,
          -1.2072442545937168,
          -2.047870921407496,
          -0.7559685080078088,
          -2.119197859691424,
          -1.838360459669033,
          -1.4830144125614872,
          -0.35811734833168546,
          -0.41946121866307623,
          -0.5525398880285094,
          -1.0333070550851897,
          -1.8972918904353566,
          -2.068318682225202,
          -0.6067783507059096,
          -1.3372556524632357,
          -1.4661285054464765,
          -1.4213716657059217,
          -1.9003058023888988,
          -1.7361976531346521,
          -2.0128200979162485,
          -2.006990844760384,
          -0.6089952330778768,
          -1.5715649459862384,
          -1.5387650366540284,
          -1.8506850191715265,
          -1.724224590263662,
          -1.9889072061193964,
          -1.2627883375543911,
          -2.0641793875285956,
          -1.7323871613139548,
          -1.7692439492508647,
          -1.5079154575200218,
          -1.9905072463695475,
          -1.8355473066316175,
          -1.2240889727268869,
          -0.5694447566657975,
          -1.8223739017251435,
          -1.9625793594332144,
          -1.8278012976332818,
          -2.052566900463796,
          -1.802506576867207,
          -2.0575393941015134,
          -0.21234433014232051,
          -1.9905072463695475,
          -1.8363095798152944,
          -0.32811908912900856,
          -1.8480442929396808,
          -1.9635570661183261,
          -0.9699557836342219,
          -1.9822202168869623,
          -1.6470577212017725,
          -1.433308042136852,
          -0.8141354024730668,
          -1.2811696170417746,
          -1.7032293677278054,
          -1.9315671478435898,
          -1.0592497817509232,
          -1.592868396439712,
          -1.9889072061193964,
          -2.064624694760295,
          -1.8186235816766105,
          -0.23231824699337594,
          -0.6338942973841141,
          -1.0999776566378812,
          -1.2672789608708448,
          -1.8359492543659468,
          -1.8889785097092515,
          -1.1499314375561804,
          -0.45535505351670696,
          -1.9905072463695475,
          -1.9708928447365992,
          -1.4256792984711997,
          -1.8983692339095444,
          -1.190681424432586,
          -0.749103328117607,
          -1.0892419511284634,
          -2.006990844760384,
          -1.8349825211144333,
          -2.0549934402296897,
          -1.7489868754805316,
          -0.5021253095997603,
          -0.3044755540787607,
          -1.9950785515029263,
          -1.976320240644737,
          -0.788002358164442,
          -0.9585481375197622,
          -1.9929270016936242,
          -0.18946263860757268,
          -1.9648722823174576,
          -1.9320091373819583,
          -1.9885521409648605,
          -0.8877272724862871,
          -1.1100946930877482,
          -0.7184352928422975,
          -1.2134937373953953,
          -1.9976704250961295,
          -0.7886118854297801,
          -1.4044293562127386,
          -1.8785335795771676,
          -1.8278012976332818,
          -0.4766331123537777,
          -1.7242240120235917,
          -1.9708928447365992,
          -1.9101039470339287,
          -1.1315586224689318,
          -1.6059945852028994,
          -0.6859635984546596,
          -1.9028126282232083,
          -0.8875972878463464,
          -0.6084793715196825,
          -1.6224374452324468,
          -1.951920605821779,
          -1.9237516132189982,
          -1.8214544174264742,
          -1.5157541743897411,
          -1.9192410784940441,
          -1.8342300164678016,
          -1.792094384942525,
          -0.6891064645958362,
          -0.5436138870702377,
          -1.7005351701704314,
          -1.835232236341108,
          -1.9876367233539969,
          -1.671622195063073,
          -1.7524563522540977,
          -0.5584433487220725,
          -0.7517924933702126,
          -1.533797102703211,
          -0.3762233234999522,
          -1.6837942108760195,
          -1.8186235816766105,
          -2.0591982935578588,
          -1.0170470284870263,
          -1.4153648408679977,
          -1.9999660850975696,
          -1.4477842689403049,
          -1.9271793113309261,
          -1.564283174638893,
          -0.2923139984276406,
          -2.0009547061865955,
          -1.9822202168869623,
          -0.14193896634934888,
          -1.764450382138329,
          -2.049707266889349,
          -1.9547802393962275,
          -1.7793432429247935,
          -1.8164739254829185,
          -1.8290608909575778,
          -1.7760360161670696,
          -0.37825999506877056,
          -1.3267385595172512,
          -1.2922408730176425,
          -1.339835853449651,
          -1.2310261976141859,
          -1.827525681002436,
          -1.0479169616798314,
          -2.052566900463796,
          -1.8998837640285595,
          -0.909655246928078,
          -2.1205954544312666,
          -1.0229952815416397,
          -1.8407200224137192,
          -0.5166361393782101,
          -0.7444362687976761,
          -1.6561899527290098,
          -2.1243538864582576,
          -1.951920605821779,
          -2.0576032265403095,
          -0.477839970158753,
          -1.7489868754805316,
          -1.316682035048366,
          -1.6249988646683111,
          -1.898776574883567,
          -1.55578902573792,
          -0.6505142369609745,
          -0.7833999678192027,
          -1.8924640662459467,
          -1.6302359819384478,
          -1.8193335590573658,
          -1.7234195635143732,
          -1.8476369519656577,
          -0.7149173994501173,
          -2.051534495279479,
          -0.75205584927654,
          -1.9889072061193964,
          -1.1773984953971803,
          -2.004306840372287,
          -1.6587020525394491,
          -1.9171202201249358,
          -0.7612532247675629,
          -1.802900796169738,
          -2.041239528313432,
          -1.971756260154156,
          -1.9088331906423504,
          -1.1990206091188653,
          -2.006990844760384,
          -0.9804323952965293,
          -2.1316025753159735,
          -1.4902849225692045
         ],
         "xaxis": "x",
         "y": [
          -1.1933797762688154,
          1.1105774081040702,
          -0.9786242904228387,
          1.3282070124143635,
          0.34828446412520647,
          -0.12407632935002592,
          1.3414463616165782,
          0.796475324521255,
          0.5682667594646142,
          1.4898085431735293,
          -0.1670685277139279,
          0.5497332289421966,
          -0.2922645515999339,
          0.05603821853873464,
          -0.3727019335063439,
          0.1894367351410898,
          0.2576085544484419,
          -0.09424827300866788,
          1.3703626024845121,
          -0.07016604311901854,
          0.08447333105135622,
          -0.28547249702768807,
          0.5340275244503666,
          0.3390708632399887,
          -0.08908718817622163,
          0.011407469212490267,
          -0.6666012168338251,
          0.07921805065329521,
          -0.26334831073199877,
          0.2752819290888347,
          -0.29552699115842035,
          0.5571623214877379,
          1.1088322736526834,
          0.8389943232496753,
          -0.5008811888299347,
          0.8878956347719068,
          -0.030505165686754206,
          0.5246904948432832,
          1.0711246071102671,
          1.1390403807593417,
          0.5808265800277511,
          -0.24093140616627917,
          1.3276450789955843,
          1.1785548365116492,
          1.3733934949758895,
          1.0094281504482276,
          -0.7034934722615898,
          0.3858791632656515,
          0.7020073680557971,
          0.37908063317235524,
          -0.7217642956590822,
          0.003557041635720103,
          1.0618882540627683,
          -0.19683108310236885,
          0.312617110335106,
          0.2583114035890794,
          -0.2036586526730066,
          0.00035818338163135004,
          0.586970534192423,
          0.9224068389004716,
          0.8043682124521694,
          0.7938452421236709,
          0.9999298634800371,
          0.30677715552317686,
          0.5454249671303908,
          0.5346168267680366,
          1.0643325525380205,
          0.9775960030267288,
          1.0702155769457213,
          0.053332982150039884,
          -0.3075285059439873,
          0.26858405966480897,
          0.7744418634244747,
          0.2075155013971916,
          0.24680998573836355,
          0.29332771487221876,
          -0.26696767021415146,
          0.21251768472400137,
          -0.25246699066385264,
          1.0383163233008175,
          0.5280544696002056,
          1.3242242442739407,
          1.4031916921159433,
          0.7744418634244747,
          -0.04907644685362207,
          0.8630997662434142,
          -0.28547249702768807,
          0.22711428340152998,
          0.027230164623787568,
          0.8389943232496753,
          0.5655333222889819,
          0.8340956425183733,
          -0.15220787930449725,
          0.6063324433978002,
          0.39447121021818304,
          0.8012174368040602,
          -0.4524824053024875,
          0.2689620524703427,
          1.0643325525380205,
          1.0783998822578078,
          -0.03825788687720652,
          0.6329052259399083,
          0.33713256619547927,
          0.27032619912003586,
          -0.717548194488413,
          -0.2875875709908512,
          0.21347401837620983,
          -0.04344344923729692,
          -0.7242593113807917,
          0.7744418634244747,
          1.096076728553772,
          1.1114321294517173,
          0.2147980130227216,
          0.08742131983004335,
          -0.4502736978288902,
          -1.5059120730456406,
          0.8043682124521694,
          -0.2678059550379407,
          1.334358892775302,
          -0.2737597247863974,
          1.6702525004101259,
          -0.36504076936359453,
          0.8456445752232035,
          1.1105774081040702,
          -0.8594118399840117,
          -0.5534436461112096,
          0.6020289632272275,
          0.019358984970872756,
          0.26440060902068796,
          0.9491007070952712,
          1.1031765296077258,
          -0.31784139643044,
          -0.9237044909621729,
          -0.2086822162055442,
          0.029139538934306947,
          0.7795890666658635,
          -0.3773090871952696,
          0.5765631276029317,
          0.2684898745165888,
          -0.25246699066385264,
          0.43972364967924166,
          0.5699752510236905,
          1.096076728553772,
          -0.021598037151344913,
          0.3422993250106662,
          0.5060555396404655,
          0.08062023477685426,
          0.0005261491443436218,
          0.6094537601347133,
          -0.8182915353667435,
          0.13548877668900514,
          0.2752819290888347,
          0.7998961592428987,
          -0.03267014780027481,
          0.5349499494142289,
          0.8094173857872083,
          -0.2577454625859928,
          0.2618331721744315,
          0.22292452109029012,
          0.12932429737432535,
          0.27498846961273166,
          -0.2603174182406223,
          1.0998164175347733,
          0.31214153804029793,
          0.5225707673193759,
          -0.49936244858211515,
          -0.5293292224507717,
          0.3067076426285946,
          -0.0407981832136611,
          0.5782828851353161,
          -0.03825788687720652,
          1.0705626736914877,
          0.9911127324813466,
          -0.13798678109700482,
          0.8096832386000901,
          0.5277723162456084,
          0.8039806580127404,
          0.5643751147954269,
          0.653729723984692,
          0.7918070633767181,
          0.8389943232496753,
          -0.4214481293240131,
          -0.2695924260819516,
          1.1173694626763169,
          0.1962287897133353,
          1.1337763920265416,
          0.004615414640244584,
          -0.041629440925805436,
          0.27716547923033996,
          0.4441899661163383,
          0.29804521414280866,
          0.3434812542196462,
          0.2984789800089986,
          0.2647097380402966,
          -0.04165023956284449,
          -0.7548263754192588,
          1.0383163233008175,
          -0.062498466921620775,
          0.5830116985665156,
          1.371522072482293,
          0.30543880959655584,
          -0.29518928087884,
          0.6445274140738787,
          0.4385656542600231,
          0.5656611033451993,
          1.3349990669866099,
          0.2752819290888347,
          1.0743324351261143,
          1.1496656891684907,
          -0.2737597247863974,
          0.06659869421159238,
          0.5824436679562863,
          0.235484368152753,
          1.1236672327375057,
          0.37214331280379664,
          0.4113307743717843,
          0.5427367691579333,
          0.26622087381825693,
          -0.07443772473525452,
          0.5636950725993557,
          -0.30615885215771904,
          0.3248196785292827,
          1.3187477509469234,
          -0.206658408434684,
          1.0643325525380205,
          0.5731833126326605,
          0.8012480245049047,
          0.27138721920770387,
          0.7676498088522291,
          0.9712293681716996,
          0.8776347347519694,
          1.295398728604915,
          0.22159006759496733,
          0.8322022686774291,
          0.9081037404473876,
          0.8043682124521694,
          -0.07530594193941278,
          1.327552061058792,
          0.5835296459106005
         ],
         "yaxis": "y"
        },
        {
         "hovertemplate": "color=cluster 1<br>PC1 (23.6%)=%{x}<br>PC2 (16.8%)=%{y}<extra></extra>",
         "legendgroup": "cluster 1",
         "marker": {
          "color": "#00cc96",
          "symbol": "circle"
         },
         "mode": "markers",
         "name": "cluster 1",
         "orientation": "v",
         "showlegend": true,
         "type": "scatter",
         "x": [
          0.009005520826651828,
          1.2734601402705474,
          1.6600672514377668,
          0.7233186371176572,
          0.732056504450387,
          1.9742662405113693,
          -0.11607563529404202,
          3.1032630448876626,
          1.4463004030796829,
          0.7701495389139603,
          -0.38742185295992015,
          0.697392153565392,
          2.560909723544695,
          2.768870078176786,
          3.2390831168502507,
          2.0019481418247755,
          -0.12831780717875918,
          2.060875994457924,
          2.5215670001974555,
          0.5139788617416563,
          0.712643121876761,
          2.1963937792195174,
          0.771682634255366,
          1.7666269686163507,
          2.256960699230405,
          -0.10500878555564772,
          2.05535812235246,
          1.7027584226992314,
          1.7082445098099115,
          2.1564198562230468,
          4.129029105731139,
          1.9117229574333938,
          1.93336794993181,
          -0.35473667481740284,
          2.080065031004655,
          1.6210098081197135,
          0.849801516087793,
          0.15940198168312228,
          1.0590401981262902,
          0.3169252406681891,
          1.2355346648126988,
          0.5954413724794789,
          0.9448769911286452,
          0.06518041832948888,
          1.790260698243405,
          0.4028346720211445,
          1.5390874763348255,
          3.0521333278843077,
          1.306898781399247,
          0.15799476943078047,
          0.45143624239343966,
          1.41494919248405,
          0.993271088896465,
          1.5934473483907077,
          1.9730791442974709,
          0.3666546639879454,
          1.4366243791221718,
          2.510681517117067,
          2.151959519339181,
          3.462372799186221,
          0.3450899044371207,
          1.490476267263792,
          0.6508094839255472,
          0.035139266673747435,
          1.4894902570977386,
          1.710657942813132,
          2.7433639398756857,
          0.5633882241790347,
          2.510078957801955,
          0.22621626972552034,
          1.5529820307143287,
          0.9994447667478875,
          0.9430446976035752,
          3.451792597430363,
          0.918559873326903,
          2.009365384085787,
          0.7602809225995605,
          1.6417519637660871,
          2.1200997936651658,
          0.6939517406115303,
          1.3802530145646406,
          0.9304161277467544,
          0.7468103431491322,
          0.7344854065344237,
          0.8252400844926078,
          1.2466226812081118,
          0.9334405814017778,
          -0.3375679061725662,
          1.625959385390435
         ],
         "xaxis": "x",
         "y": [
          -0.524161019592907,
          -1.7883121904320922,
          0.30971798009285784,
          -0.47133490398044786,
          0.2961878265990984,
          -0.2812439110414681,
          -0.35461995761636167,
          -1.093596404829021,
          0.8122061046415405,
          0.07288349081448824,
          0.8545702980880175,
          -1.746440263084907,
          -0.8641927182507789,
          -0.8061668757405743,
          -1.1045344735220308,
          0.3821495236414384,
          0.5329888121624459,
          -1.1844966400056387,
          -1.5212912235390872,
          0.41719076650091297,
          -0.444671489824855,
          -0.011700230949180435,
          -0.7534843127636954,
          -1.5147002255635367,
          -0.8058288364820563,
          -1.0176739258532652,
          -0.8152434841358573,
          -1.517880692354413,
          0.7878399867028302,
          -0.2940833893021019,
          0.05719107914768916,
          -0.784293562639488,
          -1.0552609137105153,
          -0.9901772985732591,
          -0.7546535017642235,
          0.38491977716001624,
          0.22549547686730603,
          -1.5197840666669806,
          -0.23334316960055188,
          -1.571510854317215,
          -0.465405727826155,
          -1.6390629258503917,
          -0.19833265255057744,
          0.43759340444132805,
          -1.109512968476235,
          0.015987979943402706,
          -0.3010464385174627,
          -0.22781804608537723,
          -0.5084852763787042,
          0.30483491150919023,
          -1.0883276550385386,
          0.553949728052108,
          0.01765984478106297,
          -0.20505132662193742,
          0.2509805346708071,
          0.19233845127913826,
          0.3817345558679347,
          0.4484008754415516,
          -0.8074677673343709,
          -0.19072175756224663,
          -0.9858309968674752,
          0.3049185004794198,
          -1.5650396950637566,
          -1.5653731327284373,
          -0.2821090449326007,
          0.40255308338838225,
          1.3566375411886331,
          0.3939531508381869,
          1.019436630615729,
          -1.0497767597045882,
          -0.5307832404374003,
          0.5754973852715414,
          0.018278110804808515,
          -0.6461306738969115,
          -0.46505069830577933,
          0.468434330470827,
          -1.0186229741766493,
          -1.5829579346644416,
          -0.06900646202492597,
          -0.14304065464265592,
          0.7968195150308421,
          -1.978237334112647,
          -0.9837195279401978,
          0.7651995224084249,
          -1.0716425614936842,
          -0.5156838549657342,
          0.28141859629423843,
          -0.23974080846510987,
          1.2635106789073018
         ],
         "yaxis": "y"
        },
        {
         "hovertemplate": "color=cluster 0<br>PC1 (23.6%)=%{x}<br>PC2 (16.8%)=%{y}<extra></extra>",
         "legendgroup": "cluster 0",
         "marker": {
          "color": "#ab63fa",
          "symbol": "circle"
         },
         "mode": "markers",
         "name": "cluster 0",
         "orientation": "v",
         "showlegend": true,
         "type": "scatter",
         "x": [
          2.7509316051778754,
          0.6506162830392527,
          3.290200370387282,
          0.6884378646288764,
          0.819684834461299,
          0.24592683399916188,
          1.4956966802944995,
          1.0764937298978947,
          0.36958756622516925,
          1.1556435716458784,
          0.4559228425227446,
          0.33016644935136075,
          1.229547273682537,
          1.1958000977345666,
          0.08896093734615858,
          0.49511737088640256,
          0.46233712514174147,
          1.1344968025822606,
          2.668644605107323,
          0.9501125501765256,
          0.5245728709901635,
          0.1611079527927343,
          0.6610902096455994,
          1.042423616634505,
          4.055251859102751,
          1.0857789391106554,
          0.6996344878364879,
          3.373985256813207,
          0.4156996062035859,
          0.9274352434724674,
          0.9568102946089031,
          2.852590292164026,
          2.2155662539883827,
          0.9772494047239393,
          3.3647343169499635,
          0.12587010020857628,
          1.2447448563263968,
          0.05737864659952008,
          0.20141761092267246,
          1.5664129890310585,
          1.396163402929306,
          0.30779415188649817,
          1.6985369600015612,
          0.5473392470381616,
          2.348212992204637,
          2.3054581732342267,
          1.345270629807907,
          1.80821598465045,
          1.0422312413050463,
          0.5501095522393543,
          2.5351754790289682,
          1.7270967304724891,
          1.2036878577024304,
          -0.1773649839738213,
          1.1403120322149574,
          1.1573966010428798,
          0.5413576800520978,
          0.4635173717309587,
          1.4849305203338132,
          1.1513490734359628,
          1.9258632827432067,
          1.1609286467002733,
          2.726346535273865,
          0.3581498641533683,
          0.09175060378126405,
          0.6295883820541683,
          0.6618025052225447,
          0.2625820247373926,
          2.3112205772068397,
          1.042513208939179,
          2.320896226120737,
          0.5899786092540303,
          0.7361725668815863,
          1.5742442659705091,
          0.7378680128984192,
          0.027067523061332373,
          0.11273369080433984,
          1.233052649941232,
          0.2702582608607137,
          1.8421700669408922,
          1.1617913459820428,
          2.857776500073344,
          0.5986030592184033,
          0.5604954312615711,
          0.4292443088692795,
          0.0070552992546687645,
          1.4307693181408885,
          1.1451648261329725,
          0.22524745243401478,
          1.3186860949422683,
          0.6536938410240919,
          0.09141102265340635,
          0.5576045833905919,
          1.6651296232726933,
          1.6201812036733843,
          1.8853728501322813,
          3.745755199217252,
          1.5417436011081282,
          0.07052431853740544,
          0.7280493683866013,
          0.1968998369807594,
          0.6537936423666518,
          0.4375029433596267,
          0.1416053416523643,
          1.3480472696681096,
          0.6293204450213284,
          1.1276365967706026,
          1.252316031838872,
          1.560377448613522,
          2.797083017166762,
          3.4302989632028775,
          1.1333214706239343,
          1.1432117987402244,
          0.5256141329022952,
          0.7344136418242456,
          0.9694461181785802,
          3.5114989176938582,
          2.4225743516825995,
          0.9183547159063634,
          0.09191786959159744,
          0.5289134228691205,
          1.3158143104311841,
          0.26064017098886544,
          0.7996405043512375,
          1.8310610049678904,
          -0.13912167769120573,
          0.43153566548137384,
          0.3174499728478529,
          1.094815178744163,
          1.5098636784062827,
          0.7814191341035635,
          2.1084252999593347,
          0.5955455450820923,
          1.7443984467608717,
          2.2393851829595133,
          2.7907399681510068,
          2.410690551233877,
          1.4932832727970575,
          0.4576114483182796,
          0.6783297321004773,
          0.29427325925360814,
          1.2874458526050125,
          1.0405387341617025,
          0.4499875800890096,
          0.4544997531579668,
          2.1276084492365777,
          0.9853316008994356,
          0.7410390789769,
          1.669946342961771,
          1.757096286387023,
          1.0836241461619602,
          0.6417642607093035,
          0.9033817720903898,
          1.4457473702396602,
          0.1358623662786311,
          0.5377333664067813,
          0.20583299782149728,
          1.2498654309864554,
          0.8042726019778201,
          1.1878959257987793,
          1.0554543944308175,
          1.274385830898739,
          0.3824168032707299,
          0.9396737686935646,
          1.6198911203746138,
          1.8297265015085302,
          1.7402398895996074,
          0.8701799600467829,
          0.6184163860910268,
          1.5586633264775567,
          1.3186068563751783,
          0.9530507873214619
         ],
         "xaxis": "x",
         "y": [
          -0.922022053186456,
          0.5252078141516594,
          2.896698906819303,
          1.0157180968187882,
          1.103725842461288,
          0.8289114476677757,
          1.3031171933376025,
          1.616994406837461,
          1.3958751146970563,
          2.385021402432157,
          0.2779742631068045,
          1.380611263385409,
          -0.10619624606198949,
          0.9899390834095482,
          0.5782685730446199,
          2.356478547284159,
          0.5207961183181786,
          1.5372715883413837,
          2.3253115686531634,
          -0.533410245023386,
          0.27701369031353273,
          0.57640726870883,
          1.5938667304784968,
          0.31181813803836333,
          1.948874756450836,
          0.2691611184721176,
          1.827637794940757,
          2.0832770256361144,
          1.6008057163576994,
          0.28953417632957923,
          0.018162646090592368,
          2.162795408352886,
          1.01481384421558,
          0.3341622682214594,
          1.7151462100214543,
          0.8629623528037058,
          -0.5676446791320218,
          1.0998416893890097,
          1.9386651426804689,
          2.5304124897721145,
          1.7202183393396904,
          1.372896823716604,
          2.446556953618869,
          1.3574498982291854,
          2.745539476795398,
          1.4368203081236295,
          1.6126361683969441,
          1.7791195230554209,
          1.583734684738924,
          2.115666609880488,
          1.144613217010304,
          0.6294398966069272,
          -0.061757739603728205,
          1.0934005343473363,
          -0.3051504406335345,
          1.5831402211986219,
          0.2433129120245182,
          1.2464104512323224,
          1.5404639006175451,
          -0.130366382040246,
          1.6532767521153355,
          0.37229912847519137,
          3.062711345620425,
          1.594372841748225,
          0.5841174637637397,
          1.2879920838641983,
          1.8179109663698712,
          0.5523575791461578,
          2.2744265641769124,
          0.2670982287134736,
          1.4971106763289654,
          -0.21397410853781224,
          1.6072408922371832,
          1.4900948840986097,
          0.3081988655356147,
          0.9911058319877538,
          1.626523548544671,
          2.0164719577277657,
          1.070771268033265,
          0.5567688378604598,
          0.3601748048122048,
          1.348146402329437,
          1.1632091128588746,
          1.2841841859280427,
          0.5576555012796351,
          1.627534542503114,
          1.2496574218387335,
          0.7536379642001612,
          1.6839975351916516,
          0.4516618753009859,
          0.6487711893170376,
          1.6570083498579864,
          2.3876241518624957,
          0.4977344701016207,
          0.23943203395556195,
          0.7106233067701297,
          1.2874024102825163,
          1.0594611503171774,
          0.3843417690271939,
          1.4305032992648992,
          1.5396632637782786,
          0.7950221638409853,
          1.2234629730720317,
          1.668782589621644,
          0.49773617190094616,
          0.24968833328878576,
          1.9107052726904412,
          1.0573221125944476,
          1.7994782306855923,
          1.2628617067202201,
          2.0082040385203124,
          0.2729337476498285,
          1.051610604641006,
          0.8011377075911208,
          1.0410322829200365,
          0.5145971975794245,
          2.0081840854953996,
          2.437583628550825,
          0.7880378074727913,
          0.9433433798018944,
          2.136153130725672,
          1.300155206200816,
          1.393666815583243,
          0.15669608384971487,
          2.508916620527228,
          1.636391112046949,
          1.3518472681422167,
          0.4914198999803778,
          0.217706288886711,
          -0.031351119248222654,
          0.7561972333546978,
          1.7639906197464121,
          1.379877384640335,
          0.000672130806543185,
          0.89151110642001,
          1.331276401151316,
          0.3423533397905232,
          1.269503611104381,
          1.2522582889864926,
          1.2930752797779634,
          0.7978148405930585,
          1.6938015549188803,
          0.7540352256517073,
          1.8862683031579426,
          0.31066635134246634,
          1.7452183192647883,
          1.717697316621124,
          1.7316274921270047,
          2.608056970783873,
          2.2905483253099472,
          0.26342606879690195,
          -0.14008019326578017,
          1.1253999965807453,
          1.5915470981646063,
          0.5731481623176267,
          1.2419332704669213,
          1.0774379267956764,
          0.2598783006876638,
          1.6527989666141367,
          -0.03625821019869059,
          -0.2645224653978975,
          -0.249745453135046,
          0.8270820283586898,
          1.2786062978007076,
          2.3048007770042243,
          0.656256429078177,
          1.2834145884238912,
          1.5650403814781915,
          1.0901525916270218,
          0.2249524272837662,
          1.3457209276885493,
          0.10989836058408159
         ],
         "yaxis": "y"
        }
       ],
       "layout": {
        "autosize": true,
        "legend": {
         "title": {
          "text": "color"
         },
         "tracegroupgap": 0
        },
        "margin": {
         "t": 60
        },
        "template": {
         "data": {
          "bar": [
           {
            "error_x": {
             "color": "#2a3f5f"
            },
            "error_y": {
             "color": "#2a3f5f"
            },
            "marker": {
             "line": {
              "color": "#E5ECF6",
              "width": 0.5
             },
             "pattern": {
              "fillmode": "overlay",
              "size": 10,
              "solidity": 0.2
             }
            },
            "type": "bar"
           }
          ],
          "barpolar": [
           {
            "marker": {
             "line": {
              "color": "#E5ECF6",
              "width": 0.5
             },
             "pattern": {
              "fillmode": "overlay",
              "size": 10,
              "solidity": 0.2
             }
            },
            "type": "barpolar"
           }
          ],
          "carpet": [
           {
            "aaxis": {
             "endlinecolor": "#2a3f5f",
             "gridcolor": "white",
             "linecolor": "white",
             "minorgridcolor": "white",
             "startlinecolor": "#2a3f5f"
            },
            "baxis": {
             "endlinecolor": "#2a3f5f",
             "gridcolor": "white",
             "linecolor": "white",
             "minorgridcolor": "white",
             "startlinecolor": "#2a3f5f"
            },
            "type": "carpet"
           }
          ],
          "choropleth": [
           {
            "colorbar": {
             "outlinewidth": 0,
             "ticks": ""
            },
            "type": "choropleth"
           }
          ],
          "contour": [
           {
            "colorbar": {
             "outlinewidth": 0,
             "ticks": ""
            },
            "colorscale": [
             [
              0,
              "#0d0887"
             ],
             [
              0.1111111111111111,
              "#46039f"
             ],
             [
              0.2222222222222222,
              "#7201a8"
             ],
             [
              0.3333333333333333,
              "#9c179e"
             ],
             [
              0.4444444444444444,
              "#bd3786"
             ],
             [
              0.5555555555555556,
              "#d8576b"
             ],
             [
              0.6666666666666666,
              "#ed7953"
             ],
             [
              0.7777777777777778,
              "#fb9f3a"
             ],
             [
              0.8888888888888888,
              "#fdca26"
             ],
             [
              1,
              "#f0f921"
             ]
            ],
            "type": "contour"
           }
          ],
          "contourcarpet": [
           {
            "colorbar": {
             "outlinewidth": 0,
             "ticks": ""
            },
            "type": "contourcarpet"
           }
          ],
          "heatmap": [
           {
            "colorbar": {
             "outlinewidth": 0,
             "ticks": ""
            },
            "colorscale": [
             [
              0,
              "#0d0887"
             ],
             [
              0.1111111111111111,
              "#46039f"
             ],
             [
              0.2222222222222222,
              "#7201a8"
             ],
             [
              0.3333333333333333,
              "#9c179e"
             ],
             [
              0.4444444444444444,
              "#bd3786"
             ],
             [
              0.5555555555555556,
              "#d8576b"
             ],
             [
              0.6666666666666666,
              "#ed7953"
             ],
             [
              0.7777777777777778,
              "#fb9f3a"
             ],
             [
              0.8888888888888888,
              "#fdca26"
             ],
             [
              1,
              "#f0f921"
             ]
            ],
            "type": "heatmap"
           }
          ],
          "heatmapgl": [
           {
            "colorbar": {
             "outlinewidth": 0,
             "ticks": ""
            },
            "colorscale": [
             [
              0,
              "#0d0887"
             ],
             [
              0.1111111111111111,
              "#46039f"
             ],
             [
              0.2222222222222222,
              "#7201a8"
             ],
             [
              0.3333333333333333,
              "#9c179e"
             ],
             [
              0.4444444444444444,
              "#bd3786"
             ],
             [
              0.5555555555555556,
              "#d8576b"
             ],
             [
              0.6666666666666666,
              "#ed7953"
             ],
             [
              0.7777777777777778,
              "#fb9f3a"
             ],
             [
              0.8888888888888888,
              "#fdca26"
             ],
             [
              1,
              "#f0f921"
             ]
            ],
            "type": "heatmapgl"
           }
          ],
          "histogram": [
           {
            "marker": {
             "pattern": {
              "fillmode": "overlay",
              "size": 10,
              "solidity": 0.2
             }
            },
            "type": "histogram"
           }
          ],
          "histogram2d": [
           {
            "colorbar": {
             "outlinewidth": 0,
             "ticks": ""
            },
            "colorscale": [
             [
              0,
              "#0d0887"
             ],
             [
              0.1111111111111111,
              "#46039f"
             ],
             [
              0.2222222222222222,
              "#7201a8"
             ],
             [
              0.3333333333333333,
              "#9c179e"
             ],
             [
              0.4444444444444444,
              "#bd3786"
             ],
             [
              0.5555555555555556,
              "#d8576b"
             ],
             [
              0.6666666666666666,
              "#ed7953"
             ],
             [
              0.7777777777777778,
              "#fb9f3a"
             ],
             [
              0.8888888888888888,
              "#fdca26"
             ],
             [
              1,
              "#f0f921"
             ]
            ],
            "type": "histogram2d"
           }
          ],
          "histogram2dcontour": [
           {
            "colorbar": {
             "outlinewidth": 0,
             "ticks": ""
            },
            "colorscale": [
             [
              0,
              "#0d0887"
             ],
             [
              0.1111111111111111,
              "#46039f"
             ],
             [
              0.2222222222222222,
              "#7201a8"
             ],
             [
              0.3333333333333333,
              "#9c179e"
             ],
             [
              0.4444444444444444,
              "#bd3786"
             ],
             [
              0.5555555555555556,
              "#d8576b"
             ],
             [
              0.6666666666666666,
              "#ed7953"
             ],
             [
              0.7777777777777778,
              "#fb9f3a"
             ],
             [
              0.8888888888888888,
              "#fdca26"
             ],
             [
              1,
              "#f0f921"
             ]
            ],
            "type": "histogram2dcontour"
           }
          ],
          "mesh3d": [
           {
            "colorbar": {
             "outlinewidth": 0,
             "ticks": ""
            },
            "type": "mesh3d"
           }
          ],
          "parcoords": [
           {
            "line": {
             "colorbar": {
              "outlinewidth": 0,
              "ticks": ""
             }
            },
            "type": "parcoords"
           }
          ],
          "pie": [
           {
            "automargin": true,
            "type": "pie"
           }
          ],
          "scatter": [
           {
            "fillpattern": {
             "fillmode": "overlay",
             "size": 10,
             "solidity": 0.2
            },
            "type": "scatter"
           }
          ],
          "scatter3d": [
           {
            "line": {
             "colorbar": {
              "outlinewidth": 0,
              "ticks": ""
             }
            },
            "marker": {
             "colorbar": {
              "outlinewidth": 0,
              "ticks": ""
             }
            },
            "type": "scatter3d"
           }
          ],
          "scattercarpet": [
           {
            "marker": {
             "colorbar": {
              "outlinewidth": 0,
              "ticks": ""
             }
            },
            "type": "scattercarpet"
           }
          ],
          "scattergeo": [
           {
            "marker": {
             "colorbar": {
              "outlinewidth": 0,
              "ticks": ""
             }
            },
            "type": "scattergeo"
           }
          ],
          "scattergl": [
           {
            "marker": {
             "colorbar": {
              "outlinewidth": 0,
              "ticks": ""
             }
            },
            "type": "scattergl"
           }
          ],
          "scattermapbox": [
           {
            "marker": {
             "colorbar": {
              "outlinewidth": 0,
              "ticks": ""
             }
            },
            "type": "scattermapbox"
           }
          ],
          "scatterpolar": [
           {
            "marker": {
             "colorbar": {
              "outlinewidth": 0,
              "ticks": ""
             }
            },
            "type": "scatterpolar"
           }
          ],
          "scatterpolargl": [
           {
            "marker": {
             "colorbar": {
              "outlinewidth": 0,
              "ticks": ""
             }
            },
            "type": "scatterpolargl"
           }
          ],
          "scatterternary": [
           {
            "marker": {
             "colorbar": {
              "outlinewidth": 0,
              "ticks": ""
             }
            },
            "type": "scatterternary"
           }
          ],
          "surface": [
           {
            "colorbar": {
             "outlinewidth": 0,
             "ticks": ""
            },
            "colorscale": [
             [
              0,
              "#0d0887"
             ],
             [
              0.1111111111111111,
              "#46039f"
             ],
             [
              0.2222222222222222,
              "#7201a8"
             ],
             [
              0.3333333333333333,
              "#9c179e"
             ],
             [
              0.4444444444444444,
              "#bd3786"
             ],
             [
              0.5555555555555556,
              "#d8576b"
             ],
             [
              0.6666666666666666,
              "#ed7953"
             ],
             [
              0.7777777777777778,
              "#fb9f3a"
             ],
             [
              0.8888888888888888,
              "#fdca26"
             ],
             [
              1,
              "#f0f921"
             ]
            ],
            "type": "surface"
           }
          ],
          "table": [
           {
            "cells": {
             "fill": {
              "color": "#EBF0F8"
             },
             "line": {
              "color": "white"
             }
            },
            "header": {
             "fill": {
              "color": "#C8D4E3"
             },
             "line": {
              "color": "white"
             }
            },
            "type": "table"
           }
          ]
         },
         "layout": {
          "annotationdefaults": {
           "arrowcolor": "#2a3f5f",
           "arrowhead": 0,
           "arrowwidth": 1
          },
          "autotypenumbers": "strict",
          "coloraxis": {
           "colorbar": {
            "outlinewidth": 0,
            "ticks": ""
           }
          },
          "colorscale": {
           "diverging": [
            [
             0,
             "#8e0152"
            ],
            [
             0.1,
             "#c51b7d"
            ],
            [
             0.2,
             "#de77ae"
            ],
            [
             0.3,
             "#f1b6da"
            ],
            [
             0.4,
             "#fde0ef"
            ],
            [
             0.5,
             "#f7f7f7"
            ],
            [
             0.6,
             "#e6f5d0"
            ],
            [
             0.7,
             "#b8e186"
            ],
            [
             0.8,
             "#7fbc41"
            ],
            [
             0.9,
             "#4d9221"
            ],
            [
             1,
             "#276419"
            ]
           ],
           "sequential": [
            [
             0,
             "#0d0887"
            ],
            [
             0.1111111111111111,
             "#46039f"
            ],
            [
             0.2222222222222222,
             "#7201a8"
            ],
            [
             0.3333333333333333,
             "#9c179e"
            ],
            [
             0.4444444444444444,
             "#bd3786"
            ],
            [
             0.5555555555555556,
             "#d8576b"
            ],
            [
             0.6666666666666666,
             "#ed7953"
            ],
            [
             0.7777777777777778,
             "#fb9f3a"
            ],
            [
             0.8888888888888888,
             "#fdca26"
            ],
            [
             1,
             "#f0f921"
            ]
           ],
           "sequentialminus": [
            [
             0,
             "#0d0887"
            ],
            [
             0.1111111111111111,
             "#46039f"
            ],
            [
             0.2222222222222222,
             "#7201a8"
            ],
            [
             0.3333333333333333,
             "#9c179e"
            ],
            [
             0.4444444444444444,
             "#bd3786"
            ],
            [
             0.5555555555555556,
             "#d8576b"
            ],
            [
             0.6666666666666666,
             "#ed7953"
            ],
            [
             0.7777777777777778,
             "#fb9f3a"
            ],
            [
             0.8888888888888888,
             "#fdca26"
            ],
            [
             1,
             "#f0f921"
            ]
           ]
          },
          "colorway": [
           "#636efa",
           "#EF553B",
           "#00cc96",
           "#ab63fa",
           "#FFA15A",
           "#19d3f3",
           "#FF6692",
           "#B6E880",
           "#FF97FF",
           "#FECB52"
          ],
          "font": {
           "color": "#2a3f5f"
          },
          "geo": {
           "bgcolor": "white",
           "lakecolor": "white",
           "landcolor": "#E5ECF6",
           "showlakes": true,
           "showland": true,
           "subunitcolor": "white"
          },
          "hoverlabel": {
           "align": "left"
          },
          "hovermode": "closest",
          "mapbox": {
           "style": "light"
          },
          "paper_bgcolor": "white",
          "plot_bgcolor": "#E5ECF6",
          "polar": {
           "angularaxis": {
            "gridcolor": "white",
            "linecolor": "white",
            "ticks": ""
           },
           "bgcolor": "#E5ECF6",
           "radialaxis": {
            "gridcolor": "white",
            "linecolor": "white",
            "ticks": ""
           }
          },
          "scene": {
           "xaxis": {
            "backgroundcolor": "#E5ECF6",
            "gridcolor": "white",
            "gridwidth": 2,
            "linecolor": "white",
            "showbackground": true,
            "ticks": "",
            "zerolinecolor": "white"
           },
           "yaxis": {
            "backgroundcolor": "#E5ECF6",
            "gridcolor": "white",
            "gridwidth": 2,
            "linecolor": "white",
            "showbackground": true,
            "ticks": "",
            "zerolinecolor": "white"
           },
           "zaxis": {
            "backgroundcolor": "#E5ECF6",
            "gridcolor": "white",
            "gridwidth": 2,
            "linecolor": "white",
            "showbackground": true,
            "ticks": "",
            "zerolinecolor": "white"
           }
          },
          "shapedefaults": {
           "line": {
            "color": "#2a3f5f"
           }
          },
          "ternary": {
           "aaxis": {
            "gridcolor": "white",
            "linecolor": "white",
            "ticks": ""
           },
           "baxis": {
            "gridcolor": "white",
            "linecolor": "white",
            "ticks": ""
           },
           "bgcolor": "#E5ECF6",
           "caxis": {
            "gridcolor": "white",
            "linecolor": "white",
            "ticks": ""
           }
          },
          "title": {
           "x": 0.05
          },
          "xaxis": {
           "automargin": true,
           "gridcolor": "white",
           "linecolor": "white",
           "ticks": "",
           "title": {
            "standoff": 15
           },
           "zerolinecolor": "white",
           "zerolinewidth": 2
          },
          "yaxis": {
           "automargin": true,
           "gridcolor": "white",
           "linecolor": "white",
           "ticks": "",
           "title": {
            "standoff": 15
           },
           "zerolinecolor": "white",
           "zerolinewidth": 2
          }
         }
        },
        "xaxis": {
         "anchor": "y",
         "autorange": true,
         "domain": [
          0,
          1
         ],
         "range": [
          -2.495610867940337,
          4.493037398355502
         ],
         "title": {
          "text": "PC1 (23.6%)"
         },
         "type": "linear"
        },
        "yaxis": {
         "anchor": "x",
         "autorange": true,
         "domain": [
          0,
          1
         ],
         "range": [
          -3.4130471756248246,
          3.5280825426404854
         ],
         "title": {
          "text": "PC2 (16.8%)"
         },
         "type": "linear"
        }
       }
      },
      "image/png": "[encoded data removed]",
      "text/html": [
       "<div>                            <div id=\"d2e8f451-8f72-4fbf-a242-7fbf60607c6b\" class=\"plotly-graph-div\" style=\"height:525px; width:100%;\"></div>            <script type=\"text/javascript\">                require([\"plotly\"], function(Plotly) {                    window.PLOTLYENV=window.PLOTLYENV || {};                                    if (document.getElementById(\"d2e8f451-8f72-4fbf-a242-7fbf60607c6b\")) {                    Plotly.newPlot(                        \"d2e8f451-8f72-4fbf-a242-7fbf60607c6b\",                        [{\"hovertemplate\":\"color=cluster 2<br>PC1 (23.6%)=%{x}<br>PC2 (16.8%)=%{y}<extra></extra>\",\"legendgroup\":\"cluster 2\",\"marker\":{\"color\":\"#636efa\",\"symbol\":\"circle\"},\"mode\":\"markers\",\"name\":\"cluster 2\",\"orientation\":\"v\",\"showlegend\":true,\"x\":[0.43369733863954,-0.1167565154029638,0.13205868016226632,0.06237307157491464,-0.03321296487614399,-0.05068791054227398,-0.7302102944612686,-0.017350826125731397,0.7361808398467723,0.21534442618094388,-0.04183219903475159,0.37302796805479593,-0.7036384534678174,0.3389285575626693,-1.0016870993549245,0.10174402528192943,0.3134791803666846,0.4632584913926558,-0.6204980416095447,-0.3678318700518331,0.6478379977974097,-0.3363779507554998,-0.7440311823603312,-0.3593511410868346,-0.2125411033437248,-0.32896818664607186,0.03208499747133559,-0.2176495910136939,-0.47656332046902294,1.1092004549641594,0.47998647803782846,-0.2467130731577201,-0.47858047869267717,0.21019250538643444,0.7117653861348777,0.12221079759743397,0.775361064981213,0.4040884562688541,-0.9875138597760301,0.23086695547792221,0.5441173269892596,-0.48251700994562635,-0.3539943372729621,1.0301440024749846,-0.46784020179748026,0.0007114226346209713,0.8537522046558922,-0.3532477000381229,0.5107381317747886,0.3275649377783876,1.9737799968796015,0.44227341602623926,0.8760950838113803,0.35179399845356246,-0.6232190607848103,-0.0023794333172416074,0.7098127548640462,0.3227239036908047,-0.20842551100211665,2.1090019368501483,-0.027207095200785424,-0.39099430317906764,-0.6951066010298702,0.6073256136783935,-0.08641889779822597,0.23321665277922984,1.0820534393812329,0.5712307805877914,0.22935081106725314,0.1900323229960476,-0.7060876236772776,0.9705549790446822,0.8275709801324661,0.5939860768613245,1.344184111520363,-0.12853093155971326,1.0741136406572906,0.14557547113906544,1.1290299024108772,-0.014741671853820021,-0.8761920602175695,-0.445762793805207,-0.7001705959521235,0.7616779947115596,-0.6900696586879506,-0.7456653603131709,-0.34263421775960695,0.5860558425365628,0.5943569336640833,0.2646231031752099,0.5613217788589077,-0.15859089945936397,0.841557953086613,-0.6221219705257907,1.1424558657229462,0.11784738018301028,0.13306268247891084,0.08050114483233671,-0.21018375633956704,-0.27217677591316786,-0.19923954652441786,0.2904461863990544,0.15609685348836594,-0.39671115728948747,-0.2343247590763404,-0.8349961162035203,0.41883150509167716,0.3977358206807628,-0.3250784510342093,0.02789103383300125,0.8457181308541253,0.26333960320718597,-0.25962747784045986,0.06468529878825399,0.6886472009398276,0.4707035133304055,1.6914724115791613,0.23465302415737954,0.1938549340379684,-0.7702867426842481,0.7902036944959717,0.06603877661406185,0.43286985738433037,0.37385481081419336,0.055582129072214055,-0.06256970788527098,0.36153635600384537,-0.00237453027132315,0.23885450119960208,0.4427914494320307,-0.4769084542986811,0.2662267758985289,0.7282406788745557,0.41376854956800907,-0.009368546819501021,-0.5999560851232978,0.021496382673935152,0.05380576569013868,-0.24522806641525952,-0.015810225645200956,0.8670349827496289,0.3371357414148536,-0.01916061262615174,0.1709461702187482,-0.35964561879958157,-0.6217809015201166,-0.18245025033134327,0.15089708227157278,-0.41487857782073617,-0.495578497402068,0.7500141929634421,0.6935057913508151,0.2203275963932184,-1.069403673400853,1.4885873188178735,0.8828717798588669,-0.02841918879854438,0.376423268957105,1.0639513273160277,0.44981633220090994,-0.07751437085594787,-0.49675153927165455,1.335915222941122,0.5872295127414291,0.5209169013094718,0.21270740047686656,0.1989262150264256,-0.9894322030227614,0.27099845843840037,0.18158301643173094,0.727396035524376,-0.04603864503822284,0.16449938860498933,-0.512336611473935,0.12593839223250797,0.5459962528980109,0.6582723798592514,-0.23967981525532966,0.7499584532264187,0.47837639286724437,-0.15956968138727143,0.02043153699164009,0.8986913000479362,0.6908329464437314,-0.11654655739658777,0.16687550251850394,0.25283978058803225,-0.17851613512733713,-0.19652097192232326,-0.5589304083382846,-0.03650137677853193,-0.40179455677046744,-0.2734093276998453,-0.4702913266033206,0.24434837660688005,-0.14338523510173778,0.10466493174177167,0.9103826543427301,0.2949717918431503,1.1669794468811614,-0.5474483834670861,0.013244910629168383,0.2042669811356396,0.27996805751278103,1.0058708676466903,-0.3418484181865781,-0.5179849379233803,1.200262393344654,-0.5908412586380728,0.14617850084114414,-0.39278493840986783,0.3138628938488519,-0.08923917616037151,-0.27844470601387494,1.1570480391574467,-0.27017531597140887,0.7349797196314555,-0.5906579478781815,0.8931264867468642,-0.6446468797113487,-0.18309129686362266,-0.4777249348693338,0.6992496186030068,0.6442209196160089,0.25183117500169505,0.10434095399633256,-0.2023738096684579,0.3481267239806183,0.01974633621959482,-0.1572421108888146,0.6134014735511639,0.21915430991929727,-0.18836159401100022,0.3998498172481366,0.475734561429268,-0.013603264404839286,-0.8970387030535244,0.0018976531180342174,-0.8446195736926086,0.3468123607999544,0.4917472585442568,0.17467813303041513,-0.524173362029042,-0.0013212661218375526,-0.38588793261497634,0.7025520878716193,-0.4844955205345414],\"xaxis\":\"x\",\"y\":[-0.23767014211761434,-0.46326510835295553,-2.3861799763850122,-0.4641015133286478,-1.5309767428710044,-0.5821410899803452,-1.049878210499765,-1.3108225138324479,-0.715659513485992,-1.0139278593763785,0.030259764436144906,-0.23853536912847154,-1.5588665299929285,0.3419233721073644,-0.27681801059997,-1.0748252633752862,0.05898990572671238,-0.4878885493978552,-1.0196765707803959,-0.8696593750460493,0.2557732710015848,-2.159319958659909,-0.04568146557171206,-1.7760550851884467,-1.2854127406859506,0.031246852059639205,-1.5373758391515262,-0.3948791157879344,-0.4281252616618165,-0.6824933847907463,-2.329908195339737,-0.16824177448881103,-0.533152090903314,-1.0082768229671362,-2.093550433600847,0.050650329215877206,-0.8504700098931416,-2.4295471756827376,-1.023072966149187,-2.6340521151632017,-2.675416392500617,-0.17995256506546733,0.05821009865184567,-0.3816901729384743,-1.6213326900657015,0.4680685762294421,-1.2577103171425668,0.14953810757377797,-2.6377991522297273,-2.3995376902357184,-1.3138157998602527,-2.9472978653458406,-1.313354268133554,0.039117098834602834,-0.23005483514922984,-0.7447548588732404,-2.2767696744000276,0.16526027704119586,-1.2854703273486194,-1.050441969254476,-0.7978215562977163,0.03211474099346799,-1.517192139061726,-2.044013892620249,-1.2871774822596842,-1.6054658027130402,-1.341669786505681,-1.009823180719737,-1.0116468275142942,-1.2947950272316864,-1.76014089525275,-2.2422779113887557,-0.4979162995419923,-1.3382908901321706,-1.4436565296535817,0.4093999015354102,-1.316763361045571,-1.632768260646381,-0.33759487070151245,-2.118099197458967,-0.36496086091803337,-0.20619451761394617,-0.762168689677251,-1.5194593204400928,-1.2598395910262647,-0.8772152001818146,-1.2406813067920066,-0.9921756008773341,-2.269634366271955,-1.218043895095716,-1.3900796891915985,-0.9646346665204021,-0.7635549595488877,-0.37417898290614127,-0.7895957772011472,-1.0069847009266661,-2.085032042811533,-0.9979095355095731,-1.4142903704688792,-1.1038295309417807,-0.7404849742219664,-1.8428630950802538,-2.3425952456364905,-1.4787494438538464,0.3514555338386821,-0.9768908931452508,-0.7903122140348456,-0.9025701211328093,-1.2116986757472121,-1.62535638276411,-0.5158394726022718,-0.954284652691803,-1.1110186209842845,-1.1047206577752327,-1.517123202148381,-1.8685214292005738,-2.4008449762111668,-0.707781959735269,-2.039882691291757,-1.5480570860771343,-0.48319427960271133,-2.0582850476735177,-2.6289738750588536,-0.4626946635896291,-1.5267368226972131,0.3011202857887608,-1.0047227959786265,-0.49795875351084307,-2.109190924605033,-1.2506627841333158,-1.0307143871436546,0.546212131555432,-1.7319978385121306,-0.7274518475316799,0.31350810203234275,-1.5519964562898831,-0.769380078266447,-0.8408440998267619,-0.21269987894038642,0.07592648346762511,-0.7635811031913855,-0.9919577401003664,-1.2478838057321926,-1.8225560188144345,0.0289415095627703,-1.0737809142606056,0.02343152678920396,-0.4904639131920578,-0.015690716757675152,-0.4204825343126674,-1.0248591516154655,-2.291211626213011,-0.7845040754634389,-1.5090809648087868,-1.9329211459280944,-1.4904182519495919,-0.7836161899330885,-2.0568619825831904,-0.035548659010727686,-1.7998449850236595,-1.5300770900976928,-1.823145662015121,-1.8458004195127913,-1.0153961937411382,-1.5801519698613442,-1.0403082507972643,-1.6318929758270375,-0.04769899560871809,-1.1096238207571452,-0.7060120316664702,-0.3640214403747862,-1.0833569342346652,-0.18646914403207784,-0.7899206659333404,0.3202867736022537,-1.6006255030937206,-1.3033626370871023,-2.1674655454324254,-0.9925779996854414,-0.5118271708247514,-0.09275906751685468,-0.09997199847033253,-1.0398015761293589,0.2592289280207638,-1.2635950409400476,0.1422603801105998,-1.3278761444560065,-1.262537301867756,-0.6267477240202749,-1.8279621049204535,-0.9955544009860967,-0.20104453480146475,-0.5111961530519327,-0.2070737094012716,-1.3368502594041112,-0.26816738751671987,-1.3648942069534602,-1.0762616132052467,-1.8573846007676869,-0.04114940516680872,-0.42551837277618426,-1.298086562362541,-0.3876669548973239,-2.6431623593821514,-2.0181514972260475,-0.2057689874720711,0.3600005592543052,-0.07291687187521904,-1.227069326472065,-0.4629033149747313,-1.4408258314268243,-1.2510404497858698,-1.2643057774341175,-2.4329825445001703,-1.099541280436523,-0.4822515171634626,-1.561676851773133,-0.6542606809633196,-0.539707797156748,-0.5236868384119173,-0.19969479184689737,-1.3221823669648365,-1.9888191604522842,-1.3031660246352692,0.5917234300369502,-0.22856265231600956,-1.7414441653897195,-0.7795887828151425,-0.4890491287138157,-1.7294349778265437,-2.947675978604764,-2.321410523123228,-1.549002555917584,-1.4271678695144838,-0.9961599316521015,-0.7479053630268576,-0.5999666713185,0.8262304415431856,0.0008109523692787977,-2.6500410100296845,-1.4099194694947133,-0.36545030894030756,-0.6474947320543859,0.8277529480423823,-1.5793318816940511,-0.8000473218938918,-0.8819822619391807],\"yaxis\":\"y\",\"type\":\"scatter\"},{\"hovertemplate\":\"color=cluster 3<br>PC1 (23.6%)=%{x}<br>PC2 (16.8%)=%{y}<extra></extra>\",\"legendgroup\":\"cluster 3\",\"marker\":{\"color\":\"#EF553B\",\"symbol\":\"circle\"},\"mode\":\"markers\",\"name\":\"cluster 3\",\"orientation\":\"v\",\"showlegend\":true,\"x\":[-0.8412002934921184,-1.976320240644737,-0.8727342822234158,-2.050966860213645,-0.4362093529141876,-1.4563316469629402,-2.0586228900453842,-1.9334200859130155,-1.3526625779899812,-0.8791767989973036,-0.3560796636445002,-0.6137075870227164,-1.7746572666950684,-1.1848682304030238,-0.7212040662276272,-1.8813932131516151,-1.8914852560728463,-0.31979564898863194,-2.1247185974792755,-1.2067895422373247,-0.9100559774789069,-1.8480442929396808,-1.6760681714502792,-1.1407747816878169,-0.6169755187070532,-1.8898609517275298,-1.4367727202936276,-0.5857525778291082,-1.8407529741289599,-1.951920605821779,-1.8357249023045517,-0.9853673416194404,-2.056219095034349,-1.9822202168869623,-0.7958017330563439,-1.7373205816460107,-1.8246218822155835,-1.7814614760799639,-2.062294232364008,-0.25384541634794616,-1.8655864998115574,-1.2072442545937168,-2.047870921407496,-0.7559685080078088,-2.119197859691424,-1.838360459669033,-1.4830144125614872,-0.35811734833168546,-0.41946121866307623,-0.5525398880285094,-1.0333070550851897,-1.8972918904353566,-2.068318682225202,-0.6067783507059096,-1.3372556524632357,-1.4661285054464765,-1.4213716657059217,-1.9003058023888988,-1.7361976531346521,-2.0128200979162485,-2.006990844760384,-0.6089952330778768,-1.5715649459862384,-1.5387650366540284,-1.8506850191715265,-1.724224590263662,-1.9889072061193964,-1.2627883375543911,-2.0641793875285956,-1.7323871613139548,-1.7692439492508647,-1.5079154575200218,-1.9905072463695475,-1.8355473066316175,-1.2240889727268869,-0.5694447566657975,-1.8223739017251435,-1.9625793594332144,-1.8278012976332818,-2.052566900463796,-1.802506576867207,-2.0575393941015134,-0.21234433014232051,-1.9905072463695475,-1.8363095798152944,-0.32811908912900856,-1.8480442929396808,-1.9635570661183261,-0.9699557836342219,-1.9822202168869623,-1.6470577212017725,-1.433308042136852,-0.8141354024730668,-1.2811696170417746,-1.7032293677278054,-1.9315671478435898,-1.0592497817509232,-1.592868396439712,-1.9889072061193964,-2.064624694760295,-1.8186235816766105,-0.23231824699337594,-0.6338942973841141,-1.0999776566378812,-1.2672789608708448,-1.8359492543659468,-1.8889785097092515,-1.1499314375561804,-0.45535505351670696,-1.9905072463695475,-1.9708928447365992,-1.4256792984711997,-1.8983692339095444,-1.190681424432586,-0.749103328117607,-1.0892419511284634,-2.006990844760384,-1.8349825211144333,-2.0549934402296897,-1.7489868754805316,-0.5021253095997603,-0.3044755540787607,-1.9950785515029263,-1.976320240644737,-0.788002358164442,-0.9585481375197622,-1.9929270016936242,-0.18946263860757268,-1.9648722823174576,-1.9320091373819583,-1.9885521409648605,-0.8877272724862871,-1.1100946930877482,-0.7184352928422975,-1.2134937373953953,-1.9976704250961295,-0.7886118854297801,-1.4044293562127386,-1.8785335795771676,-1.8278012976332818,-0.4766331123537777,-1.7242240120235917,-1.9708928447365992,-1.9101039470339287,-1.1315586224689318,-1.6059945852028994,-0.6859635984546596,-1.9028126282232083,-0.8875972878463464,-0.6084793715196825,-1.6224374452324468,-1.951920605821779,-1.9237516132189982,-1.8214544174264742,-1.5157541743897411,-1.9192410784940441,-1.8342300164678016,-1.792094384942525,-0.6891064645958362,-0.5436138870702377,-1.7005351701704314,-1.835232236341108,-1.9876367233539969,-1.671622195063073,-1.7524563522540977,-0.5584433487220725,-0.7517924933702126,-1.533797102703211,-0.3762233234999522,-1.6837942108760195,-1.8186235816766105,-2.0591982935578588,-1.0170470284870263,-1.4153648408679977,-1.9999660850975696,-1.4477842689403049,-1.9271793113309261,-1.564283174638893,-0.2923139984276406,-2.0009547061865955,-1.9822202168869623,-0.14193896634934888,-1.764450382138329,-2.049707266889349,-1.9547802393962275,-1.7793432429247935,-1.8164739254829185,-1.8290608909575778,-1.7760360161670696,-0.37825999506877056,-1.3267385595172512,-1.2922408730176425,-1.339835853449651,-1.2310261976141859,-1.827525681002436,-1.0479169616798314,-2.052566900463796,-1.8998837640285595,-0.909655246928078,-2.1205954544312666,-1.0229952815416397,-1.8407200224137192,-0.5166361393782101,-0.7444362687976761,-1.6561899527290098,-2.1243538864582576,-1.951920605821779,-2.0576032265403095,-0.477839970158753,-1.7489868754805316,-1.316682035048366,-1.6249988646683111,-1.898776574883567,-1.55578902573792,-0.6505142369609745,-0.7833999678192027,-1.8924640662459467,-1.6302359819384478,-1.8193335590573658,-1.7234195635143732,-1.8476369519656577,-0.7149173994501173,-2.051534495279479,-0.75205584927654,-1.9889072061193964,-1.1773984953971803,-2.004306840372287,-1.6587020525394491,-1.9171202201249358,-0.7612532247675629,-1.802900796169738,-2.041239528313432,-1.971756260154156,-1.9088331906423504,-1.1990206091188653,-2.006990844760384,-0.9804323952965293,-2.1316025753159735,-1.4902849225692045],\"xaxis\":\"x\",\"y\":[-1.1933797762688154,1.1105774081040702,-0.9786242904228387,1.3282070124143635,0.34828446412520647,-0.12407632935002592,1.3414463616165782,0.796475324521255,0.5682667594646142,1.4898085431735293,-0.1670685277139279,0.5497332289421966,-0.2922645515999339,0.05603821853873464,-0.3727019335063439,0.1894367351410898,0.2576085544484419,-0.09424827300866788,1.3703626024845121,-0.07016604311901854,0.08447333105135622,-0.28547249702768807,0.5340275244503666,0.3390708632399887,-0.08908718817622163,0.011407469212490267,-0.6666012168338251,0.07921805065329521,-0.26334831073199877,0.2752819290888347,-0.29552699115842035,0.5571623214877379,1.1088322736526834,0.8389943232496753,-0.5008811888299347,0.8878956347719068,-0.030505165686754206,0.5246904948432832,1.0711246071102671,1.1390403807593417,0.5808265800277511,-0.24093140616627917,1.3276450789955843,1.1785548365116492,1.3733934949758895,1.0094281504482276,-0.7034934722615898,0.3858791632656515,0.7020073680557971,0.37908063317235524,-0.7217642956590822,0.003557041635720103,1.0618882540627683,-0.19683108310236885,0.312617110335106,0.2583114035890794,-0.2036586526730066,0.00035818338163135004,0.586970534192423,0.9224068389004716,0.8043682124521694,0.7938452421236709,0.9999298634800371,0.30677715552317686,0.5454249671303908,0.5346168267680366,1.0643325525380205,0.9775960030267288,1.0702155769457213,0.053332982150039884,-0.3075285059439873,0.26858405966480897,0.7744418634244747,0.2075155013971916,0.24680998573836355,0.29332771487221876,-0.26696767021415146,0.21251768472400137,-0.25246699066385264,1.0383163233008175,0.5280544696002056,1.3242242442739407,1.4031916921159433,0.7744418634244747,-0.04907644685362207,0.8630997662434142,-0.28547249702768807,0.22711428340152998,0.027230164623787568,0.8389943232496753,0.5655333222889819,0.8340956425183733,-0.15220787930449725,0.6063324433978002,0.39447121021818304,0.8012174368040602,-0.4524824053024875,0.2689620524703427,1.0643325525380205,1.0783998822578078,-0.03825788687720652,0.6329052259399083,0.33713256619547927,0.27032619912003586,-0.717548194488413,-0.2875875709908512,0.21347401837620983,-0.04344344923729692,-0.7242593113807917,0.7744418634244747,1.096076728553772,1.1114321294517173,0.2147980130227216,0.08742131983004335,-0.4502736978288902,-1.5059120730456406,0.8043682124521694,-0.2678059550379407,1.334358892775302,-0.2737597247863974,1.6702525004101259,-0.36504076936359453,0.8456445752232035,1.1105774081040702,-0.8594118399840117,-0.5534436461112096,0.6020289632272275,0.019358984970872756,0.26440060902068796,0.9491007070952712,1.1031765296077258,-0.31784139643044,-0.9237044909621729,-0.2086822162055442,0.029139538934306947,0.7795890666658635,-0.3773090871952696,0.5765631276029317,0.2684898745165888,-0.25246699066385264,0.43972364967924166,0.5699752510236905,1.096076728553772,-0.021598037151344913,0.3422993250106662,0.5060555396404655,0.08062023477685426,0.0005261491443436218,0.6094537601347133,-0.8182915353667435,0.13548877668900514,0.2752819290888347,0.7998961592428987,-0.03267014780027481,0.5349499494142289,0.8094173857872083,-0.2577454625859928,0.2618331721744315,0.22292452109029012,0.12932429737432535,0.27498846961273166,-0.2603174182406223,1.0998164175347733,0.31214153804029793,0.5225707673193759,-0.49936244858211515,-0.5293292224507717,0.3067076426285946,-0.0407981832136611,0.5782828851353161,-0.03825788687720652,1.0705626736914877,0.9911127324813466,-0.13798678109700482,0.8096832386000901,0.5277723162456084,0.8039806580127404,0.5643751147954269,0.653729723984692,0.7918070633767181,0.8389943232496753,-0.4214481293240131,-0.2695924260819516,1.1173694626763169,0.1962287897133353,1.1337763920265416,0.004615414640244584,-0.041629440925805436,0.27716547923033996,0.4441899661163383,0.29804521414280866,0.3434812542196462,0.2984789800089986,0.2647097380402966,-0.04165023956284449,-0.7548263754192588,1.0383163233008175,-0.062498466921620775,0.5830116985665156,1.371522072482293,0.30543880959655584,-0.29518928087884,0.6445274140738787,0.4385656542600231,0.5656611033451993,1.3349990669866099,0.2752819290888347,1.0743324351261143,1.1496656891684907,-0.2737597247863974,0.06659869421159238,0.5824436679562863,0.235484368152753,1.1236672327375057,0.37214331280379664,0.4113307743717843,0.5427367691579333,0.26622087381825693,-0.07443772473525452,0.5636950725993557,-0.30615885215771904,0.3248196785292827,1.3187477509469234,-0.206658408434684,1.0643325525380205,0.5731833126326605,0.8012480245049047,0.27138721920770387,0.7676498088522291,0.9712293681716996,0.8776347347519694,1.295398728604915,0.22159006759496733,0.8322022686774291,0.9081037404473876,0.8043682124521694,-0.07530594193941278,1.327552061058792,0.5835296459106005],\"yaxis\":\"y\",\"type\":\"scatter\"},{\"hovertemplate\":\"color=cluster 1<br>PC1 (23.6%)=%{x}<br>PC2 (16.8%)=%{y}<extra></extra>\",\"legendgroup\":\"cluster 1\",\"marker\":{\"color\":\"#00cc96\",\"symbol\":\"circle\"},\"mode\":\"markers\",\"name\":\"cluster 1\",\"orientation\":\"v\",\"showlegend\":true,\"x\":[0.009005520826651828,1.2734601402705474,1.6600672514377668,0.7233186371176572,0.732056504450387,1.9742662405113693,-0.11607563529404202,3.1032630448876626,1.4463004030796829,0.7701495389139603,-0.38742185295992015,0.697392153565392,2.560909723544695,2.768870078176786,3.2390831168502507,2.0019481418247755,-0.12831780717875918,2.060875994457924,2.5215670001974555,0.5139788617416563,0.712643121876761,2.1963937792195174,0.771682634255366,1.7666269686163507,2.256960699230405,-0.10500878555564772,2.05535812235246,1.7027584226992314,1.7082445098099115,2.1564198562230468,4.129029105731139,1.9117229574333938,1.93336794993181,-0.35473667481740284,2.080065031004655,1.6210098081197135,0.849801516087793,0.15940198168312228,1.0590401981262902,0.3169252406681891,1.2355346648126988,0.5954413724794789,0.9448769911286452,0.06518041832948888,1.790260698243405,0.4028346720211445,1.5390874763348255,3.0521333278843077,1.306898781399247,0.15799476943078047,0.45143624239343966,1.41494919248405,0.993271088896465,1.5934473483907077,1.9730791442974709,0.3666546639879454,1.4366243791221718,2.510681517117067,2.151959519339181,3.462372799186221,0.3450899044371207,1.490476267263792,0.6508094839255472,0.035139266673747435,1.4894902570977386,1.710657942813132,2.7433639398756857,0.5633882241790347,2.510078957801955,0.22621626972552034,1.5529820307143287,0.9994447667478875,0.9430446976035752,3.451792597430363,0.918559873326903,2.009365384085787,0.7602809225995605,1.6417519637660871,2.1200997936651658,0.6939517406115303,1.3802530145646406,0.9304161277467544,0.7468103431491322,0.7344854065344237,0.8252400844926078,1.2466226812081118,0.9334405814017778,-0.3375679061725662,1.625959385390435],\"xaxis\":\"x\",\"y\":[-0.524161019592907,-1.7883121904320922,0.30971798009285784,-0.47133490398044786,0.2961878265990984,-0.2812439110414681,-0.35461995761636167,-1.093596404829021,0.8122061046415405,0.07288349081448824,0.8545702980880175,-1.746440263084907,-0.8641927182507789,-0.8061668757405743,-1.1045344735220308,0.3821495236414384,0.5329888121624459,-1.1844966400056387,-1.5212912235390872,0.41719076650091297,-0.444671489824855,-0.011700230949180435,-0.7534843127636954,-1.5147002255635367,-0.8058288364820563,-1.0176739258532652,-0.8152434841358573,-1.517880692354413,0.7878399867028302,-0.2940833893021019,0.05719107914768916,-0.784293562639488,-1.0552609137105153,-0.9901772985732591,-0.7546535017642235,0.38491977716001624,0.22549547686730603,-1.5197840666669806,-0.23334316960055188,-1.571510854317215,-0.465405727826155,-1.6390629258503917,-0.19833265255057744,0.43759340444132805,-1.109512968476235,0.015987979943402706,-0.3010464385174627,-0.22781804608537723,-0.5084852763787042,0.30483491150919023,-1.0883276550385386,0.553949728052108,0.01765984478106297,-0.20505132662193742,0.2509805346708071,0.19233845127913826,0.3817345558679347,0.4484008754415516,-0.8074677673343709,-0.19072175756224663,-0.9858309968674752,0.3049185004794198,-1.5650396950637566,-1.5653731327284373,-0.2821090449326007,0.40255308338838225,1.3566375411886331,0.3939531508381869,1.019436630615729,-1.0497767597045882,-0.5307832404374003,0.5754973852715414,0.018278110804808515,-0.6461306738969115,-0.46505069830577933,0.468434330470827,-1.0186229741766493,-1.5829579346644416,-0.06900646202492597,-0.14304065464265592,0.7968195150308421,-1.978237334112647,-0.9837195279401978,0.7651995224084249,-1.0716425614936842,-0.5156838549657342,0.28141859629423843,-0.23974080846510987,1.2635106789073018],\"yaxis\":\"y\",\"type\":\"scatter\"},{\"hovertemplate\":\"color=cluster 0<br>PC1 (23.6%)=%{x}<br>PC2 (16.8%)=%{y}<extra></extra>\",\"legendgroup\":\"cluster 0\",\"marker\":{\"color\":\"#ab63fa\",\"symbol\":\"circle\"},\"mode\":\"markers\",\"name\":\"cluster 0\",\"orientation\":\"v\",\"showlegend\":true,\"x\":[2.7509316051778754,0.6506162830392527,3.290200370387282,0.6884378646288764,0.819684834461299,0.24592683399916188,1.4956966802944995,1.0764937298978947,0.36958756622516925,1.1556435716458784,0.4559228425227446,0.33016644935136075,1.229547273682537,1.1958000977345666,0.08896093734615858,0.49511737088640256,0.46233712514174147,1.1344968025822606,2.668644605107323,0.9501125501765256,0.5245728709901635,0.1611079527927343,0.6610902096455994,1.042423616634505,4.055251859102751,1.0857789391106554,0.6996344878364879,3.373985256813207,0.4156996062035859,0.9274352434724674,0.9568102946089031,2.852590292164026,2.2155662539883827,0.9772494047239393,3.3647343169499635,0.12587010020857628,1.2447448563263968,0.05737864659952008,0.20141761092267246,1.5664129890310585,1.396163402929306,0.30779415188649817,1.6985369600015612,0.5473392470381616,2.348212992204637,2.3054581732342267,1.345270629807907,1.80821598465045,1.0422312413050463,0.5501095522393543,2.5351754790289682,1.7270967304724891,1.2036878577024304,-0.1773649839738213,1.1403120322149574,1.1573966010428798,0.5413576800520978,0.4635173717309587,1.4849305203338132,1.1513490734359628,1.9258632827432067,1.1609286467002733,2.726346535273865,0.3581498641533683,0.09175060378126405,0.6295883820541683,0.6618025052225447,0.2625820247373926,2.3112205772068397,1.042513208939179,2.320896226120737,0.5899786092540303,0.7361725668815863,1.5742442659705091,0.7378680128984192,0.027067523061332373,0.11273369080433984,1.233052649941232,0.2702582608607137,1.8421700669408922,1.1617913459820428,2.857776500073344,0.5986030592184033,0.5604954312615711,0.4292443088692795,0.0070552992546687645,1.4307693181408885,1.1451648261329725,0.22524745243401478,1.3186860949422683,0.6536938410240919,0.09141102265340635,0.5576045833905919,1.6651296232726933,1.6201812036733843,1.8853728501322813,3.745755199217252,1.5417436011081282,0.07052431853740544,0.7280493683866013,0.1968998369807594,0.6537936423666518,0.4375029433596267,0.1416053416523643,1.3480472696681096,0.6293204450213284,1.1276365967706026,1.252316031838872,1.560377448613522,2.797083017166762,3.4302989632028775,1.1333214706239343,1.1432117987402244,0.5256141329022952,0.7344136418242456,0.9694461181785802,3.5114989176938582,2.4225743516825995,0.9183547159063634,0.09191786959159744,0.5289134228691205,1.3158143104311841,0.26064017098886544,0.7996405043512375,1.8310610049678904,-0.13912167769120573,0.43153566548137384,0.3174499728478529,1.094815178744163,1.5098636784062827,0.7814191341035635,2.1084252999593347,0.5955455450820923,1.7443984467608717,2.2393851829595133,2.7907399681510068,2.410690551233877,1.4932832727970575,0.4576114483182796,0.6783297321004773,0.29427325925360814,1.2874458526050125,1.0405387341617025,0.4499875800890096,0.4544997531579668,2.1276084492365777,0.9853316008994356,0.7410390789769,1.669946342961771,1.757096286387023,1.0836241461619602,0.6417642607093035,0.9033817720903898,1.4457473702396602,0.1358623662786311,0.5377333664067813,0.20583299782149728,1.2498654309864554,0.8042726019778201,1.1878959257987793,1.0554543944308175,1.274385830898739,0.3824168032707299,0.9396737686935646,1.6198911203746138,1.8297265015085302,1.7402398895996074,0.8701799600467829,0.6184163860910268,1.5586633264775567,1.3186068563751783,0.9530507873214619],\"xaxis\":\"x\",\"y\":[-0.922022053186456,0.5252078141516594,2.896698906819303,1.0157180968187882,1.103725842461288,0.8289114476677757,1.3031171933376025,1.616994406837461,1.3958751146970563,2.385021402432157,0.2779742631068045,1.380611263385409,-0.10619624606198949,0.9899390834095482,0.5782685730446199,2.356478547284159,0.5207961183181786,1.5372715883413837,2.3253115686531634,-0.533410245023386,0.27701369031353273,0.57640726870883,1.5938667304784968,0.31181813803836333,1.948874756450836,0.2691611184721176,1.827637794940757,2.0832770256361144,1.6008057163576994,0.28953417632957923,0.018162646090592368,2.162795408352886,1.01481384421558,0.3341622682214594,1.7151462100214543,0.8629623528037058,-0.5676446791320218,1.0998416893890097,1.9386651426804689,2.5304124897721145,1.7202183393396904,1.372896823716604,2.446556953618869,1.3574498982291854,2.745539476795398,1.4368203081236295,1.6126361683969441,1.7791195230554209,1.583734684738924,2.115666609880488,1.144613217010304,0.6294398966069272,-0.061757739603728205,1.0934005343473363,-0.3051504406335345,1.5831402211986219,0.2433129120245182,1.2464104512323224,1.5404639006175451,-0.130366382040246,1.6532767521153355,0.37229912847519137,3.062711345620425,1.594372841748225,0.5841174637637397,1.2879920838641983,1.8179109663698712,0.5523575791461578,2.2744265641769124,0.2670982287134736,1.4971106763289654,-0.21397410853781224,1.6072408922371832,1.4900948840986097,0.3081988655356147,0.9911058319877538,1.626523548544671,2.0164719577277657,1.070771268033265,0.5567688378604598,0.3601748048122048,1.348146402329437,1.1632091128588746,1.2841841859280427,0.5576555012796351,1.627534542503114,1.2496574218387335,0.7536379642001612,1.6839975351916516,0.4516618753009859,0.6487711893170376,1.6570083498579864,2.3876241518624957,0.4977344701016207,0.23943203395556195,0.7106233067701297,1.2874024102825163,1.0594611503171774,0.3843417690271939,1.4305032992648992,1.5396632637782786,0.7950221638409853,1.2234629730720317,1.668782589621644,0.49773617190094616,0.24968833328878576,1.9107052726904412,1.0573221125944476,1.7994782306855923,1.2628617067202201,2.0082040385203124,0.2729337476498285,1.051610604641006,0.8011377075911208,1.0410322829200365,0.5145971975794245,2.0081840854953996,2.437583628550825,0.7880378074727913,0.9433433798018944,2.136153130725672,1.300155206200816,1.393666815583243,0.15669608384971487,2.508916620527228,1.636391112046949,1.3518472681422167,0.4914198999803778,0.217706288886711,-0.031351119248222654,0.7561972333546978,1.7639906197464121,1.379877384640335,0.000672130806543185,0.89151110642001,1.331276401151316,0.3423533397905232,1.269503611104381,1.2522582889864926,1.2930752797779634,0.7978148405930585,1.6938015549188803,0.7540352256517073,1.8862683031579426,0.31066635134246634,1.7452183192647883,1.717697316621124,1.7316274921270047,2.608056970783873,2.2905483253099472,0.26342606879690195,-0.14008019326578017,1.1253999965807453,1.5915470981646063,0.5731481623176267,1.2419332704669213,1.0774379267956764,0.2598783006876638,1.6527989666141367,-0.03625821019869059,-0.2645224653978975,-0.249745453135046,0.8270820283586898,1.2786062978007076,2.3048007770042243,0.656256429078177,1.2834145884238912,1.5650403814781915,1.0901525916270218,0.2249524272837662,1.3457209276885493,0.10989836058408159],\"yaxis\":\"y\",\"type\":\"scatter\"}],                        {\"template\":{\"data\":{\"histogram2dcontour\":[{\"type\":\"histogram2dcontour\",\"colorbar\":{\"outlinewidth\":0,\"ticks\":\"\"},\"colorscale\":[[0.0,\"#0d0887\"],[0.1111111111111111,\"#46039f\"],[0.2222222222222222,\"#7201a8\"],[0.3333333333333333,\"#9c179e\"],[0.4444444444444444,\"#bd3786\"],[0.5555555555555556,\"#d8576b\"],[0.6666666666666666,\"#ed7953\"],[0.7777777777777778,\"#fb9f3a\"],[0.8888888888888888,\"#fdca26\"],[1.0,\"#f0f921\"]]}],\"choropleth\":[{\"type\":\"choropleth\",\"colorbar\":{\"outlinewidth\":0,\"ticks\":\"\"}}],\"histogram2d\":[{\"type\":\"histogram2d\",\"colorbar\":{\"outlinewidth\":0,\"ticks\":\"\"},\"colorscale\":[[0.0,\"#0d0887\"],[0.1111111111111111,\"#46039f\"],[0.2222222222222222,\"#7201a8\"],[0.3333333333333333,\"#9c179e\"],[0.4444444444444444,\"#bd3786\"],[0.5555555555555556,\"#d8576b\"],[0.6666666666666666,\"#ed7953\"],[0.7777777777777778,\"#fb9f3a\"],[0.8888888888888888,\"#fdca26\"],[1.0,\"#f0f921\"]]}],\"heatmap\":[{\"type\":\"heatmap\",\"colorbar\":{\"outlinewidth\":0,\"ticks\":\"\"},\"colorscale\":[[0.0,\"#0d0887\"],[0.1111111111111111,\"#46039f\"],[0.2222222222222222,\"#7201a8\"],[0.3333333333333333,\"#9c179e\"],[0.4444444444444444,\"#bd3786\"],[0.5555555555555556,\"#d8576b\"],[0.6666666666666666,\"#ed7953\"],[0.7777777777777778,\"#fb9f3a\"],[0.8888888888888888,\"#fdca26\"],[1.0,\"#f0f921\"]]}],\"heatmapgl\":[{\"type\":\"heatmapgl\",\"colorbar\":{\"outlinewidth\":0,\"ticks\":\"\"},\"colorscale\":[[0.0,\"#0d0887\"],[0.1111111111111111,\"#46039f\"],[0.2222222222222222,\"#7201a8\"],[0.3333333333333333,\"#9c179e\"],[0.4444444444444444,\"#bd3786\"],[0.5555555555555556,\"#d8576b\"],[0.6666666666666666,\"#ed7953\"],[0.7777777777777778,\"#fb9f3a\"],[0.8888888888888888,\"#fdca26\"],[1.0,\"#f0f921\"]]}],\"contourcarpet\":[{\"type\":\"contourcarpet\",\"colorbar\":{\"outlinewidth\":0,\"ticks\":\"\"}}],\"contour\":[{\"type\":\"contour\",\"colorbar\":{\"outlinewidth\":0,\"ticks\":\"\"},\"colorscale\":[[0.0,\"#0d0887\"],[0.1111111111111111,\"#46039f\"],[0.2222222222222222,\"#7201a8\"],[0.3333333333333333,\"#9c179e\"],[0.4444444444444444,\"#bd3786\"],[0.5555555555555556,\"#d8576b\"],[0.6666666666666666,\"#ed7953\"],[0.7777777777777778,\"#fb9f3a\"],[0.8888888888888888,\"#fdca26\"],[1.0,\"#f0f921\"]]}],\"surface\":[{\"type\":\"surface\",\"colorbar\":{\"outlinewidth\":0,\"ticks\":\"\"},\"colorscale\":[[0.0,\"#0d0887\"],[0.1111111111111111,\"#46039f\"],[0.2222222222222222,\"#7201a8\"],[0.3333333333333333,\"#9c179e\"],[0.4444444444444444,\"#bd3786\"],[0.5555555555555556,\"#d8576b\"],[0.6666666666666666,\"#ed7953\"],[0.7777777777777778,\"#fb9f3a\"],[0.8888888888888888,\"#fdca26\"],[1.0,\"#f0f921\"]]}],\"mesh3d\":[{\"type\":\"mesh3d\",\"colorbar\":{\"outlinewidth\":0,\"ticks\":\"\"}}],\"scatter\":[{\"fillpattern\":{\"fillmode\":\"overlay\",\"size\":10,\"solidity\":0.2},\"type\":\"scatter\"}],\"parcoords\":[{\"type\":\"parcoords\",\"line\":{\"colorbar\":{\"outlinewidth\":0,\"ticks\":\"\"}}}],\"scatterpolargl\":[{\"type\":\"scatterpolargl\",\"marker\":{\"colorbar\":{\"outlinewidth\":0,\"ticks\":\"\"}}}],\"bar\":[{\"error_x\":{\"color\":\"#2a3f5f\"},\"error_y\":{\"color\":\"#2a3f5f\"},\"marker\":{\"line\":{\"color\":\"#E5ECF6\",\"width\":0.5},\"pattern\":{\"fillmode\":\"overlay\",\"size\":10,\"solidity\":0.2}},\"type\":\"bar\"}],\"scattergeo\":[{\"type\":\"scattergeo\",\"marker\":{\"colorbar\":{\"outlinewidth\":0,\"ticks\":\"\"}}}],\"scatterpolar\":[{\"type\":\"scatterpolar\",\"marker\":{\"colorbar\":{\"outlinewidth\":0,\"ticks\":\"\"}}}],\"histogram\":[{\"marker\":{\"pattern\":{\"fillmode\":\"overlay\",\"size\":10,\"solidity\":0.2}},\"type\":\"histogram\"}],\"scattergl\":[{\"type\":\"scattergl\",\"marker\":{\"colorbar\":{\"outlinewidth\":0,\"ticks\":\"\"}}}],\"scatter3d\":[{\"type\":\"scatter3d\",\"line\":{\"colorbar\":{\"outlinewidth\":0,\"ticks\":\"\"}},\"marker\":{\"colorbar\":{\"outlinewidth\":0,\"ticks\":\"\"}}}],\"scattermapbox\":[{\"type\":\"scattermapbox\",\"marker\":{\"colorbar\":{\"outlinewidth\":0,\"ticks\":\"\"}}}],\"scatterternary\":[{\"type\":\"scatterternary\",\"marker\":{\"colorbar\":{\"outlinewidth\":0,\"ticks\":\"\"}}}],\"scattercarpet\":[{\"type\":\"scattercarpet\",\"marker\":{\"colorbar\":{\"outlinewidth\":0,\"ticks\":\"\"}}}],\"carpet\":[{\"aaxis\":{\"endlinecolor\":\"#2a3f5f\",\"gridcolor\":\"white\",\"linecolor\":\"white\",\"minorgridcolor\":\"white\",\"startlinecolor\":\"#2a3f5f\"},\"baxis\":{\"endlinecolor\":\"#2a3f5f\",\"gridcolor\":\"white\",\"linecolor\":\"white\",\"minorgridcolor\":\"white\",\"startlinecolor\":\"#2a3f5f\"},\"type\":\"carpet\"}],\"table\":[{\"cells\":{\"fill\":{\"color\":\"#EBF0F8\"},\"line\":{\"color\":\"white\"}},\"header\":{\"fill\":{\"color\":\"#C8D4E3\"},\"line\":{\"color\":\"white\"}},\"type\":\"table\"}],\"barpolar\":[{\"marker\":{\"line\":{\"color\":\"#E5ECF6\",\"width\":0.5},\"pattern\":{\"fillmode\":\"overlay\",\"size\":10,\"solidity\":0.2}},\"type\":\"barpolar\"}],\"pie\":[{\"automargin\":true,\"type\":\"pie\"}]},\"layout\":{\"autotypenumbers\":\"strict\",\"colorway\":[\"#636efa\",\"#EF553B\",\"#00cc96\",\"#ab63fa\",\"#FFA15A\",\"#19d3f3\",\"#FF6692\",\"#B6E880\",\"#FF97FF\",\"#FECB52\"],\"font\":{\"color\":\"#2a3f5f\"},\"hovermode\":\"closest\",\"hoverlabel\":{\"align\":\"left\"},\"paper_bgcolor\":\"white\",\"plot_bgcolor\":\"#E5ECF6\",\"polar\":{\"bgcolor\":\"#E5ECF6\",\"angularaxis\":{\"gridcolor\":\"white\",\"linecolor\":\"white\",\"ticks\":\"\"},\"radialaxis\":{\"gridcolor\":\"white\",\"linecolor\":\"white\",\"ticks\":\"\"}},\"ternary\":{\"bgcolor\":\"#E5ECF6\",\"aaxis\":{\"gridcolor\":\"white\",\"linecolor\":\"white\",\"ticks\":\"\"},\"baxis\":{\"gridcolor\":\"white\",\"linecolor\":\"white\",\"ticks\":\"\"},\"caxis\":{\"gridcolor\":\"white\",\"linecolor\":\"white\",\"ticks\":\"\"}},\"coloraxis\":{\"colorbar\":{\"outlinewidth\":0,\"ticks\":\"\"}},\"colorscale\":{\"sequential\":[[0.0,\"#0d0887\"],[0.1111111111111111,\"#46039f\"],[0.2222222222222222,\"#7201a8\"],[0.3333333333333333,\"#9c179e\"],[0.4444444444444444,\"#bd3786\"],[0.5555555555555556,\"#d8576b\"],[0.6666666666666666,\"#ed7953\"],[0.7777777777777778,\"#fb9f3a\"],[0.8888888888888888,\"#fdca26\"],[1.0,\"#f0f921\"]],\"sequentialminus\":[[0.0,\"#0d0887\"],[0.1111111111111111,\"#46039f\"],[0.2222222222222222,\"#7201a8\"],[0.3333333333333333,\"#9c179e\"],[0.4444444444444444,\"#bd3786\"],[0.5555555555555556,\"#d8576b\"],[0.6666666666666666,\"#ed7953\"],[0.7777777777777778,\"#fb9f3a\"],[0.8888888888888888,\"#fdca26\"],[1.0,\"#f0f921\"]],\"diverging\":[[0,\"#8e0152\"],[0.1,\"#c51b7d\"],[0.2,\"#de77ae\"],[0.3,\"#f1b6da\"],[0.4,\"#fde0ef\"],[0.5,\"#f7f7f7\"],[0.6,\"#e6f5d0\"],[0.7,\"#b8e186\"],[0.8,\"#7fbc41\"],[0.9,\"#4d9221\"],[1,\"#276419\"]]},\"xaxis\":{\"gridcolor\":\"white\",\"linecolor\":\"white\",\"ticks\":\"\",\"title\":{\"standoff\":15},\"zerolinecolor\":\"white\",\"automargin\":true,\"zerolinewidth\":2},\"yaxis\":{\"gridcolor\":\"white\",\"linecolor\":\"white\",\"ticks\":\"\",\"title\":{\"standoff\":15},\"zerolinecolor\":\"white\",\"automargin\":true,\"zerolinewidth\":2},\"scene\":{\"xaxis\":{\"backgroundcolor\":\"#E5ECF6\",\"gridcolor\":\"white\",\"linecolor\":\"white\",\"showbackground\":true,\"ticks\":\"\",\"zerolinecolor\":\"white\",\"gridwidth\":2},\"yaxis\":{\"backgroundcolor\":\"#E5ECF6\",\"gridcolor\":\"white\",\"linecolor\":\"white\",\"showbackground\":true,\"ticks\":\"\",\"zerolinecolor\":\"white\",\"gridwidth\":2},\"zaxis\":{\"backgroundcolor\":\"#E5ECF6\",\"gridcolor\":\"white\",\"linecolor\":\"white\",\"showbackground\":true,\"ticks\":\"\",\"zerolinecolor\":\"white\",\"gridwidth\":2}},\"shapedefaults\":{\"line\":{\"color\":\"#2a3f5f\"}},\"annotationdefaults\":{\"arrowcolor\":\"#2a3f5f\",\"arrowhead\":0,\"arrowwidth\":1},\"geo\":{\"bgcolor\":\"white\",\"landcolor\":\"#E5ECF6\",\"subunitcolor\":\"white\",\"showland\":true,\"showlakes\":true,\"lakecolor\":\"white\"},\"title\":{\"x\":0.05},\"mapbox\":{\"style\":\"light\"}}},\"xaxis\":{\"anchor\":\"y\",\"domain\":[0.0,1.0],\"title\":{\"text\":\"PC1 (23.6%)\"}},\"yaxis\":{\"anchor\":\"x\",\"domain\":[0.0,1.0],\"title\":{\"text\":\"PC2 (16.8%)\"}},\"legend\":{\"title\":{\"text\":\"color\"},\"tracegroupgap\":0},\"margin\":{\"t\":60}},                        {\"responsive\": true}                    ).then(function(){\n",
       "                            \n",
       "var gd = document.getElementById('d2e8f451-8f72-4fbf-a242-7fbf60607c6b');\n",
       "var x = new MutationObserver(function (mutations, observer) {{\n",
       "        var display = window.getComputedStyle(gd).display;\n",
       "        if (!display || display === 'none') {{\n",
       "            console.log([gd, 'removed!']);\n",
       "            Plotly.purge(gd);\n",
       "            observer.disconnect();\n",
       "        }}\n",
       "}});\n",
       "\n",
       "// Listen for the removal of the full notebook cells\n",
       "var notebookContainer = gd.closest('#notebook-container');\n",
       "if (notebookContainer) {{\n",
       "    x.observe(notebookContainer, {childList: true});\n",
       "}}\n",
       "\n",
       "// Listen for the clearing of the current output cell\n",
       "var outputEl = gd.closest('.output');\n",
       "if (outputEl) {{\n",
       "    x.observe(outputEl, {childList: true});\n",
       "}}\n",
       "\n",
       "                        })                };                });            </script>        </div>"
      ]
     },
     "metadata": {},
     "output_type": "display_data"
    }
   ],
   "source": [
    "plot_pca(components=components)"
   ]
  },
  {
   "cell_type": "markdown",
   "metadata": {},
   "source": [
    "## Radar Chart\n"
   ]
  },
  {
   "cell_type": "code",
   "execution_count": 212,
   "metadata": {},
   "outputs": [
    {
     "data": {
      "text/html": [
       "<div>\n",
       "<style scoped>\n",
       "    .dataframe tbody tr th:only-of-type {\n",
       "        vertical-align: middle;\n",
       "    }\n",
       "\n",
       "    .dataframe tbody tr th {\n",
       "        vertical-align: top;\n",
       "    }\n",
       "\n",
       "    .dataframe thead th {\n",
       "        text-align: right;\n",
       "    }\n",
       "</style>\n",
       "<table border=\"1\" class=\"dataframe\">\n",
       "  <thead>\n",
       "    <tr style=\"text-align: right;\">\n",
       "      <th></th>\n",
       "      <th>age</th>\n",
       "      <th>income</th>\n",
       "      <th>years_with_bank</th>\n",
       "      <th>nbr_children</th>\n",
       "      <th>y_km</th>\n",
       "    </tr>\n",
       "  </thead>\n",
       "  <tbody>\n",
       "    <tr>\n",
       "      <th>0</th>\n",
       "      <td>0.434211</td>\n",
       "      <td>0.181399</td>\n",
       "      <td>0.555556</td>\n",
       "      <td>0.2</td>\n",
       "      <td>2</td>\n",
       "    </tr>\n",
       "    <tr>\n",
       "      <th>1</th>\n",
       "      <td>0.763158</td>\n",
       "      <td>0.045818</td>\n",
       "      <td>0.111111</td>\n",
       "      <td>0.0</td>\n",
       "      <td>2</td>\n",
       "    </tr>\n",
       "    <tr>\n",
       "      <th>2</th>\n",
       "      <td>0.328947</td>\n",
       "      <td>0.128665</td>\n",
       "      <td>0.888889</td>\n",
       "      <td>0.0</td>\n",
       "      <td>3</td>\n",
       "    </tr>\n",
       "    <tr>\n",
       "      <th>3</th>\n",
       "      <td>0.539474</td>\n",
       "      <td>0.330667</td>\n",
       "      <td>0.333333</td>\n",
       "      <td>0.0</td>\n",
       "      <td>1</td>\n",
       "    </tr>\n",
       "    <tr>\n",
       "      <th>4</th>\n",
       "      <td>0.605263</td>\n",
       "      <td>0.309066</td>\n",
       "      <td>1.000000</td>\n",
       "      <td>0.4</td>\n",
       "      <td>0</td>\n",
       "    </tr>\n",
       "  </tbody>\n",
       "</table>\n",
       "</div>"
      ],
      "text/plain": [
       "        age    income  years_with_bank  nbr_children  y_km\n",
       "0  0.434211  0.181399         0.555556           0.2     2\n",
       "1  0.763158  0.045818         0.111111           0.0     2\n",
       "2  0.328947  0.128665         0.888889           0.0     3\n",
       "3  0.539474  0.330667         0.333333           0.0     1\n",
       "4  0.605263  0.309066         1.000000           0.4     0"
      ]
     },
     "execution_count": 212,
     "metadata": {},
     "output_type": "execute_result"
    }
   ],
   "source": [
    "#Radar Chart\n",
    "df_numeric_scaled_mm['y_km'] = y_km\n",
    "df_numeric_scaled_mm.head()"
   ]
  },
  {
   "cell_type": "code",
   "execution_count": 213,
   "metadata": {},
   "outputs": [],
   "source": [
    "# Radar chart\n",
    "categories = df_numeric_scaled_mm.columns.to_list()"
   ]
  },
  {
   "cell_type": "code",
   "execution_count": 214,
   "metadata": {},
   "outputs": [
    {
     "data": {
      "text/plain": [
       "['age', 'income', 'years_with_bank', 'nbr_children', 'y_km']"
      ]
     },
     "execution_count": 214,
     "metadata": {},
     "output_type": "execute_result"
    }
   ],
   "source": [
    "categories"
   ]
  },
  {
   "cell_type": "code",
   "execution_count": 215,
   "metadata": {},
   "outputs": [
    {
     "data": {
      "text/html": [
       "<div>\n",
       "<style scoped>\n",
       "    .dataframe tbody tr th:only-of-type {\n",
       "        vertical-align: middle;\n",
       "    }\n",
       "\n",
       "    .dataframe tbody tr th {\n",
       "        vertical-align: top;\n",
       "    }\n",
       "\n",
       "    .dataframe thead th {\n",
       "        text-align: right;\n",
       "    }\n",
       "</style>\n",
       "<table border=\"1\" class=\"dataframe\">\n",
       "  <thead>\n",
       "    <tr style=\"text-align: right;\">\n",
       "      <th></th>\n",
       "      <th>age</th>\n",
       "      <th>income</th>\n",
       "      <th>years_with_bank</th>\n",
       "      <th>nbr_children</th>\n",
       "    </tr>\n",
       "    <tr>\n",
       "      <th>y_km</th>\n",
       "      <th></th>\n",
       "      <th></th>\n",
       "      <th></th>\n",
       "      <th></th>\n",
       "    </tr>\n",
       "  </thead>\n",
       "  <tbody>\n",
       "    <tr>\n",
       "      <th>0</th>\n",
       "      <td>0.329177</td>\n",
       "      <td>0.186678</td>\n",
       "      <td>0.367571</td>\n",
       "      <td>0.472093</td>\n",
       "    </tr>\n",
       "    <tr>\n",
       "      <th>1</th>\n",
       "      <td>0.482998</td>\n",
       "      <td>0.459521</td>\n",
       "      <td>0.506866</td>\n",
       "      <td>0.150562</td>\n",
       "    </tr>\n",
       "    <tr>\n",
       "      <th>2</th>\n",
       "      <td>0.646228</td>\n",
       "      <td>0.123596</td>\n",
       "      <td>0.513720</td>\n",
       "      <td>0.035628</td>\n",
       "    </tr>\n",
       "    <tr>\n",
       "      <th>3</th>\n",
       "      <td>0.127725</td>\n",
       "      <td>0.059582</td>\n",
       "      <td>0.372850</td>\n",
       "      <td>0.014226</td>\n",
       "    </tr>\n",
       "  </tbody>\n",
       "</table>\n",
       "</div>"
      ],
      "text/plain": [
       "           age    income  years_with_bank  nbr_children\n",
       "y_km                                                   \n",
       "0     0.329177  0.186678         0.367571      0.472093\n",
       "1     0.482998  0.459521         0.506866      0.150562\n",
       "2     0.646228  0.123596         0.513720      0.035628\n",
       "3     0.127725  0.059582         0.372850      0.014226"
      ]
     },
     "execution_count": 215,
     "metadata": {},
     "output_type": "execute_result"
    }
   ],
   "source": [
    "radar_df = df_numeric_scaled_mm.groupby(by='y_km').mean()\n",
    "radar_df.head()"
   ]
  },
  {
   "cell_type": "code",
   "execution_count": 216,
   "metadata": {},
   "outputs": [
    {
     "data": {
      "application/vnd.plotly.v1+json": {
       "config": {
        "plotlyServerURL": "https://plot.ly"
       },
       "data": [
        {
         "fill": "toself",
         "name": "Cluster 0",
         "r": [
          0.3291768665850675,
          0.18667841311902986,
          0.3675710594315247,
          0.4720930232558145
         ],
         "theta": [
          "age",
          "income",
          "years_with_bank",
          "nbr_children",
          "y_km"
         ],
         "type": "scatterpolar"
        },
        {
         "fill": "toself",
         "name": "Cluster 1",
         "r": [
          0.4829982259018334,
          0.45952107615503157,
          0.5068664169787767,
          0.15056179775280898
         ],
         "theta": [
          "age",
          "income",
          "years_with_bank",
          "nbr_children",
          "y_km"
         ],
         "type": "scatterpolar"
        },
        {
         "fill": "toself",
         "name": "Cluster 2",
         "r": [
          0.6462284253142979,
          0.12359643651002519,
          0.5137201979307245,
          0.035627530364372474
         ],
         "theta": [
          "age",
          "income",
          "years_with_bank",
          "nbr_children",
          "y_km"
         ],
         "type": "scatterpolar"
        },
        {
         "fill": "toself",
         "name": "Cluster 3",
         "r": [
          0.12772517066725397,
          0.059582295836626026,
          0.37284983728498405,
          0.014225941422594146
         ],
         "theta": [
          "age",
          "income",
          "years_with_bank",
          "nbr_children",
          "y_km"
         ],
         "type": "scatterpolar"
        }
       ],
       "layout": {
        "autosize": true,
        "polar": {
         "angularaxis": {
          "type": "category"
         },
         "radialaxis": {
          "autorange": true,
          "range": [
           0,
           0.6743253133714413
          ],
          "type": "linear",
          "visible": true
         }
        },
        "showlegend": false,
        "template": {
         "data": {
          "bar": [
           {
            "error_x": {
             "color": "#2a3f5f"
            },
            "error_y": {
             "color": "#2a3f5f"
            },
            "marker": {
             "line": {
              "color": "#E5ECF6",
              "width": 0.5
             },
             "pattern": {
              "fillmode": "overlay",
              "size": 10,
              "solidity": 0.2
             }
            },
            "type": "bar"
           }
          ],
          "barpolar": [
           {
            "marker": {
             "line": {
              "color": "#E5ECF6",
              "width": 0.5
             },
             "pattern": {
              "fillmode": "overlay",
              "size": 10,
              "solidity": 0.2
             }
            },
            "type": "barpolar"
           }
          ],
          "carpet": [
           {
            "aaxis": {
             "endlinecolor": "#2a3f5f",
             "gridcolor": "white",
             "linecolor": "white",
             "minorgridcolor": "white",
             "startlinecolor": "#2a3f5f"
            },
            "baxis": {
             "endlinecolor": "#2a3f5f",
             "gridcolor": "white",
             "linecolor": "white",
             "minorgridcolor": "white",
             "startlinecolor": "#2a3f5f"
            },
            "type": "carpet"
           }
          ],
          "choropleth": [
           {
            "colorbar": {
             "outlinewidth": 0,
             "ticks": ""
            },
            "type": "choropleth"
           }
          ],
          "contour": [
           {
            "colorbar": {
             "outlinewidth": 0,
             "ticks": ""
            },
            "colorscale": [
             [
              0,
              "#0d0887"
             ],
             [
              0.1111111111111111,
              "#46039f"
             ],
             [
              0.2222222222222222,
              "#7201a8"
             ],
             [
              0.3333333333333333,
              "#9c179e"
             ],
             [
              0.4444444444444444,
              "#bd3786"
             ],
             [
              0.5555555555555556,
              "#d8576b"
             ],
             [
              0.6666666666666666,
              "#ed7953"
             ],
             [
              0.7777777777777778,
              "#fb9f3a"
             ],
             [
              0.8888888888888888,
              "#fdca26"
             ],
             [
              1,
              "#f0f921"
             ]
            ],
            "type": "contour"
           }
          ],
          "contourcarpet": [
           {
            "colorbar": {
             "outlinewidth": 0,
             "ticks": ""
            },
            "type": "contourcarpet"
           }
          ],
          "heatmap": [
           {
            "colorbar": {
             "outlinewidth": 0,
             "ticks": ""
            },
            "colorscale": [
             [
              0,
              "#0d0887"
             ],
             [
              0.1111111111111111,
              "#46039f"
             ],
             [
              0.2222222222222222,
              "#7201a8"
             ],
             [
              0.3333333333333333,
              "#9c179e"
             ],
             [
              0.4444444444444444,
              "#bd3786"
             ],
             [
              0.5555555555555556,
              "#d8576b"
             ],
             [
              0.6666666666666666,
              "#ed7953"
             ],
             [
              0.7777777777777778,
              "#fb9f3a"
             ],
             [
              0.8888888888888888,
              "#fdca26"
             ],
             [
              1,
              "#f0f921"
             ]
            ],
            "type": "heatmap"
           }
          ],
          "heatmapgl": [
           {
            "colorbar": {
             "outlinewidth": 0,
             "ticks": ""
            },
            "colorscale": [
             [
              0,
              "#0d0887"
             ],
             [
              0.1111111111111111,
              "#46039f"
             ],
             [
              0.2222222222222222,
              "#7201a8"
             ],
             [
              0.3333333333333333,
              "#9c179e"
             ],
             [
              0.4444444444444444,
              "#bd3786"
             ],
             [
              0.5555555555555556,
              "#d8576b"
             ],
             [
              0.6666666666666666,
              "#ed7953"
             ],
             [
              0.7777777777777778,
              "#fb9f3a"
             ],
             [
              0.8888888888888888,
              "#fdca26"
             ],
             [
              1,
              "#f0f921"
             ]
            ],
            "type": "heatmapgl"
           }
          ],
          "histogram": [
           {
            "marker": {
             "pattern": {
              "fillmode": "overlay",
              "size": 10,
              "solidity": 0.2
             }
            },
            "type": "histogram"
           }
          ],
          "histogram2d": [
           {
            "colorbar": {
             "outlinewidth": 0,
             "ticks": ""
            },
            "colorscale": [
             [
              0,
              "#0d0887"
             ],
             [
              0.1111111111111111,
              "#46039f"
             ],
             [
              0.2222222222222222,
              "#7201a8"
             ],
             [
              0.3333333333333333,
              "#9c179e"
             ],
             [
              0.4444444444444444,
              "#bd3786"
             ],
             [
              0.5555555555555556,
              "#d8576b"
             ],
             [
              0.6666666666666666,
              "#ed7953"
             ],
             [
              0.7777777777777778,
              "#fb9f3a"
             ],
             [
              0.8888888888888888,
              "#fdca26"
             ],
             [
              1,
              "#f0f921"
             ]
            ],
            "type": "histogram2d"
           }
          ],
          "histogram2dcontour": [
           {
            "colorbar": {
             "outlinewidth": 0,
             "ticks": ""
            },
            "colorscale": [
             [
              0,
              "#0d0887"
             ],
             [
              0.1111111111111111,
              "#46039f"
             ],
             [
              0.2222222222222222,
              "#7201a8"
             ],
             [
              0.3333333333333333,
              "#9c179e"
             ],
             [
              0.4444444444444444,
              "#bd3786"
             ],
             [
              0.5555555555555556,
              "#d8576b"
             ],
             [
              0.6666666666666666,
              "#ed7953"
             ],
             [
              0.7777777777777778,
              "#fb9f3a"
             ],
             [
              0.8888888888888888,
              "#fdca26"
             ],
             [
              1,
              "#f0f921"
             ]
            ],
            "type": "histogram2dcontour"
           }
          ],
          "mesh3d": [
           {
            "colorbar": {
             "outlinewidth": 0,
             "ticks": ""
            },
            "type": "mesh3d"
           }
          ],
          "parcoords": [
           {
            "line": {
             "colorbar": {
              "outlinewidth": 0,
              "ticks": ""
             }
            },
            "type": "parcoords"
           }
          ],
          "pie": [
           {
            "automargin": true,
            "type": "pie"
           }
          ],
          "scatter": [
           {
            "fillpattern": {
             "fillmode": "overlay",
             "size": 10,
             "solidity": 0.2
            },
            "type": "scatter"
           }
          ],
          "scatter3d": [
           {
            "line": {
             "colorbar": {
              "outlinewidth": 0,
              "ticks": ""
             }
            },
            "marker": {
             "colorbar": {
              "outlinewidth": 0,
              "ticks": ""
             }
            },
            "type": "scatter3d"
           }
          ],
          "scattercarpet": [
           {
            "marker": {
             "colorbar": {
              "outlinewidth": 0,
              "ticks": ""
             }
            },
            "type": "scattercarpet"
           }
          ],
          "scattergeo": [
           {
            "marker": {
             "colorbar": {
              "outlinewidth": 0,
              "ticks": ""
             }
            },
            "type": "scattergeo"
           }
          ],
          "scattergl": [
           {
            "marker": {
             "colorbar": {
              "outlinewidth": 0,
              "ticks": ""
             }
            },
            "type": "scattergl"
           }
          ],
          "scattermapbox": [
           {
            "marker": {
             "colorbar": {
              "outlinewidth": 0,
              "ticks": ""
             }
            },
            "type": "scattermapbox"
           }
          ],
          "scatterpolar": [
           {
            "marker": {
             "colorbar": {
              "outlinewidth": 0,
              "ticks": ""
             }
            },
            "type": "scatterpolar"
           }
          ],
          "scatterpolargl": [
           {
            "marker": {
             "colorbar": {
              "outlinewidth": 0,
              "ticks": ""
             }
            },
            "type": "scatterpolargl"
           }
          ],
          "scatterternary": [
           {
            "marker": {
             "colorbar": {
              "outlinewidth": 0,
              "ticks": ""
             }
            },
            "type": "scatterternary"
           }
          ],
          "surface": [
           {
            "colorbar": {
             "outlinewidth": 0,
             "ticks": ""
            },
            "colorscale": [
             [
              0,
              "#0d0887"
             ],
             [
              0.1111111111111111,
              "#46039f"
             ],
             [
              0.2222222222222222,
              "#7201a8"
             ],
             [
              0.3333333333333333,
              "#9c179e"
             ],
             [
              0.4444444444444444,
              "#bd3786"
             ],
             [
              0.5555555555555556,
              "#d8576b"
             ],
             [
              0.6666666666666666,
              "#ed7953"
             ],
             [
              0.7777777777777778,
              "#fb9f3a"
             ],
             [
              0.8888888888888888,
              "#fdca26"
             ],
             [
              1,
              "#f0f921"
             ]
            ],
            "type": "surface"
           }
          ],
          "table": [
           {
            "cells": {
             "fill": {
              "color": "#EBF0F8"
             },
             "line": {
              "color": "white"
             }
            },
            "header": {
             "fill": {
              "color": "#C8D4E3"
             },
             "line": {
              "color": "white"
             }
            },
            "type": "table"
           }
          ]
         },
         "layout": {
          "annotationdefaults": {
           "arrowcolor": "#2a3f5f",
           "arrowhead": 0,
           "arrowwidth": 1
          },
          "autotypenumbers": "strict",
          "coloraxis": {
           "colorbar": {
            "outlinewidth": 0,
            "ticks": ""
           }
          },
          "colorscale": {
           "diverging": [
            [
             0,
             "#8e0152"
            ],
            [
             0.1,
             "#c51b7d"
            ],
            [
             0.2,
             "#de77ae"
            ],
            [
             0.3,
             "#f1b6da"
            ],
            [
             0.4,
             "#fde0ef"
            ],
            [
             0.5,
             "#f7f7f7"
            ],
            [
             0.6,
             "#e6f5d0"
            ],
            [
             0.7,
             "#b8e186"
            ],
            [
             0.8,
             "#7fbc41"
            ],
            [
             0.9,
             "#4d9221"
            ],
            [
             1,
             "#276419"
            ]
           ],
           "sequential": [
            [
             0,
             "#0d0887"
            ],
            [
             0.1111111111111111,
             "#46039f"
            ],
            [
             0.2222222222222222,
             "#7201a8"
            ],
            [
             0.3333333333333333,
             "#9c179e"
            ],
            [
             0.4444444444444444,
             "#bd3786"
            ],
            [
             0.5555555555555556,
             "#d8576b"
            ],
            [
             0.6666666666666666,
             "#ed7953"
            ],
            [
             0.7777777777777778,
             "#fb9f3a"
            ],
            [
             0.8888888888888888,
             "#fdca26"
            ],
            [
             1,
             "#f0f921"
            ]
           ],
           "sequentialminus": [
            [
             0,
             "#0d0887"
            ],
            [
             0.1111111111111111,
             "#46039f"
            ],
            [
             0.2222222222222222,
             "#7201a8"
            ],
            [
             0.3333333333333333,
             "#9c179e"
            ],
            [
             0.4444444444444444,
             "#bd3786"
            ],
            [
             0.5555555555555556,
             "#d8576b"
            ],
            [
             0.6666666666666666,
             "#ed7953"
            ],
            [
             0.7777777777777778,
             "#fb9f3a"
            ],
            [
             0.8888888888888888,
             "#fdca26"
            ],
            [
             1,
             "#f0f921"
            ]
           ]
          },
          "colorway": [
           "#636efa",
           "#EF553B",
           "#00cc96",
           "#ab63fa",
           "#FFA15A",
           "#19d3f3",
           "#FF6692",
           "#B6E880",
           "#FF97FF",
           "#FECB52"
          ],
          "font": {
           "color": "#2a3f5f"
          },
          "geo": {
           "bgcolor": "white",
           "lakecolor": "white",
           "landcolor": "#E5ECF6",
           "showlakes": true,
           "showland": true,
           "subunitcolor": "white"
          },
          "hoverlabel": {
           "align": "left"
          },
          "hovermode": "closest",
          "mapbox": {
           "style": "light"
          },
          "paper_bgcolor": "white",
          "plot_bgcolor": "#E5ECF6",
          "polar": {
           "angularaxis": {
            "gridcolor": "white",
            "linecolor": "white",
            "ticks": ""
           },
           "bgcolor": "#E5ECF6",
           "radialaxis": {
            "gridcolor": "white",
            "linecolor": "white",
            "ticks": ""
           }
          },
          "scene": {
           "xaxis": {
            "backgroundcolor": "#E5ECF6",
            "gridcolor": "white",
            "gridwidth": 2,
            "linecolor": "white",
            "showbackground": true,
            "ticks": "",
            "zerolinecolor": "white"
           },
           "yaxis": {
            "backgroundcolor": "#E5ECF6",
            "gridcolor": "white",
            "gridwidth": 2,
            "linecolor": "white",
            "showbackground": true,
            "ticks": "",
            "zerolinecolor": "white"
           },
           "zaxis": {
            "backgroundcolor": "#E5ECF6",
            "gridcolor": "white",
            "gridwidth": 2,
            "linecolor": "white",
            "showbackground": true,
            "ticks": "",
            "zerolinecolor": "white"
           }
          },
          "shapedefaults": {
           "line": {
            "color": "#2a3f5f"
           }
          },
          "ternary": {
           "aaxis": {
            "gridcolor": "white",
            "linecolor": "white",
            "ticks": ""
           },
           "baxis": {
            "gridcolor": "white",
            "linecolor": "white",
            "ticks": ""
           },
           "bgcolor": "#E5ECF6",
           "caxis": {
            "gridcolor": "white",
            "linecolor": "white",
            "ticks": ""
           }
          },
          "title": {
           "x": 0.05
          },
          "xaxis": {
           "automargin": true,
           "gridcolor": "white",
           "linecolor": "white",
           "ticks": "",
           "title": {
            "standoff": 15
           },
           "zerolinecolor": "white",
           "zerolinewidth": 2
          },
          "yaxis": {
           "automargin": true,
           "gridcolor": "white",
           "linecolor": "white",
           "ticks": "",
           "title": {
            "standoff": 15
           },
           "zerolinecolor": "white",
           "zerolinewidth": 2
          }
         }
        }
       }
      },
      "image/png": "[encoded data removed]",
      "text/html": [
       "<div>                            <div id=\"4087498c-4df9-415b-a795-8ed0cdc0eeea\" class=\"plotly-graph-div\" style=\"height:525px; width:100%;\"></div>            <script type=\"text/javascript\">                require([\"plotly\"], function(Plotly) {                    window.PLOTLYENV=window.PLOTLYENV || {};                                    if (document.getElementById(\"4087498c-4df9-415b-a795-8ed0cdc0eeea\")) {                    Plotly.newPlot(                        \"4087498c-4df9-415b-a795-8ed0cdc0eeea\",                        [{\"fill\":\"toself\",\"name\":\"Cluster 0\",\"r\":[0.3291768665850675,0.18667841311902986,0.3675710594315247,0.4720930232558145],\"theta\":[\"age\",\"income\",\"years_with_bank\",\"nbr_children\",\"y_km\"],\"type\":\"scatterpolar\"},{\"fill\":\"toself\",\"name\":\"Cluster 1\",\"r\":[0.4829982259018334,0.45952107615503157,0.5068664169787767,0.15056179775280898],\"theta\":[\"age\",\"income\",\"years_with_bank\",\"nbr_children\",\"y_km\"],\"type\":\"scatterpolar\"},{\"fill\":\"toself\",\"name\":\"Cluster 2\",\"r\":[0.6462284253142979,0.12359643651002519,0.5137201979307245,0.035627530364372474],\"theta\":[\"age\",\"income\",\"years_with_bank\",\"nbr_children\",\"y_km\"],\"type\":\"scatterpolar\"},{\"fill\":\"toself\",\"name\":\"Cluster 3\",\"r\":[0.12772517066725397,0.059582295836626026,0.37284983728498405,0.014225941422594146],\"theta\":[\"age\",\"income\",\"years_with_bank\",\"nbr_children\",\"y_km\"],\"type\":\"scatterpolar\"}],                        {\"template\":{\"data\":{\"histogram2dcontour\":[{\"type\":\"histogram2dcontour\",\"colorbar\":{\"outlinewidth\":0,\"ticks\":\"\"},\"colorscale\":[[0.0,\"#0d0887\"],[0.1111111111111111,\"#46039f\"],[0.2222222222222222,\"#7201a8\"],[0.3333333333333333,\"#9c179e\"],[0.4444444444444444,\"#bd3786\"],[0.5555555555555556,\"#d8576b\"],[0.6666666666666666,\"#ed7953\"],[0.7777777777777778,\"#fb9f3a\"],[0.8888888888888888,\"#fdca26\"],[1.0,\"#f0f921\"]]}],\"choropleth\":[{\"type\":\"choropleth\",\"colorbar\":{\"outlinewidth\":0,\"ticks\":\"\"}}],\"histogram2d\":[{\"type\":\"histogram2d\",\"colorbar\":{\"outlinewidth\":0,\"ticks\":\"\"},\"colorscale\":[[0.0,\"#0d0887\"],[0.1111111111111111,\"#46039f\"],[0.2222222222222222,\"#7201a8\"],[0.3333333333333333,\"#9c179e\"],[0.4444444444444444,\"#bd3786\"],[0.5555555555555556,\"#d8576b\"],[0.6666666666666666,\"#ed7953\"],[0.7777777777777778,\"#fb9f3a\"],[0.8888888888888888,\"#fdca26\"],[1.0,\"#f0f921\"]]}],\"heatmap\":[{\"type\":\"heatmap\",\"colorbar\":{\"outlinewidth\":0,\"ticks\":\"\"},\"colorscale\":[[0.0,\"#0d0887\"],[0.1111111111111111,\"#46039f\"],[0.2222222222222222,\"#7201a8\"],[0.3333333333333333,\"#9c179e\"],[0.4444444444444444,\"#bd3786\"],[0.5555555555555556,\"#d8576b\"],[0.6666666666666666,\"#ed7953\"],[0.7777777777777778,\"#fb9f3a\"],[0.8888888888888888,\"#fdca26\"],[1.0,\"#f0f921\"]]}],\"heatmapgl\":[{\"type\":\"heatmapgl\",\"colorbar\":{\"outlinewidth\":0,\"ticks\":\"\"},\"colorscale\":[[0.0,\"#0d0887\"],[0.1111111111111111,\"#46039f\"],[0.2222222222222222,\"#7201a8\"],[0.3333333333333333,\"#9c179e\"],[0.4444444444444444,\"#bd3786\"],[0.5555555555555556,\"#d8576b\"],[0.6666666666666666,\"#ed7953\"],[0.7777777777777778,\"#fb9f3a\"],[0.8888888888888888,\"#fdca26\"],[1.0,\"#f0f921\"]]}],\"contourcarpet\":[{\"type\":\"contourcarpet\",\"colorbar\":{\"outlinewidth\":0,\"ticks\":\"\"}}],\"contour\":[{\"type\":\"contour\",\"colorbar\":{\"outlinewidth\":0,\"ticks\":\"\"},\"colorscale\":[[0.0,\"#0d0887\"],[0.1111111111111111,\"#46039f\"],[0.2222222222222222,\"#7201a8\"],[0.3333333333333333,\"#9c179e\"],[0.4444444444444444,\"#bd3786\"],[0.5555555555555556,\"#d8576b\"],[0.6666666666666666,\"#ed7953\"],[0.7777777777777778,\"#fb9f3a\"],[0.8888888888888888,\"#fdca26\"],[1.0,\"#f0f921\"]]}],\"surface\":[{\"type\":\"surface\",\"colorbar\":{\"outlinewidth\":0,\"ticks\":\"\"},\"colorscale\":[[0.0,\"#0d0887\"],[0.1111111111111111,\"#46039f\"],[0.2222222222222222,\"#7201a8\"],[0.3333333333333333,\"#9c179e\"],[0.4444444444444444,\"#bd3786\"],[0.5555555555555556,\"#d8576b\"],[0.6666666666666666,\"#ed7953\"],[0.7777777777777778,\"#fb9f3a\"],[0.8888888888888888,\"#fdca26\"],[1.0,\"#f0f921\"]]}],\"mesh3d\":[{\"type\":\"mesh3d\",\"colorbar\":{\"outlinewidth\":0,\"ticks\":\"\"}}],\"scatter\":[{\"fillpattern\":{\"fillmode\":\"overlay\",\"size\":10,\"solidity\":0.2},\"type\":\"scatter\"}],\"parcoords\":[{\"type\":\"parcoords\",\"line\":{\"colorbar\":{\"outlinewidth\":0,\"ticks\":\"\"}}}],\"scatterpolargl\":[{\"type\":\"scatterpolargl\",\"marker\":{\"colorbar\":{\"outlinewidth\":0,\"ticks\":\"\"}}}],\"bar\":[{\"error_x\":{\"color\":\"#2a3f5f\"},\"error_y\":{\"color\":\"#2a3f5f\"},\"marker\":{\"line\":{\"color\":\"#E5ECF6\",\"width\":0.5},\"pattern\":{\"fillmode\":\"overlay\",\"size\":10,\"solidity\":0.2}},\"type\":\"bar\"}],\"scattergeo\":[{\"type\":\"scattergeo\",\"marker\":{\"colorbar\":{\"outlinewidth\":0,\"ticks\":\"\"}}}],\"scatterpolar\":[{\"type\":\"scatterpolar\",\"marker\":{\"colorbar\":{\"outlinewidth\":0,\"ticks\":\"\"}}}],\"histogram\":[{\"marker\":{\"pattern\":{\"fillmode\":\"overlay\",\"size\":10,\"solidity\":0.2}},\"type\":\"histogram\"}],\"scattergl\":[{\"type\":\"scattergl\",\"marker\":{\"colorbar\":{\"outlinewidth\":0,\"ticks\":\"\"}}}],\"scatter3d\":[{\"type\":\"scatter3d\",\"line\":{\"colorbar\":{\"outlinewidth\":0,\"ticks\":\"\"}},\"marker\":{\"colorbar\":{\"outlinewidth\":0,\"ticks\":\"\"}}}],\"scattermapbox\":[{\"type\":\"scattermapbox\",\"marker\":{\"colorbar\":{\"outlinewidth\":0,\"ticks\":\"\"}}}],\"scatterternary\":[{\"type\":\"scatterternary\",\"marker\":{\"colorbar\":{\"outlinewidth\":0,\"ticks\":\"\"}}}],\"scattercarpet\":[{\"type\":\"scattercarpet\",\"marker\":{\"colorbar\":{\"outlinewidth\":0,\"ticks\":\"\"}}}],\"carpet\":[{\"aaxis\":{\"endlinecolor\":\"#2a3f5f\",\"gridcolor\":\"white\",\"linecolor\":\"white\",\"minorgridcolor\":\"white\",\"startlinecolor\":\"#2a3f5f\"},\"baxis\":{\"endlinecolor\":\"#2a3f5f\",\"gridcolor\":\"white\",\"linecolor\":\"white\",\"minorgridcolor\":\"white\",\"startlinecolor\":\"#2a3f5f\"},\"type\":\"carpet\"}],\"table\":[{\"cells\":{\"fill\":{\"color\":\"#EBF0F8\"},\"line\":{\"color\":\"white\"}},\"header\":{\"fill\":{\"color\":\"#C8D4E3\"},\"line\":{\"color\":\"white\"}},\"type\":\"table\"}],\"barpolar\":[{\"marker\":{\"line\":{\"color\":\"#E5ECF6\",\"width\":0.5},\"pattern\":{\"fillmode\":\"overlay\",\"size\":10,\"solidity\":0.2}},\"type\":\"barpolar\"}],\"pie\":[{\"automargin\":true,\"type\":\"pie\"}]},\"layout\":{\"autotypenumbers\":\"strict\",\"colorway\":[\"#636efa\",\"#EF553B\",\"#00cc96\",\"#ab63fa\",\"#FFA15A\",\"#19d3f3\",\"#FF6692\",\"#B6E880\",\"#FF97FF\",\"#FECB52\"],\"font\":{\"color\":\"#2a3f5f\"},\"hovermode\":\"closest\",\"hoverlabel\":{\"align\":\"left\"},\"paper_bgcolor\":\"white\",\"plot_bgcolor\":\"#E5ECF6\",\"polar\":{\"bgcolor\":\"#E5ECF6\",\"angularaxis\":{\"gridcolor\":\"white\",\"linecolor\":\"white\",\"ticks\":\"\"},\"radialaxis\":{\"gridcolor\":\"white\",\"linecolor\":\"white\",\"ticks\":\"\"}},\"ternary\":{\"bgcolor\":\"#E5ECF6\",\"aaxis\":{\"gridcolor\":\"white\",\"linecolor\":\"white\",\"ticks\":\"\"},\"baxis\":{\"gridcolor\":\"white\",\"linecolor\":\"white\",\"ticks\":\"\"},\"caxis\":{\"gridcolor\":\"white\",\"linecolor\":\"white\",\"ticks\":\"\"}},\"coloraxis\":{\"colorbar\":{\"outlinewidth\":0,\"ticks\":\"\"}},\"colorscale\":{\"sequential\":[[0.0,\"#0d0887\"],[0.1111111111111111,\"#46039f\"],[0.2222222222222222,\"#7201a8\"],[0.3333333333333333,\"#9c179e\"],[0.4444444444444444,\"#bd3786\"],[0.5555555555555556,\"#d8576b\"],[0.6666666666666666,\"#ed7953\"],[0.7777777777777778,\"#fb9f3a\"],[0.8888888888888888,\"#fdca26\"],[1.0,\"#f0f921\"]],\"sequentialminus\":[[0.0,\"#0d0887\"],[0.1111111111111111,\"#46039f\"],[0.2222222222222222,\"#7201a8\"],[0.3333333333333333,\"#9c179e\"],[0.4444444444444444,\"#bd3786\"],[0.5555555555555556,\"#d8576b\"],[0.6666666666666666,\"#ed7953\"],[0.7777777777777778,\"#fb9f3a\"],[0.8888888888888888,\"#fdca26\"],[1.0,\"#f0f921\"]],\"diverging\":[[0,\"#8e0152\"],[0.1,\"#c51b7d\"],[0.2,\"#de77ae\"],[0.3,\"#f1b6da\"],[0.4,\"#fde0ef\"],[0.5,\"#f7f7f7\"],[0.6,\"#e6f5d0\"],[0.7,\"#b8e186\"],[0.8,\"#7fbc41\"],[0.9,\"#4d9221\"],[1,\"#276419\"]]},\"xaxis\":{\"gridcolor\":\"white\",\"linecolor\":\"white\",\"ticks\":\"\",\"title\":{\"standoff\":15},\"zerolinecolor\":\"white\",\"automargin\":true,\"zerolinewidth\":2},\"yaxis\":{\"gridcolor\":\"white\",\"linecolor\":\"white\",\"ticks\":\"\",\"title\":{\"standoff\":15},\"zerolinecolor\":\"white\",\"automargin\":true,\"zerolinewidth\":2},\"scene\":{\"xaxis\":{\"backgroundcolor\":\"#E5ECF6\",\"gridcolor\":\"white\",\"linecolor\":\"white\",\"showbackground\":true,\"ticks\":\"\",\"zerolinecolor\":\"white\",\"gridwidth\":2},\"yaxis\":{\"backgroundcolor\":\"#E5ECF6\",\"gridcolor\":\"white\",\"linecolor\":\"white\",\"showbackground\":true,\"ticks\":\"\",\"zerolinecolor\":\"white\",\"gridwidth\":2},\"zaxis\":{\"backgroundcolor\":\"#E5ECF6\",\"gridcolor\":\"white\",\"linecolor\":\"white\",\"showbackground\":true,\"ticks\":\"\",\"zerolinecolor\":\"white\",\"gridwidth\":2}},\"shapedefaults\":{\"line\":{\"color\":\"#2a3f5f\"}},\"annotationdefaults\":{\"arrowcolor\":\"#2a3f5f\",\"arrowhead\":0,\"arrowwidth\":1},\"geo\":{\"bgcolor\":\"white\",\"landcolor\":\"#E5ECF6\",\"subunitcolor\":\"white\",\"showland\":true,\"showlakes\":true,\"lakecolor\":\"white\"},\"title\":{\"x\":0.05},\"mapbox\":{\"style\":\"light\"}}},\"polar\":{\"radialaxis\":{\"visible\":true,\"range\":[0,\"years_with_bank\"]}},\"showlegend\":false},                        {\"responsive\": true}                    ).then(function(){\n",
       "                            \n",
       "var gd = document.getElementById('4087498c-4df9-415b-a795-8ed0cdc0eeea');\n",
       "var x = new MutationObserver(function (mutations, observer) {{\n",
       "        var display = window.getComputedStyle(gd).display;\n",
       "        if (!display || display === 'none') {{\n",
       "            console.log([gd, 'removed!']);\n",
       "            Plotly.purge(gd);\n",
       "            observer.disconnect();\n",
       "        }}\n",
       "}});\n",
       "\n",
       "// Listen for the removal of the full notebook cells\n",
       "var notebookContainer = gd.closest('#notebook-container');\n",
       "if (notebookContainer) {{\n",
       "    x.observe(notebookContainer, {childList: true});\n",
       "}}\n",
       "\n",
       "// Listen for the clearing of the current output cell\n",
       "var outputEl = gd.closest('.output');\n",
       "if (outputEl) {{\n",
       "    x.observe(outputEl, {childList: true});\n",
       "}}\n",
       "\n",
       "                        })                };                });            </script>        </div>"
      ]
     },
     "metadata": {},
     "output_type": "display_data"
    }
   ],
   "source": [
    "fig = go.Figure()\n",
    "\n",
    "for cluster in range(radar_df.shape[0]):\n",
    "    fig.add_trace(go.Scatterpolar(\n",
    "        r=radar_df.iloc[cluster, :5],\n",
    "        theta=categories,\n",
    "        fill='toself',\n",
    "        name=f'Cluster {cluster}'\n",
    "    ))\n",
    "\n",
    "fig.update_layout(\n",
    "    polar=dict(radialaxis=dict(visible=True,\n",
    "                               range=[0, max(df_numeric_scaled_mm)])),\n",
    "    showlegend=False)"
   ]
  },
  {
   "cell_type": "markdown",
   "metadata": {},
   "source": [
    "## Hierarchical clustering"
   ]
  },
  {
   "cell_type": "markdown",
   "metadata": {},
   "source": [
    "## Ward method"
   ]
  },
  {
   "cell_type": "code",
   "execution_count": 224,
   "metadata": {},
   "outputs": [],
   "source": [
    "# aglomerative clustering\n",
    "from sklearn.cluster import AgglomerativeClustering\n",
    "\n",
    "# cluster hierarchy\n",
    "import scipy.cluster.hierarchy as sch\n",
    "\n",
    "# create an object\n",
    "ac_ward = AgglomerativeClustering(affinity='euclidean',\n",
    "                             linkage='ward',\n",
    "                             n_clusters = 3)\n",
    "\n",
    "\n"
   ]
  },
  {
   "cell_type": "code",
   "execution_count": 225,
   "metadata": {},
   "outputs": [],
   "source": [
    "y_hc = ac_ward.fit_predict(X)"
   ]
  },
  {
   "cell_type": "code",
   "execution_count": 226,
   "metadata": {},
   "outputs": [
    {
     "data": {
      "text/plain": [
       "1    272\n",
       "0    260\n",
       "2    215\n",
       "dtype: int64"
      ]
     },
     "execution_count": 226,
     "metadata": {},
     "output_type": "execute_result"
    }
   ],
   "source": [
    "pd.Series(ac_ward.labels_).value_counts()"
   ]
  },
  {
   "cell_type": "code",
   "execution_count": 227,
   "metadata": {},
   "outputs": [],
   "source": [
    "# define plot_dendrogram function\n",
    "def plot_dendrogram(X,method ='ward'):\n",
    "    dendrogram = sch.dendrogram(sch.linkage(X, method=method))\n",
    "    plt.title(\"Dendrogram\")\n",
    "    plt.ylabel(\"Euclidean distances\")\n",
    "    plt.xlabel('Points')\n",
    "    plt.show()\n"
   ]
  },
  {
   "cell_type": "code",
   "execution_count": 221,
   "metadata": {},
   "outputs": [
    {
     "data": {
      "image/png": "[encoded data removed]",
      "text/plain": [
       "<Figure size 640x480 with 1 Axes>"
      ]
     },
     "metadata": {},
     "output_type": "display_data"
    }
   ],
   "source": [
    "plot_dendrogram(X)"
   ]
  },
  {
   "cell_type": "markdown",
   "metadata": {},
   "source": [
    "## Complete method"
   ]
  },
  {
   "cell_type": "code",
   "execution_count": 245,
   "metadata": {},
   "outputs": [
    {
     "data": {
      "text/plain": [
       "0    536\n",
       "2    188\n",
       "1     23\n",
       "dtype: int64"
      ]
     },
     "execution_count": 245,
     "metadata": {},
     "output_type": "execute_result"
    }
   ],
   "source": [
    "\n",
    "ac_complete = AgglomerativeClustering(linkage='complete',n_clusters = 3)\n",
    "y_hc_complete = ac_complete.fit_predict(X)\n",
    "pd.Series(ac_complete.labels_).value_counts()"
   ]
  },
  {
   "cell_type": "code",
   "execution_count": 243,
   "metadata": {},
   "outputs": [],
   "source": [
    "# define plot_dendrogram function\n",
    "def plot_dendrogram_complete(X,method ='complete'):\n",
    "    dendrogram = sch.dendrogram(sch.linkage(X, method=method))\n",
    "    plt.title(\"Dendrogram\")\n",
    "    plt.ylabel(\"Euclidean distances\")\n",
    "    plt.xlabel('Points')\n",
    "    plt.show()\n"
   ]
  },
  {
   "cell_type": "code",
   "execution_count": 244,
   "metadata": {},
   "outputs": [
    {
     "data": {
      "image/png": "[encoded data removed]",
      "text/plain": [
       "<Figure size 640x480 with 1 Axes>"
      ]
     },
     "metadata": {},
     "output_type": "display_data"
    }
   ],
   "source": [
    "plot_dendrogram_complete(X)"
   ]
  },
  {
   "cell_type": "code",
   "execution_count": 246,
   "metadata": {},
   "outputs": [
    {
     "data": {
      "text/plain": [
       "1    488\n",
       "2    175\n",
       "0     84\n",
       "dtype: int64"
      ]
     },
     "execution_count": 246,
     "metadata": {},
     "output_type": "execute_result"
    }
   ],
   "source": [
    "\n",
    "ac_average = AgglomerativeClustering(linkage='average',n_clusters = 3)\n",
    "y_hc_average = ac_average.fit_predict(X)\n",
    "pd.Series(ac_average.labels_).value_counts()"
   ]
  },
  {
   "cell_type": "code",
   "execution_count": 247,
   "metadata": {},
   "outputs": [],
   "source": [
    "# define plot_dendrogram function\n",
    "def plot_dendrogram_average(X,method ='average'):\n",
    "    dendrogram = sch.dendrogram(sch.linkage(X, method=method))\n",
    "    plt.title(\"Dendrogram\")\n",
    "    plt.ylabel(\"Euclidean distances\")\n",
    "    plt.xlabel('Points')\n",
    "    plt.show()\n"
   ]
  },
  {
   "cell_type": "code",
   "execution_count": 248,
   "metadata": {},
   "outputs": [
    {
     "data": {
      "image/png": "[encoded data removed]",
      "text/plain": [
       "<Figure size 640x480 with 1 Axes>"
      ]
     },
     "metadata": {},
     "output_type": "display_data"
    }
   ],
   "source": [
    "plot_dendrogram_average(X)"
   ]
  },
  {
   "cell_type": "markdown",
   "metadata": {},
   "source": [
    "### We oberve that Ward method gives us the best result"
   ]
  }
 ],
 "metadata": {
  "kernelspec": {
   "display_name": "Python 3 (ipykernel)",
   "language": "python",
   "name": "python3"
  },
  "language_info": {
   "codemirror_mode": {
    "name": "ipython",
    "version": 3
   },
   "file_extension": ".py",
   "mimetype": "text/x-python",
   "name": "python",
   "nbconvert_exporter": "python",
   "pygments_lexer": "ipython3",
   "version": "3.9.13"
  }
 },
 "nbformat": 4,
 "nbformat_minor": 4
}
